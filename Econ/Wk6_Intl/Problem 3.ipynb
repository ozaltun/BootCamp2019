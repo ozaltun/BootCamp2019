{
 "cells": [
  {
   "cell_type": "code",
   "execution_count": 1,
   "metadata": {},
   "outputs": [],
   "source": [
    "import numpy as np\n",
    "import pandas as pd\n",
    "import matplotlib.pyplot as plt\n",
    "from linearmodels.iv import IV2SLS"
   ]
  },
  {
   "cell_type": "code",
   "execution_count": 8,
   "metadata": {},
   "outputs": [],
   "source": [
    "root = 'AER_Replication_Files/Public_Replication_Files/Data/temp.dta'"
   ]
  },
  {
   "cell_type": "code",
   "execution_count": 9,
   "metadata": {},
   "outputs": [],
   "source": [
    "df = pd.read_stata(root)"
   ]
  },
  {
   "cell_type": "code",
   "execution_count": 10,
   "metadata": {},
   "outputs": [
    {
     "data": {
      "text/plain": [
       "Index(['iso3', 'tariff_avg', 'tariff_wavg', 'code_TD', 'sum_con_val',\n",
       "       'sum_gen_val', 'country', 'cb', 'contig', 'comlang_off',\n",
       "       'comlang_ethno', 'distw', 'pop_o', 'tdiff', 'rta', 'BLcode', 'hc',\n",
       "       'lK_L', 'control_of_corruption', 'government_effectiveness',\n",
       "       'political_stability', 'regulatory_quality', 'rule_of_law',\n",
       "       'voice_and_accountability', 'cv', 'hl', 'tradefreedom',\n",
       "       'investmentfreedom', 'iso', 'avg_wage_usd', 'gross_production', 'pop',\n",
       "       'KI', 'KL', 'lp', 'ls', 'univ_degree', 'yr_sch', 'pop_BL', 'intserv',\n",
       "       'breg', 'manuf', 'rd_stock', 'gdp', 'rpshare', 'exp_cost', 'no_firms',\n",
       "       'wage_hc_adj', 'log_wage', 'log_rd', 'log_dist', 'log_imp', 'log_KL',\n",
       "       'log_yrsch', 'log_hl', 'yrsch_inv', 'log_tariff', 'log_pop',\n",
       "       'log_wage_adj', 'log_tao_wage', 'log_gdp', 'log_hc', 'log_servers',\n",
       "       'log_firms'],\n",
       "      dtype='object')"
      ]
     },
     "execution_count": 10,
     "metadata": {},
     "output_type": "execute_result"
    }
   ],
   "source": [
    "df.columns"
   ]
  },
  {
   "cell_type": "markdown",
   "metadata": {},
   "source": [
    "## Work that needs to be done\n",
    "\n",
    "1. Estimeate $\\hat{\\epsilon_j} = T_j(\\tau_{i,j}) w_j)^{-\\theta}$\n",
    "2. Calculate $f_{ij}^n matrix$\n",
    "3. Set params\n",
    "4. Run updating scheme"
   ]
  },
  {
   "cell_type": "markdown",
   "metadata": {},
   "source": [
    "## Step 1\n",
    "Solve the equation in Lecture 2, slide 22.\n",
    "\n",
    "$$log(\\hat{\\xi_j}) = \\beta_r log({R\\& D}_j) + \\beta_k log({capital}_j) + \\beta_C (control corruption)_j + \\beta_n log (no of firms) - \\theta * log (w_j) - \\theta(log(\\beta_c + \\beta_d log({distance}_{ij}) +{language}_{ij}log(\\beta_l)) + i_j$$\n",
    "\n",
    "For now, lets just plug in the values from the paper:"
   ]
  },
  {
   "cell_type": "code",
   "execution_count": 11,
   "metadata": {},
   "outputs": [],
   "source": [
    "columns = ['log_wage_adj','log_dist','log_rd', 'log_KL', 'comlang_ethno',\\\n",
    "           'control_of_corruption', 'log_firms']"
   ]
  },
  {
   "cell_type": "code",
   "execution_count": 12,
   "metadata": {},
   "outputs": [],
   "source": [
    "coefs = [-1.789, -0.621, 0.524, 0.425, 0.146, 0.621, -0.020, -11.068]"
   ]
  },
  {
   "cell_type": "code",
   "execution_count": 13,
   "metadata": {},
   "outputs": [
    {
     "data": {
      "text/plain": [
       "(243, 7)"
      ]
     },
     "execution_count": 13,
     "metadata": {},
     "output_type": "execute_result"
    }
   ],
   "source": [
    "df[columns].to_numpy().shape"
   ]
  },
  {
   "cell_type": "code",
   "execution_count": 31,
   "metadata": {},
   "outputs": [
    {
     "name": "stderr",
     "output_type": "stream",
     "text": [
      "/anaconda3/lib/python3.6/site-packages/ipykernel_launcher.py:4: SettingWithCopyWarning: \n",
      "A value is trying to be set on a copy of a slice from a DataFrame.\n",
      "Try using .loc[row_indexer,col_indexer] = value instead\n",
      "\n",
      "See the caveats in the documentation: http://pandas.pydata.org/pandas-docs/stable/indexing.html#indexing-view-versus-copy\n",
      "  after removing the cwd from sys.path.\n"
     ]
    }
   ],
   "source": [
    "import statsmodels.formula.api as sm\n",
    "df2 = df.dropna()\n",
    "exogdata = df2[columns]\n",
    "exogdata['const'] = [1]*df2.shape[0]"
   ]
  },
  {
   "cell_type": "code",
   "execution_count": 42,
   "metadata": {},
   "outputs": [
    {
     "data": {
      "text/html": [
       "<table class=\"simpletable\">\n",
       "<caption>OLS Regression Results</caption>\n",
       "<tr>\n",
       "  <th>Dep. Variable:</th>         <td>log_imp</td>     <th>  R-squared:         </th> <td>   0.797</td>\n",
       "</tr>\n",
       "<tr>\n",
       "  <th>Model:</th>                   <td>OLS</td>       <th>  Adj. R-squared:    </th> <td>   0.753</td>\n",
       "</tr>\n",
       "<tr>\n",
       "  <th>Method:</th>             <td>Least Squares</td>  <th>  F-statistic:       </th> <td>   17.94</td>\n",
       "</tr>\n",
       "<tr>\n",
       "  <th>Date:</th>             <td>Tue, 13 Aug 2019</td> <th>  Prob (F-statistic):</th> <td>1.96e-09</td>\n",
       "</tr>\n",
       "<tr>\n",
       "  <th>Time:</th>                 <td>12:09:04</td>     <th>  Log-Likelihood:    </th> <td> -51.892</td>\n",
       "</tr>\n",
       "<tr>\n",
       "  <th>No. Observations:</th>      <td>    40</td>      <th>  AIC:               </th> <td>   119.8</td>\n",
       "</tr>\n",
       "<tr>\n",
       "  <th>Df Residuals:</th>          <td>    32</td>      <th>  BIC:               </th> <td>   133.3</td>\n",
       "</tr>\n",
       "<tr>\n",
       "  <th>Df Model:</th>              <td>     7</td>      <th>                     </th>     <td> </td>   \n",
       "</tr>\n",
       "<tr>\n",
       "  <th>Covariance Type:</th>      <td>nonrobust</td>    <th>                     </th>     <td> </td>   \n",
       "</tr>\n",
       "</table>\n",
       "<table class=\"simpletable\">\n",
       "<tr>\n",
       "            <td></td>               <th>coef</th>     <th>std err</th>      <th>t</th>      <th>P>|t|</th>  <th>[0.025</th>    <th>0.975]</th>  \n",
       "</tr>\n",
       "<tr>\n",
       "  <th>log_wage_adj</th>          <td>   -0.9612</td> <td>    0.340</td> <td>   -2.831</td> <td> 0.008</td> <td>   -1.653</td> <td>   -0.269</td>\n",
       "</tr>\n",
       "<tr>\n",
       "  <th>log_dist</th>              <td>   -0.9480</td> <td>    0.438</td> <td>   -2.162</td> <td> 0.038</td> <td>   -1.841</td> <td>   -0.055</td>\n",
       "</tr>\n",
       "<tr>\n",
       "  <th>log_rd</th>                <td>    0.8591</td> <td>    0.125</td> <td>    6.862</td> <td> 0.000</td> <td>    0.604</td> <td>    1.114</td>\n",
       "</tr>\n",
       "<tr>\n",
       "  <th>log_KL</th>                <td>    0.0875</td> <td>    0.301</td> <td>    0.291</td> <td> 0.773</td> <td>   -0.526</td> <td>    0.701</td>\n",
       "</tr>\n",
       "<tr>\n",
       "  <th>comlang_ethno</th>         <td>    0.7968</td> <td>    0.378</td> <td>    2.108</td> <td> 0.043</td> <td>    0.027</td> <td>    1.567</td>\n",
       "</tr>\n",
       "<tr>\n",
       "  <th>control_of_corruption</th> <td>    0.1699</td> <td>    0.287</td> <td>    0.593</td> <td> 0.557</td> <td>   -0.414</td> <td>    0.754</td>\n",
       "</tr>\n",
       "<tr>\n",
       "  <th>log_firms</th>             <td>    0.0694</td> <td>    0.142</td> <td>    0.487</td> <td> 0.630</td> <td>   -0.221</td> <td>    0.360</td>\n",
       "</tr>\n",
       "<tr>\n",
       "  <th>const</th>                 <td>   -0.7623</td> <td>    1.816</td> <td>   -0.420</td> <td> 0.677</td> <td>   -4.461</td> <td>    2.937</td>\n",
       "</tr>\n",
       "</table>\n",
       "<table class=\"simpletable\">\n",
       "<tr>\n",
       "  <th>Omnibus:</th>       <td> 3.156</td> <th>  Durbin-Watson:     </th> <td>   1.920</td>\n",
       "</tr>\n",
       "<tr>\n",
       "  <th>Prob(Omnibus):</th> <td> 0.206</td> <th>  Jarque-Bera (JB):  </th> <td>   1.969</td>\n",
       "</tr>\n",
       "<tr>\n",
       "  <th>Skew:</th>          <td> 0.431</td> <th>  Prob(JB):          </th> <td>   0.374</td>\n",
       "</tr>\n",
       "<tr>\n",
       "  <th>Kurtosis:</th>      <td> 3.662</td> <th>  Cond. No.          </th> <td>    96.1</td>\n",
       "</tr>\n",
       "</table><br/><br/>Warnings:<br/>[1] Standard Errors assume that the covariance matrix of the errors is correctly specified."
      ],
      "text/plain": [
       "<class 'statsmodels.iolib.summary.Summary'>\n",
       "\"\"\"\n",
       "                            OLS Regression Results                            \n",
       "==============================================================================\n",
       "Dep. Variable:                log_imp   R-squared:                       0.797\n",
       "Model:                            OLS   Adj. R-squared:                  0.753\n",
       "Method:                 Least Squares   F-statistic:                     17.94\n",
       "Date:                Tue, 13 Aug 2019   Prob (F-statistic):           1.96e-09\n",
       "Time:                        12:09:04   Log-Likelihood:                -51.892\n",
       "No. Observations:                  40   AIC:                             119.8\n",
       "Df Residuals:                      32   BIC:                             133.3\n",
       "Df Model:                           7                                         \n",
       "Covariance Type:            nonrobust                                         \n",
       "=========================================================================================\n",
       "                            coef    std err          t      P>|t|      [0.025      0.975]\n",
       "-----------------------------------------------------------------------------------------\n",
       "log_wage_adj             -0.9612      0.340     -2.831      0.008      -1.653      -0.269\n",
       "log_dist                 -0.9480      0.438     -2.162      0.038      -1.841      -0.055\n",
       "log_rd                    0.8591      0.125      6.862      0.000       0.604       1.114\n",
       "log_KL                    0.0875      0.301      0.291      0.773      -0.526       0.701\n",
       "comlang_ethno             0.7968      0.378      2.108      0.043       0.027       1.567\n",
       "control_of_corruption     0.1699      0.287      0.593      0.557      -0.414       0.754\n",
       "log_firms                 0.0694      0.142      0.487      0.630      -0.221       0.360\n",
       "const                    -0.7623      1.816     -0.420      0.677      -4.461       2.937\n",
       "==============================================================================\n",
       "Omnibus:                        3.156   Durbin-Watson:                   1.920\n",
       "Prob(Omnibus):                  0.206   Jarque-Bera (JB):                1.969\n",
       "Skew:                           0.431   Prob(JB):                        0.374\n",
       "Kurtosis:                       3.662   Cond. No.                         96.1\n",
       "==============================================================================\n",
       "\n",
       "Warnings:\n",
       "[1] Standard Errors assume that the covariance matrix of the errors is correctly specified.\n",
       "\"\"\""
      ]
     },
     "execution_count": 42,
     "metadata": {},
     "output_type": "execute_result"
    }
   ],
   "source": [
    "reg1 = sm.OLS(endog = df2['log_imp'], exog = exogdata).fit()\n",
    "reg1.summary()"
   ]
  },
  {
   "cell_type": "code",
   "execution_count": 18,
   "metadata": {},
   "outputs": [
    {
     "data": {
      "text/plain": [
       "Index(['iso3', 'tariff_avg', 'tariff_wavg', 'code_TD', 'sum_con_val',\n",
       "       'sum_gen_val', 'country', 'cb', 'contig', 'comlang_off',\n",
       "       'comlang_ethno', 'distw', 'pop_o', 'tdiff', 'rta', 'BLcode', 'hc',\n",
       "       'lK_L', 'control_of_corruption', 'government_effectiveness',\n",
       "       'political_stability', 'regulatory_quality', 'rule_of_law',\n",
       "       'voice_and_accountability', 'cv', 'hl', 'tradefreedom',\n",
       "       'investmentfreedom', 'iso', 'avg_wage_usd', 'gross_production', 'pop',\n",
       "       'KI', 'KL', 'lp', 'ls', 'univ_degree', 'yr_sch', 'pop_BL', 'intserv',\n",
       "       'breg', 'manuf', 'rd_stock', 'gdp', 'rpshare', 'exp_cost', 'no_firms',\n",
       "       'wage_hc_adj', 'log_wage', 'log_rd', 'log_dist', 'log_imp', 'log_KL',\n",
       "       'log_yrsch', 'log_hl', 'yrsch_inv', 'log_tariff', 'log_pop',\n",
       "       'log_wage_adj', 'log_tao_wage', 'log_gdp', 'log_hc', 'log_servers',\n",
       "       'log_firms'],\n",
       "      dtype='object')"
      ]
     },
     "execution_count": 18,
     "metadata": {},
     "output_type": "execute_result"
    }
   ],
   "source": [
    "df.columns"
   ]
  },
  {
   "cell_type": "code",
   "execution_count": null,
   "metadata": {},
   "outputs": [],
   "source": []
  }
 ],
 "metadata": {
  "kernelspec": {
   "display_name": "Python 3",
   "language": "python",
   "name": "python3"
  },
  "language_info": {
   "codemirror_mode": {
    "name": "ipython",
    "version": 3
   },
   "file_extension": ".py",
   "mimetype": "text/x-python",
   "name": "python",
   "nbconvert_exporter": "python",
   "pygments_lexer": "ipython3",
   "version": "3.6.4"
  }
 },
 "nbformat": 4,
 "nbformat_minor": 2
}
