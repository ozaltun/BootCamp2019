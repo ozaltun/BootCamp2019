{
 "cells": [
  {
   "cell_type": "markdown",
   "metadata": {},
   "source": [
    "## Problem 1 - Asset Market Equilibrium\n",
    "\n",
    "Suppose there are two periods and S states of the world in the second period. There is a single perishable consumption good. There are H agents with endowments $e^h = (e_0^h, e^{\\text{~},h}) \\in IR_+^{S+1}$ and identical von Neumann-Morgenstern utility:\n"
   ]
  },
  {
   "cell_type": "markdown",
   "metadata": {},
   "source": [
    "The budget constraints can be defined as:\n",
    "\n",
    "\\begin{equation}\n",
    "c_0^h = e_0^h -q_1 \\theta_1^h -q_2 \\theta_2^n\n",
    "\\end{equation}\n",
    "\n",
    "\\begin{equation}\n",
    "c_s^h = e_s^h + \\theta_1^h A_s^1 +\\theta_2^h A_s^2\n",
    "\\end{equation}\n",
    "\n",
    "where $q_1$ and $q_2$ are the market clearing prices. We also know since this is a closed market, the following equations must be true:\n",
    "\n",
    "$$ \\theta_1^1 + \\theta_1^2 = 0$$ and $$ \\theta_2^1 + \\theta_2^2=0 $$\n",
    "\n",
    "\n",
    "Using the values given for $e_0^h$ and inputting the budget constraints into the utility function, we get:\n",
    "\n",
    "\\begin{equation}\n",
    "  U^h(c) = v(1- q_1 \\theta_1^h -q_2 \\theta_2^n) + \\frac{1}{S} \\sum_{s=1}^{S} v(e_s^h + \\theta_1^h A_s^1 +\\theta_2^h A_s^2)\n",
    "\\end{equation}\n",
    "\n",
    "The first order conditions for the utility function, using the fact that $v(c) = \\frac{c^{1-\\gamma}}{1-\\gamma}$:\n",
    "\n",
    "\\begin{equation}\n",
    "\\frac{\\partial U^h(c)}{\\partial \\theta_1^h} = (1- q_1 \\theta_1^h -q_2 \\theta_2^h)^{-\\gamma}(-q_1) + \\frac{1}{S} \\sum_{s=1}^{S}(e_s^h + \\theta_1^h A_s^1 +\\theta_2^h A_s^2)^{-\\gamma}*(A_s^1)=0\n",
    "\\end{equation}\n",
    "\n",
    "\\begin{equation}\n",
    "\\frac{\\partial U^h(c)}{\\partial \\theta_2^h} = (1- q_1 \\theta_1^h -q_2 \\theta_2^h)^{-\\gamma}(-q_2) + \\frac{1}{S} \\sum_{s=1}^{S}(e_s^h + \\theta_1^h A_s^1 +\\theta_2^h A_s^2)^{-\\gamma}*(A_s^2)=0\n",
    "\\end{equation}\n",
    "\n",
    "There are 6 equations and 6 unknown, but $\\theta_n^1$ and  $\\theta_n^2$ for $n={1,2}$ are linearly correlated, which means we have 4 linearly independent equations with the 4 unknowns.  These 4 equations with 4 unknowns, replacing $\\theta_1^1$ and $\\theta_2^1$ with $-\\theta_1^2$ and $\\theta_2^2$ are:\n",
    "\n",
    "\n",
    "\\begin{equation}\n",
    "(1 + q_1 \\theta_1^2 +q_2 \\theta_2^2)^{-\\gamma}(-q_1) + \\frac{1}{S} \\sum_{s=1}^{S}(e_s^1 - \\theta_1^2 A_s^1 -\\theta_2^2 A_s^2)^{-\\gamma}*(A_s^1)=0\n",
    "\\end{equation}\n",
    "\n",
    "\\begin{equation}\n",
    "(1- q_1 \\theta_1^2 -q_2 \\theta_2^2)^{-\\gamma}(-q_1) + \\frac{1}{S} \\sum_{s=1}^{S}(e_s^2 + \\theta_1^2 A_s^1 +\\theta_2^2 A_s^2)^{-\\gamma}*(A_s^1)=0\n",
    "\\end{equation}\n",
    "\n",
    "\\begin{equation}\n",
    "(1 + q_1 \\theta_1^2 +q_2 \\theta_2^2)^{-\\gamma}(-q_2) + \\frac{1}{S} \\sum_{s=1}^{S}(e_s^1 - \\theta_1^2 A_s^1 -\\theta_2^2 A_s^2)^{-\\gamma}*(A_s^2)=0\n",
    "\\end{equation}\n",
    "\n",
    "\n",
    "\\begin{equation}\n",
    "(1- q_1 \\theta_1^2 -q_2 \\theta_2^2)^{-\\gamma}(-q_2) + \\frac{1}{S} \\sum_{s=1}^{S}(e_s^2 + \\theta_1^2 A_s^1 +\\theta_2^2 A_s^2)^{-\\gamma}*(A_s^2)=0\n",
    "\\end{equation}\n",
    "\n",
    "We can now solve for the four unknowns $q_1, q_2, \\theta_1^2, \\theta_2^2$:"
   ]
  },
  {
   "cell_type": "markdown",
   "metadata": {},
   "source": [
    "The utility function of each agent is\n",
    "\n",
    "\\begin{equation}\n",
    "  U^h(c) = v(c_0^h) + \\frac{1}{S} \\sum_{s=1}^{S} v(c_s^h), \\text{    where } v(c) = \\frac{c^{1-\\gamma}}{1-\\gamma}\\text{ , }\\gamma >1\n",
    "\\end{equation}\n",
    "\n",
    "We are given that H = 2, S = 4, $e^1$ = (1, 1, 2, 1, 2), $e^2$ = (1, 3, 1, 3, 1), J = 2 with $A^1$ = (1, 1, 1, 1), $A^2$ =(1, 1, 1.5, 1.5)."
   ]
  },
  {
   "cell_type": "code",
   "execution_count": 1,
   "metadata": {},
   "outputs": [],
   "source": [
    "%matplotlib inline\n",
    "import numpy as np\n",
    "import pandas as pd\n",
    "import matplotlib.pyplot as plt\n",
    "from scipy import optimize"
   ]
  },
  {
   "cell_type": "code",
   "execution_count": 2,
   "metadata": {},
   "outputs": [],
   "source": [
    "def equations_4_helper(q, theta):\n",
    "    output = []\n",
    "    \n",
    "    A = {0:np.array([1., 1., 1., 1.]), 1:np.array([1., 1., 1.5, 1.5])}\n",
    "    e_s = {0:np.array([1., 2., 1., 2.]),1: np.array([3., 1., 3., 1.])}\n",
    "    S = 4\n",
    "    \n",
    "    part1 = {}\n",
    "    part1[0] = (1+q[0]*theta[0] + q[1]*theta[1]) ** (-gamma)\n",
    "    part1[1] = (1-q[0]*theta[0] - q[1]*theta[1]) ** (-gamma)\n",
    "    \n",
    "    part2 = {}\n",
    "    part2[0] = (e_s[0] - theta[0]*A[0] - theta[1]*A[1]) ** (-gamma)\n",
    "    part2[1] = (e_s[1] + theta[0]*A[0] + theta[1]*A[1]) ** (-gamma)\n",
    "    for goods in range(2):\n",
    "        for agent in range(2):\n",
    "            output.append(part1[agent]*(-q[goods]) + 1/S *(part2[agent]*A[goods]).sum())\n",
    "    \n",
    "    \n",
    "    return output\n",
    "\n",
    "\n",
    "def equations_4(x):\n",
    "    q, theta = np.split(x, 2)\n",
    "    output_list = equations_4_helper(q, theta)\n",
    "    return output_list\n",
    "\n"
   ]
  },
  {
   "cell_type": "code",
   "execution_count": 9,
   "metadata": {},
   "outputs": [],
   "source": [
    "def equations_6_helper(q, theta):\n",
    "    output = []\n",
    "    \n",
    "    A = {0:np.array([1., 1., 1., 1.]), 1:np.array([1., 1., 1.5, 1.5])}\n",
    "    e_s = {0:np.array([1., 2., 1., 2.]),1: np.array([3., 1., 3., 1.])}\n",
    "    S = 4\n",
    "    \n",
    "    part1 = {}\n",
    "    part1[0] = (1-q[0]*theta[0] - q[1]*theta[1]) ** (-gamma)\n",
    "    part1[1] = (1-q[0]*theta[2] -q[1]*theta[3]) ** (-gamma)\n",
    "    \n",
    "    part2 = {}\n",
    "    part2[0] = (e_s[0] + theta[0]*A[0] + theta[1]*A[1]) ** (-gamma)\n",
    "    part2[1] = (e_s[1] + theta[2]*A[0] + theta[3]*A[1]) ** (-gamma)\n",
    "    for goods in range(2):\n",
    "        for agent in range(2):\n",
    "            output.append(part1[agent]*(-q[goods]) + 1/S *(part2[agent]*A[goods]).sum())\n",
    "    \n",
    "    output.append(theta[0]+theta[2])\n",
    "    output.append(theta[1]+theta[3])\n",
    "    return output\n",
    "\n",
    "\n",
    "def equations_6(x):\n",
    "    q = x[0:2]\n",
    "    theta = x[2:]\n",
    "    output_list = equations_6_helper(q, theta)\n",
    "    return output_list\n",
    "\n",
    "\n"
   ]
  },
  {
   "cell_type": "code",
   "execution_count": 10,
   "metadata": {},
   "outputs": [
    {
     "data": {
      "text/plain": [
       "array([ 5.89777656e-01,  7.37222070e-01,  1.95406656e-02, -1.62441222e-12,\n",
       "       -1.95406656e-02,  1.62441222e-12])"
      ]
     },
     "execution_count": 10,
     "metadata": {},
     "output_type": "execute_result"
    }
   ],
   "source": [
    "gamma = 2.\n",
    "sol =optimize.fsolve(equations_6, np.array([0.5, 0.5, 0.5, 0.5, 0.5, 0.5]))\n",
    "sol"
   ]
  },
  {
   "cell_type": "code",
   "execution_count": 9,
   "metadata": {},
   "outputs": [
    {
     "data": {
      "text/plain": [
       "array([ 5.18661303e-01,  6.48326628e-01,  4.02982343e-03,  1.59620982e-10,\n",
       "       -4.02982343e-03, -1.59620982e-10])"
      ]
     },
     "execution_count": 9,
     "metadata": {},
     "output_type": "execute_result"
    }
   ],
   "source": [
    "gamma = 4.\n",
    "sol =optimize.fsolve(equations_6, np.array([0.5, 0.5, 0.5, 0.5, 0.5, 0.5]))\n",
    "sol"
   ]
  },
  {
   "cell_type": "code",
   "execution_count": 10,
   "metadata": {},
   "outputs": [
    {
     "data": {
      "text/plain": [
       "array([ 5.01014401e-01,  6.26268001e-01,  1.56094144e-04,  2.42743177e-12,\n",
       "       -1.56094144e-04, -2.42743177e-12])"
      ]
     },
     "execution_count": 10,
     "metadata": {},
     "output_type": "execute_result"
    }
   ],
   "source": [
    "gamma = 8.\n",
    "sol =optimize.fsolve(equations_6,np.array([0.5, 0.5, 0.5, 0.5, 0.5, 0.5]))\n",
    "sol"
   ]
  },
  {
   "cell_type": "code",
   "execution_count": 14,
   "metadata": {},
   "outputs": [
    {
     "data": {
      "text/plain": [
       "array([ 5.00000000e-01,  6.25000000e-01, -8.37571385e-15, -1.05459378e-13,\n",
       "        8.37570955e-15,  1.05459381e-13])"
      ]
     },
     "execution_count": 14,
     "metadata": {},
     "output_type": "execute_result"
    }
   ],
   "source": [
    "gamma = 166.\n",
    "sol =optimize.fsolve(equations_6, np.zeros(6)+0.01)\n",
    "sol"
   ]
  },
  {
   "cell_type": "markdown",
   "metadata": {},
   "source": [
    "This gives us the q values of $q_1 = [0.5,0.59]$ and $q_2 = [0.625, 0.737]$ and $\\theta_1^2 = [-0.02 ,-1.3*10^{-17}]$, and $\\theta_2^2 = 0$  "
   ]
  },
  {
   "cell_type": "markdown",
   "metadata": {},
   "source": [
    "## Problem 2 - Dynamic programming\n",
    "\n",
    "Use value function iteration to write a computer program that cannot lose in Tic-Tac-Toe"
   ]
  },
  {
   "cell_type": "markdown",
   "metadata": {},
   "source": [
    "## Problem 3 - Ramsey I\n",
    "\n",
    "Suppose there is a single agent with $\\beta = 0.9$, v(c) = log(c), there are two states which are iid with equal probabilities $\\pi_1 = \\pi_2 = 0.5$ and the firm’s production function is:\n",
    "\n",
    "$$ f(k,l) = 0.9k^{0.3} +0.3k \\text{,   } f(k,2) = 1.1k^{0.3} +0.9k$$\n",
    "\n",
    "Discretize the possible capital values to 50 points. Use value function iteration to compute the policy functions (one for each shock) for consumption and investment. Plot these functions. Now use 500 for admissible capital levels and redo the exercise."
   ]
  },
  {
   "cell_type": "code",
   "execution_count": null,
   "metadata": {},
   "outputs": [],
   "source": []
  }
 ],
 "metadata": {
  "kernelspec": {
   "display_name": "Python 3",
   "language": "python",
   "name": "python3"
  },
  "language_info": {
   "codemirror_mode": {
    "name": "ipython",
    "version": 3
   },
   "file_extension": ".py",
   "mimetype": "text/x-python",
   "name": "python",
   "nbconvert_exporter": "python",
   "pygments_lexer": "ipython3",
   "version": "3.6.3"
  }
 },
 "nbformat": 4,
 "nbformat_minor": 2
}
