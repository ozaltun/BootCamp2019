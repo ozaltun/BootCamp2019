{
 "cells": [
  {
   "cell_type": "code",
   "execution_count": 22,
   "metadata": {},
   "outputs": [],
   "source": [
    "import numpy as np\n",
    "import matplotlib.pyplot as plt\n",
    "from scipy.optimize import fsolve"
   ]
  },
  {
   "cell_type": "code",
   "execution_count": 29,
   "metadata": {},
   "outputs": [],
   "source": [
    "def get_L(n_array):\n",
    "    L = n_array.sum()\n",
    "    return L\n",
    "\n",
    "def get_K(b_array):\n",
    "    K = b_array[1:].sum()\n",
    "    return K\n",
    "\n",
    "def get_u(c, p):\n",
    "    sigma = p['sigma']\n",
    "    u = (c**(1-sigma) -1)/(1-sigma)\n",
    "    return u\n",
    "\n",
    "def u_prime(c, p):\n",
    "    sigma = p['sigma']\n",
    "    u_prime = c**(-sigma)\n",
    "    return u_prime\n",
    "    \n",
    "    return u_prime\n",
    "def get_w(K, L, p):\n",
    "    A = p['A']\n",
    "    alpha = p['alpha']\n",
    "    w = (1-alpha)*A*(K/L)**alpha\n",
    "    return w\n",
    "\n",
    "def get_r(K, L, p):\n",
    "    alpha = p['alpha']\n",
    "    A = p ['A']\n",
    "    delta = p['delta']\n",
    "    r = alpha*A*(L/K)**(1-alpha) - delta\n",
    "    \n",
    "    return r\n",
    "\n",
    "\n",
    "def get_c(b, p, f):\n",
    "    n = p['n']\n",
    "    w = f['w'](f['K'](b), f['L'](n), p)\n",
    "    r = f['r'](f['K'](b), f['L'](n), p)\n",
    "    \n",
    "    c = np.zeros(S)\n",
    "    for i in range(b.shape[0]-1):\n",
    "        c[i] = (1+r)*b[i]+w*n[i]-b[i+1]\n",
    "        \n",
    "        \n",
    "    return c\n",
    "\n"
   ]
  },
  {
   "cell_type": "code",
   "execution_count": 30,
   "metadata": {},
   "outputs": [],
   "source": [
    "\n",
    "def equations_ss_b(b, p, f):\n",
    "    \"\"\" Takes in a guess for b and a dictionary of functions \n",
    "    f and a dictionary of elemtns p.\"\"\"\n",
    "    b = np.insert(b, 0, 0)\n",
    "    n = p['n']\n",
    "    w = f['w'](f['K'](b), f['L'](n), p)\n",
    "    r = f['r'](f['K'](b), f['L'](n), p)\n",
    "    euler_list = []\n",
    "    \n",
    "    # Adding the first case where 1 = 0\n",
    "    e_l = f['u_p'](w*n[0]+(1+r)*0-b[1], p)\n",
    "    e_r = p['beta']*(1+r)*f['u_p'](w*n[1] + (1+r)*b[1]-b[2], p)\n",
    "    \n",
    "    e = e_l - e_r\n",
    "    \n",
    "    euler_list.append(e)\n",
    "\n",
    "    # Adding all other cases\n",
    "    for i in range(1, S-2):\n",
    "\n",
    "        e_l = f['u_p'](w*n[i]+(1+r)*b[i]-b[i+1], p)\n",
    "        e_r = p['beta']*(1+r)*f['u_p'](w*n[i+1] + (1+r)*b[i+1]-b[i+2], p)\n",
    "\n",
    "        e = e_l - e_r\n",
    "        \n",
    "        euler_list.append(e)\n",
    "    \n",
    "    # Adding the case where S+1 =0\n",
    "    e_l = f['u_p'](w*n[S-2]+(1+r)*b[S-2]-b[S-1], p)\n",
    "    e_r = p['beta']*(1+r)*f['u_p'](w*n[S-1] + (1+r)*b[S-1], p)\n",
    "\n",
    "    e = e_l - e_r\n",
    "\n",
    "    euler_list.append(e)\n",
    "\n",
    "    return euler_list\n",
    "    \n",
    "def get_ss_b(bvec_guess, p, f):\n",
    "    n = p['n']\n",
    "    b_ss = np.zeros_like(bvec_guess)\n",
    "    F = lambda b: equations_ss_b(b, p, f)\n",
    "    b_ss[1:] = fsolve(F, bvec_guess[1:])\n",
    "    b_ss[0] = 0\n",
    "    c_ss = f['c'](np.insert(b_ss, -1, 0), p, f)\n",
    "    w_ss = f['w'](f['K'](b_ss), f['L'](n), p)\n",
    "    r_ss = f['r'](f['K'](b_ss), f['L'](n), p)\n",
    "    \n",
    "    return b_ss, c_ss, w_ss, r_ss\n",
    "\n",
    "\n"
   ]
  },
  {
   "cell_type": "code",
   "execution_count": 31,
   "metadata": {},
   "outputs": [],
   "source": [
    "def feasible(bvec_guess, f_params, functions):\n",
    "    b_ss, c_ss, w_ss, r_ss = get_ss_b(bvec_guess, f_params, functions)\n",
    "    K_cnstr = np.array([False])\n",
    "    K_cnstr[0] = True if functions['K'](b_ss) <= 0 else False\n",
    "    \n",
    "    c_cnstr = c_ss\n",
    "    c_cnstr = c_cnstr < 0 \n",
    "    \n",
    "    b_cnstr = np.array([False]*S)\n",
    "    \n",
    "    b_cnstr[1] = True if c_cnstr[0] or (c_cnstr[1]) else False\n",
    "    b_cnstr[-1] = True if c_cnstr[-1] or (c_cnstr[-2]) else False\n",
    "    \n",
    "    return b_cnstr[1:], c_cnstr, K_cnstr"
   ]
  },
  {
   "cell_type": "code",
   "execution_count": 32,
   "metadata": {},
   "outputs": [],
   "source": [
    "S = 80\n",
    "functions = {'L':get_L, 'K':get_K, 'r':get_r, 'u':get_u, 'u_p':u_prime, \n",
    "             'w':get_w,'c':get_c}\n",
    "\n",
    "params = {'beta':0.96**(80/S), 'delta': 1- (1-0.05)**(80/S), 'sigma':3 , \\\n",
    "          'A':1, 'alpha':0.35, 'n':np.array([1]*(int(2*S/3)+1) +[.2]*(int(S-2*S/3)))}"
   ]
  },
  {
   "cell_type": "code",
   "execution_count": 33,
   "metadata": {},
   "outputs": [],
   "source": [
    "b_ss, c_ss, w_ss, r_ss = get_ss_b(np.ones(80)*0.1, params, functions)"
   ]
  },
  {
   "cell_type": "code",
   "execution_count": 36,
   "metadata": {},
   "outputs": [
    {
     "data": {
      "image/png": "[encoded data removed]",
      "text/plain": [
       "<matplotlib.figure.Figure at 0x11a9416a0>"
      ]
     },
     "metadata": {},
     "output_type": "display_data"
    }
   ],
   "source": [
    "plt.plot(range(1, 81), b_ss)\n",
    "plt.plot(range(1, 81), c_ss)\n",
    "plt.show()"
   ]
  },
  {
   "cell_type": "code",
   "execution_count": null,
   "metadata": {},
   "outputs": [],
   "source": []
  }
 ],
 "metadata": {
  "kernelspec": {
   "display_name": "Python 3",
   "language": "python",
   "name": "python3"
  },
  "language_info": {
   "codemirror_mode": {
    "name": "ipython",
    "version": 3
   },
   "file_extension": ".py",
   "mimetype": "text/x-python",
   "name": "python",
   "nbconvert_exporter": "python",
   "pygments_lexer": "ipython3",
   "version": "3.6.3"
  }
 },
 "nbformat": 4,
 "nbformat_minor": 2
}
