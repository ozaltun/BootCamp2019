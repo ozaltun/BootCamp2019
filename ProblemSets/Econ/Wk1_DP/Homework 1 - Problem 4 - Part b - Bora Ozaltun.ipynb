{
 "cells": [
  {
   "cell_type": "code",
   "execution_count": 1,
   "metadata": {},
   "outputs": [],
   "source": [
    "import numpy as np\n",
    "import pandas as pd\n",
    "import matplotlib.pyplot as plt\n",
    "from scipy.interpolate import interp1d\n",
    "from scipy import integrate\n",
    "from scipy import optimize\n",
    "from scipy import stats\n",
    "from scipy import interpolate"
   ]
  },
  {
   "cell_type": "code",
   "execution_count": 2,
   "metadata": {},
   "outputs": [],
   "source": [
    "def u(c):\n",
    "    return np.log(c)\n",
    "\n",
    "def du_dc(c):\n",
    "    return 1./c\n",
    "# f\n",
    "def f(A, k):\n",
    "    return np.exp(A)*k**0.3 + 0.5*k\n",
    "\n",
    "# Derivative of f\n",
    "def df_dx(A, k):\n",
    "    return 0.3*np.exp(A)*k**(-0.7) + 0.5\n"
   ]
  },
  {
   "cell_type": "code",
   "execution_count": 3,
   "metadata": {},
   "outputs": [],
   "source": [
    "def evaluate_expectation(g, a_today, a_lb, a_ub, num_quad_nodes, std_dev_eps=0.01):\n",
    "    eps_lb = a_lb - 0.9*a_today\n",
    "    eps_ub = a_ub - 0.9*a_today\n",
    "    \n",
    "    eps_grid = np.linspace(eps_lb, eps_ub, num_quad_nodes)\n",
    "    a_next_grid = 0.9*a_today + eps_grid\n",
    "    \n",
    "    g_next_grid = g(a_next_grid)[0,:]\n",
    "    #print('gn', g_next_grid)\n",
    "    \n",
    "    ## Gaussian quadrature\n",
    "    normal = lambda x: stats.norm.cdf(x, scale = std_dev_eps)\n",
    "    \n",
    "    weight_grid = np.zeros(num_quad_nodes)\n",
    "    weight_grid[0] = normal((eps_grid[0]+eps_grid[1])/2)\n",
    "    weight_grid[-1] = 1- normal((eps_grid[-2]+eps_grid[-1])/2)\n",
    "    \n",
    "    for i in range(1,num_quad_nodes-1):\n",
    "        weight_grid[i] = normal((eps_grid[i]+eps_grid[i+1])/2)- \\\n",
    "        normal((eps_grid[i-1]+eps_grid[i])/2)\n",
    "    \n",
    "    #print(weight_grid)\n",
    "    integral = np.sum(weight_grid *g_next_grid)\n",
    "    \n",
    "    return integral\n",
    "  \n",
    "def interpolator(A_vec, k_vec, g_vec):\n",
    "    tck = interpolate.bisplrep(A_vec, k_vec, g_vec, kx= 3, ky = 3)\n",
    "    return lambda A, k: interpolate.bisplev(A, k ,tck)\n",
    "\n"
   ]
  },
  {
   "cell_type": "code",
   "execution_count": 4,
   "metadata": {},
   "outputs": [],
   "source": [
    "k_min = 0.1\n",
    "k_max = 16.00\n",
    "a_lb = -1.\n",
    "a_ub = 1.\n",
    "max_iter = 1000\n",
    "N = 20\n",
    "N2 = 20\n",
    "beta = 0.9\n",
    "num_quad_nodes = 6 ## Not sure\n",
    "k_grid = np.linspace(k_min, k_max, N)\n",
    "A_grid =np.linspace(a_lb, a_ub, N2)\n",
    "\n",
    "kk, AA = np.meshgrid(A_grid, k_grid)\n",
    "\n",
    "kk = kk.T\n",
    "AA = AA.T\n",
    "\n",
    "\n",
    "g_matrix = np.zeros((N, N2))+k_min\n",
    "\n",
    "ghat = interpolator(AA.flatten(), kk.flatten(), g_matrix.flatten())"
   ]
  },
  {
   "cell_type": "code",
   "execution_count": 5,
   "metadata": {},
   "outputs": [],
   "source": [
    "def euler_residual(k, a, kprime, ghat):\n",
    "    \n",
    "    c = f(k, a) - kprime\n",
    "\n",
    "    kprimeprime = lambda a_next : ghat(a_next, kprime)\n",
    "    c_next = lambda a_next : f(a_next, kprime) - kprimeprime(a_next)\n",
    "    fprime_next = lambda a_next : df_dx(a_next, kprime)\n",
    "    integrand = lambda a_next : du_dc(c_next(a_next)) * fprime_next(a_next)\n",
    "    \n",
    "    expectation = evaluate_expectation(integrand, a, a_lb, a_ub, num_quad_nodes)\n",
    "    euler_residual = du_dc(c) - beta * expectation ## du_dc\n",
    "\n",
    "    return euler_residual"
   ]
  },
  {
   "cell_type": "code",
   "execution_count": 6,
   "metadata": {},
   "outputs": [],
   "source": [
    "def single_pti(ghat):\n",
    "    g_matrix = np.zeros((N, N2))\n",
    "    for i in range(N):\n",
    "        #print(i)\n",
    "        for j in range(N2):\n",
    "            #print(j)\n",
    "            \n",
    "            k_curr = kk[i, j]\n",
    "            A_curr = AA[i, j]\n",
    "            \n",
    "            kguess = ghat(A_curr, k_curr)\n",
    "            \n",
    "            euler_residual_single = lambda kprime: euler_residual(k_curr, A_curr, kprime, ghat)\n",
    "            \n",
    "            g_matrix[i,j] = optimize.fsolve(euler_residual_single, kguess)\n",
    "    \n",
    "    return g_matrix"
   ]
  },
  {
   "cell_type": "code",
   "execution_count": 7,
   "metadata": {},
   "outputs": [
    {
     "name": "stdout",
     "output_type": "stream",
     "text": [
      "Converged!\n"
     ]
    }
   ],
   "source": [
    "for i in range(max_iter):\n",
    "    curr_g = single_pti(ghat)\n",
    "    diff = g_matrix-curr_g\n",
    "    g_matrix = curr_g.copy()\n",
    "    ghat = interpolator(AA.flatten(), kk.flatten(), g_matrix.flatten())\n",
    "    \n",
    "    if np.abs(diff).max() < 1e-10:\n",
    "        print('Converged!')\n",
    "        break\n",
    "    \n",
    "    \n",
    "    "
   ]
  },
  {
   "cell_type": "code",
   "execution_count": 8,
   "metadata": {},
   "outputs": [
    {
     "data": {
      "image/png": "[encoded data removed]",
      "text/plain": [
       "<matplotlib.figure.Figure at 0x11a7aa908>"
      ]
     },
     "metadata": {},
     "output_type": "display_data"
    }
   ],
   "source": [
    "plt.imshow(g_matrix)\n",
    "plt.xlabel('k')\n",
    "plt.ylabel('A')\n",
    "plt.show()"
   ]
  },
  {
   "cell_type": "code",
   "execution_count": 9,
   "metadata": {},
   "outputs": [
    {
     "data": {
      "image/png": "[encoded data removed]",
      "text/plain": [
       "<matplotlib.figure.Figure at 0x11c834940>"
      ]
     },
     "metadata": {},
     "output_type": "display_data"
    }
   ],
   "source": [
    "plt.plot(g_matrix[0,:], label='A_min')\n",
    "plt.plot(g_matrix[10,:], label='A_mean')\n",
    "plt.plot(g_matrix[19, :], label= 'A_max')\n",
    "plt.xlabel('k')\n",
    "plt.ylabel('A')\n",
    "plt.legend()\n",
    "plt.show()"
   ]
  }
 ],
 "metadata": {
  "kernelspec": {
   "display_name": "Python 3",
   "language": "python",
   "name": "python3"
  },
  "language_info": {
   "codemirror_mode": {
    "name": "ipython",
    "version": 3
   },
   "file_extension": ".py",
   "mimetype": "text/x-python",
   "name": "python",
   "nbconvert_exporter": "python",
   "pygments_lexer": "ipython3",
   "version": "3.6.3"
  }
 },
 "nbformat": 4,
 "nbformat_minor": 2
}
