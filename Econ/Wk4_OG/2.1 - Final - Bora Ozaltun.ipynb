{
 "cells": [
  {
   "cell_type": "code",
   "execution_count": 1,
   "metadata": {},
   "outputs": [],
   "source": [
    "import numpy as np\n",
    "import matplotlib.pyplot as plt\n",
    "from scipy.optimize import fsolve"
   ]
  },
  {
   "cell_type": "code",
   "execution_count": 2,
   "metadata": {},
   "outputs": [],
   "source": [
    "def get_L(n_array):\n",
    "    L = n_array.sum()\n",
    "    return L\n",
    "\n",
    "def get_K(b_array):\n",
    "    K = b_array.sum()\n",
    "    return K\n",
    "\n",
    "def get_u(c, p):\n",
    "    sigma = p['sigma']\n",
    "    u = (c**(1-sigma) -1)/(1-sigma)\n",
    "    return u\n",
    "\n",
    "def u_prime(c, p):\n",
    "    sigma = p['sigma']\n",
    "    u_prime = c**(-sigma)\n",
    "    return u_prime\n",
    "    \n",
    "    return u_prime\n",
    "def get_w(K, L, p):\n",
    "    A = p['A']\n",
    "    alpha = p['alpha']\n",
    "    w = (1-alpha)*A*(K/L)**alpha\n",
    "    return w\n",
    "\n",
    "def get_r(K, L, p):\n",
    "    alpha = p['alpha']\n",
    "    A = p ['A']\n",
    "    delta = p['delta']\n",
    "    r = alpha*A*(L/K)**(1-alpha) - delta\n",
    "    \n",
    "    return r\n",
    "\n",
    "\n",
    "def get_c(b, p, f):\n",
    "    n = p['n']\n",
    "    w = f['w'](f['K'](b), f['L'](n), p)\n",
    "    r = f['r'](f['K'](b), f['L'](n), p)\n",
    "    \n",
    "    c = np.zeros(3)\n",
    "    \n",
    "    c[0] = w*p['n'][0] - b[0]\n",
    "    c[1] = w*p['n'][1] + (1+r)*b[0]-b[1]\n",
    "    c[2] = w*p['n'][2] + (1+r)*b[1]\n",
    "    \n",
    "    return c\n",
    "\n"
   ]
  },
  {
   "cell_type": "code",
   "execution_count": 3,
   "metadata": {},
   "outputs": [],
   "source": [
    "\n",
    "def equations_ss_b(b, p, f):\n",
    "    \"\"\" Takes in a guess for b and a dictionary of functions \n",
    "    f and a dictionary of elemtns p.\"\"\"\n",
    "    n = p['n']\n",
    "    w = f['w'](f['K'](b), f['L'](n), p)\n",
    "    r = f['r'](f['K'](b), f['L'](n), p)\n",
    "    \n",
    "    e1_l = f['u_p'](w-b[0], p)\n",
    "    e1_r = p['beta']*(1+r)*f['u_p'](w+(1+r)*b[0]-b[1], p)\n",
    "    \n",
    "    e2_l = f['u_p'](w+(1+r)*b[0]-b[1], p)\n",
    "    e2_r = p['beta']*(1+r)*f['u_p']((1+r)*b[1]+0.2*w, p)\n",
    "    \n",
    "    e1 = e1_l - e1_r\n",
    "    e2 = e2_l - e2_r\n",
    "    \n",
    "    return [e1, e2]\n",
    "    \n",
    "def get_ss_b(bvec_guess, p, f):\n",
    "    n = p['n']\n",
    "    F = lambda b: equations_ss_b(b, p, f)\n",
    "    b_ss = fsolve(F, bvec_guess)\n",
    "    c_ss = f['c'](b_ss, p, f)\n",
    "    w_ss = f['w'](f['K'](b_ss), f['L'](n), p)\n",
    "    r_ss = f['r'](f['K'](b_ss), f['L'](n), p)\n",
    "    \n",
    "    return b_ss, c_ss, w_ss, r_ss\n",
    "\n",
    "\n"
   ]
  },
  {
   "cell_type": "code",
   "execution_count": 16,
   "metadata": {},
   "outputs": [],
   "source": [
    "def feasible(bvec_guess, f_params, functions):\n",
    "    b_ss, c_ss, w_ss, r_ss = get_ss_b(bvec_guess, f_params, functions)\n",
    "    print('b_ss: ', b_ss)\n",
    "    K_cnstr = np.array([False])\n",
    "    K_cnstr[0] = True if functions['K'](b_ss) <= 0 else False\n",
    "    \n",
    "    c_cnstr = c_ss\n",
    "    c_cnstr = c_cnstr < 0 \n",
    "        \n",
    "    b_cnstr = np.array([False]*2)\n",
    "    b_cnstr[0] = True if c_cnstr[0] or (c_cnstr[1]) else False\n",
    "    b_cnstr[1] = True if c_cnstr[2] or (c_cnstr[1]) else False\n",
    "    \n",
    "    print('b_cnstr: ', b_cnstr)\n",
    "    print('c_cnstr: ', c_cnstr)\n",
    "    print('K_cnstr: ', K_cnstr)\n",
    "    return b_cnstr, c_cnstr, K_cnstr"
   ]
  },
  {
   "cell_type": "code",
   "execution_count": 17,
   "metadata": {},
   "outputs": [],
   "source": [
    "functions = {'L':get_L, 'K':get_K, 'r':get_r, 'u':get_u, 'u_p':u_prime, \n",
    "             'w':get_w,'c':get_c}\n",
    "\n",
    "params = {'beta':0.96**(20), 'delta': 1- (1-0.05)**20, 'sigma':3 , \\\n",
    "          'A':1, 'alpha':0.35, 'n':np.array([1, 1, 0.2])}"
   ]
  },
  {
   "cell_type": "code",
   "execution_count": 20,
   "metadata": {},
   "outputs": [
    {
     "name": "stdout",
     "output_type": "stream",
     "text": [
      "b_ss:  [7.57400704e+45 1.62947055e+45]\n",
      "b_cnstr:  [ True False]\n",
      "c_cnstr:  [ True False False]\n",
      "K_cnstr:  [False]\n"
     ]
    },
    {
     "name": "stderr",
     "output_type": "stream",
     "text": [
      "/Library/Frameworks/Python.framework/Versions/3.6/lib/python3.6/site-packages/scipy/optimize/minpack.py:162: RuntimeWarning: The number of calls to function has reached maxfev = 600.\n",
      "  warnings.warn(msg, RuntimeWarning)\n"
     ]
    }
   ],
   "source": [
    "parta = feasible(np.array([1, 1.2]), params, functions)"
   ]
  },
  {
   "cell_type": "code",
   "execution_count": 21,
   "metadata": {},
   "outputs": [
    {
     "name": "stdout",
     "output_type": "stream",
     "text": [
      "b_ss:  [ 0.06  -0.001]\n",
      "b_cnstr:  [False False]\n",
      "c_cnstr:  [False False False]\n",
      "K_cnstr:  [False]\n"
     ]
    },
    {
     "name": "stderr",
     "output_type": "stream",
     "text": [
      "/Library/Frameworks/Python.framework/Versions/3.6/lib/python3.6/site-packages/ipykernel_launcher.py:23: RuntimeWarning: invalid value encountered in double_scalars\n",
      "/Library/Frameworks/Python.framework/Versions/3.6/lib/python3.6/site-packages/ipykernel_launcher.py:30: RuntimeWarning: invalid value encountered in double_scalars\n",
      "/Library/Frameworks/Python.framework/Versions/3.6/lib/python3.6/site-packages/scipy/optimize/minpack.py:162: RuntimeWarning: The iteration is not making good progress, as measured by the \n",
      "  improvement from the last ten iterations.\n",
      "  warnings.warn(msg, RuntimeWarning)\n"
     ]
    }
   ],
   "source": [
    "partb = feasible(np.array([0.06, -0.001]), params, functions)"
   ]
  },
  {
   "cell_type": "code",
   "execution_count": 22,
   "metadata": {},
   "outputs": [
    {
     "name": "stdout",
     "output_type": "stream",
     "text": [
      "b_ss:  [0.01931274 0.05841159]\n",
      "b_cnstr:  [False False]\n",
      "c_cnstr:  [False False False]\n",
      "K_cnstr:  [False]\n"
     ]
    }
   ],
   "source": [
    "partc = feasible(np.array([0.1, 0.1]), params, functions)"
   ]
  }
 ],
 "metadata": {
  "kernelspec": {
   "display_name": "Python 3",
   "language": "python",
   "name": "python3"
  },
  "language_info": {
   "codemirror_mode": {
    "name": "ipython",
    "version": 3
   },
   "file_extension": ".py",
   "mimetype": "text/x-python",
   "name": "python",
   "nbconvert_exporter": "python",
   "pygments_lexer": "ipython3",
   "version": "3.6.3"
  }
 },
 "nbformat": 4,
 "nbformat_minor": 2
}
