{
 "cells": [
  {
   "cell_type": "code",
   "execution_count": 3,
   "metadata": {},
   "outputs": [],
   "source": [
    "import numpy as np\n",
    "import matplotlib.pyplot as plt\n",
    "from scipy.optimize import root\n",
    "import time"
   ]
  },
  {
   "cell_type": "code",
   "execution_count": 4,
   "metadata": {},
   "outputs": [],
   "source": [
    "def get_L(n_array):\n",
    "    L = n_array.sum()\n",
    "    return L\n",
    "\n",
    "def get_K(b_array):\n",
    "    K = b_array.sum()\n",
    "    return K\n",
    "\n",
    "def get_u(c, p):\n",
    "    sigma = p['sigma']\n",
    "    u = (c**(1-sigma) -1)/(1-sigma)\n",
    "    return u\n",
    "\n",
    "def u_prime(c, p):\n",
    "    sigma = p['sigma']\n",
    "    u_prime = c**(-sigma)\n",
    "    return u_prime\n",
    "    \n",
    "    return u_prime\n",
    "def get_w(K, L, p):\n",
    "    A = p['A']\n",
    "    alpha = p['alpha']\n",
    "    w = (1-alpha)*A*(K/L)**alpha\n",
    "    return w\n",
    "\n",
    "def get_r(K, L, p):\n",
    "    alpha = p['alpha']\n",
    "    A = p ['A']\n",
    "    delta = p['delta']\n",
    "    r = alpha*A*(L/K)**(1-alpha) - delta\n",
    "    \n",
    "    return r\n",
    "\n",
    "def get_Y(K, L, p):\n",
    "    alpha = p['alpha']\n",
    "    A = p['A']\n",
    "    Y = A*K**alpha*L**(1-alpha)\n",
    "    return Y\n",
    "\n",
    "def get_c(b, p, f):\n",
    "    n = p['n']\n",
    "    w = f['w'](f['K'](b), f['L'](n), p)\n",
    "    r = f['r'](f['K'](b), f['L'](n), p)\n",
    "    \n",
    "    c = np.zeros(3)\n",
    "    \n",
    "    c[0] = w*p['n'][0] - b[0]\n",
    "    c[1] = w*p['n'][1] + (1+r)*b[0]-b[1]\n",
    "    c[2] = w*p['n'][2] + (1+r)*b[1]\n",
    "    \n",
    "    return c\n"
   ]
  },
  {
   "cell_type": "code",
   "execution_count": 5,
   "metadata": {},
   "outputs": [],
   "source": [
    "def equations_ss_b(b, p, f):\n",
    "    \"\"\" Takes in a guess for b and a dictionary of functions \n",
    "    f and a dictionary of elemtns p.\"\"\"\n",
    "    n = p['n']\n",
    "    w = f['w'](f['K'](b), f['L'](n), p)\n",
    "    r = f['r'](f['K'](b), f['L'](n), p)\n",
    "    \n",
    "    e1_l = f['u_p'](w-b[0], p)\n",
    "    e1_r = p['beta']*(1+r)*f['u_p'](w+(1+r)*b[0]-b[1], p)\n",
    "    \n",
    "    e2_l = f['u_p'](w+(1+r)*b[0]-b[1], p)\n",
    "    e2_r = p['beta']*(1+r)*f['u_p']((1+r)*b[1]+0.2*w, p)\n",
    "    \n",
    "    e1 = e1_l - e1_r\n",
    "    e2 = e2_l - e2_r\n",
    "    \n",
    "    return [e1, e2]\n",
    "    \n",
    "def get_ss(bvec_guess, p, f):\n",
    "    start_time = time.clock()\n",
    "    n = p['n']\n",
    "    F = lambda b: equations_ss_b(b, p, f)\n",
    "    \n",
    "    sol = root(F, bvec_guess, tol=p['tol'])\n",
    "\n",
    "    b_ss = sol.x\n",
    "    c_ss = f['c'](b_ss, p, f)\n",
    "    w_ss = f['w'](f['K'](b_ss), f['L'](n), p)\n",
    "    r_ss = f['r'](f['K'](b_ss), f['L'](n), p)\n",
    "    \n",
    "    K_ss = f['K'](b_ss)\n",
    "    L_ss = f['L'](n)\n",
    "    Y_ss = f['Y'](K_ss, L_ss, p)\n",
    "    C_ss = c_ss.sum()\n",
    "    \n",
    "    EulErr_ss = equations_ss_b(b_ss, p, f)\n",
    "    RCer_ss = Y_ss - C_ss - K_ss*(p['delta'])\n",
    "    \n",
    "    ss_time = time.clock() - start_time\n",
    "    \n",
    "    ss_output = {'b_ss':b_ss, 'c_ss':c_ss, 'w_ss':w_ss \\\n",
    "                , 'r_ss':r_ss, 'K_ss':K_ss, 'Y_ss':Y_ss \\\n",
    "                , 'C_ss':C_ss, 'EulErr_ss':EulErr_ss, 'RCerr_ss': \\\n",
    "                RCer_ss, 'ss_time':ss_time}\n",
    "    return ss_output\n",
    "\n",
    "\n"
   ]
  },
  {
   "cell_type": "code",
   "execution_count": 6,
   "metadata": {},
   "outputs": [],
   "source": [
    "def equation_tpi_3_first(b_32, b_21, v, p, f):\n",
    "    w_1 = v['w_guess'][0]\n",
    "    w_2 = v['w_guess'][1]\n",
    "    r_1 = v['r_guess'][0]\n",
    "    r_2 = v['r_guess'][1]\n",
    "    \n",
    "    e_1 = f['u_p'](w_1+(1+r_1)*b_21-b_32, p)\n",
    "    e_r = p['beta']*(1+r_2)*f['u_p']((1+r_2)*b_32+0.2*w_2, p)\n",
    "    \n",
    "    e = e_r - e_1\n",
    "    return e\n",
    "    \n",
    "def equations_tpi_3(b, v, p, f, T_curr):\n",
    "    w_1 = v['w_guess'][T_curr-2]\n",
    "    w_2 = v['w_guess'][T_curr-1]\n",
    "    w_3 = v['w_guess'][T_curr]\n",
    "    r_1 = v['r_guess'][T_curr-2]\n",
    "    r_2 = v['r_guess'][T_curr-1]\n",
    "    r_3 = v['r_guess'][T_curr]\n",
    "    \n",
    "    e_l_1 = f['u_p'](w_1-b[0], p)\n",
    "    e_r_1 = p['beta']*(1+r_2)*f['u_p'](w_2 + (1+r_2)*b[0]-b[1], p)\n",
    "\n",
    "    e_l_2 = f['u_p'](w_2+(1+r_2)*b[0] - b[1], p)\n",
    "    e_r_2 = p['beta']*(1+r_3)*f['u_p']((1+r_3)*b[1]+0.2*w_3, p)\n",
    "    \n",
    "    e1 = e_r_1 - e_l_1\n",
    "    e2 = e_r_2 - e_l_2\n",
    "    \n",
    "    return [e1, e2]\n",
    "\n",
    "\n",
    "\n",
    "def tpi_solve(v, p, f, T_curr):\n",
    "    if T_curr == 1:\n",
    "        F = lambda b: equation_tpi_3_first(b, v['b_start'][0], v, p, f)\n",
    "        sol = root(F, v['b_start'][1])\n",
    "        v['b_matrix'][1, 1]  = sol.x\n",
    "        v['euler_matrix'][1, 1] = equation_tpi_3_first(sol.x, v['b_start'][0], v, p, f)\n",
    "    elif T_curr == variables['T']:\n",
    "        T_temp = T_curr-1\n",
    "        b_start = np.array([v['b_matrix'][T_temp-2, 0], v['b_matrix'][T_temp-2, 1]])\n",
    "        F = lambda b: equations_tpi_3(b, v, p, f, T_temp)\n",
    "        sol = root(F, b_start)\n",
    "        v['b_matrix'][T_curr-1, 0] = sol.x[0]\n",
    "        v['b_matrix'][T_curr, 1] = sol.x[1]\n",
    "        \n",
    "        v['euler_matrix'][T_curr-1, :] = equations_tpi_3(sol.x, v, p, f, T_temp)\n",
    "        \n",
    "    else:\n",
    "        b_start = np.array([v['b_matrix'][T_curr-2, 0], v['b_matrix'][T_curr-2, 1]])\n",
    "        F = lambda b: equations_tpi_3(b, v, p, f, T_curr)\n",
    "        sol = root(F, b_start)\n",
    "        v['b_matrix'][T_curr-1, 0] = sol.x[0]\n",
    "        v['b_matrix'][T_curr, 1] = sol.x[1]\n",
    " \n",
    "        v['euler_matrix'][T_curr-1, :] = equations_tpi_3(sol.x, v, p, f, T_curr)\n",
    "\n",
    "\n",
    "def get_CY_matrix(v, p, f):\n",
    "    k_matrix = v['K_guess']\n",
    "    b_matrix = v['b_matrix'][:-1,:]\n",
    "    \n",
    "    n = p['n']\n",
    "    \n",
    "    w = f['w'](f['K'](b_matrix), f['L'](b_matrix), p)\n",
    "    r = f['r'](f['K'](b_matrix), f['L'](b_matrix), p)\n",
    "\n",
    "    c = np.zeros((v['T'], 3))\n",
    "\n",
    "    c[:,0] = w*p['n'][0] - b_matrix[:,0]\n",
    "    c[:,1] = w*p['n'][1] + (1+r)*b_matrix[:,0]-b_matrix[:,1]\n",
    "    c[:,2] = w*p['n'][2] + (1+r)*b_matrix[:,1]\n",
    "\n",
    "\n",
    "    L = functions['L'](n)\n",
    "    Y = functions['Y'](k_matrix, L, p)\n",
    "\n",
    "    C = c.sum(axis=1)\n",
    "    \n",
    "    return C, Y\n",
    "\n",
    "def update_k(v, p, f):\n",
    "    C, Y = get_CY_matrix(v, p, f)\n",
    "    K_old = v['K_guess']\n",
    "    b_matrix = v['b_matrix'][:-1, :]\n",
    "    K_new = b_matrix.sum(axis=1)\n",
    "    v['RCer_vector'] = Y - C - K_new + (1-p['delta'])*K_old\n",
    "    v['error'].append(np.dot(K_new-K_old, K_new-K_old))\n",
    "    K_final = K_new*v['xi'] + K_old*(1-v['xi'])  \n",
    "    v['K_guess'] = K_final\n",
    "    v['w_guess'] = f['w'](K_final, f['L'](p['n']), p)\n",
    "    v['r_guess'] = f['r'](K_final, f['L'](p['n']), p)\n",
    "    return v\n",
    "\n",
    "def TPI(v, p, f):\n",
    "    while v['error'][-1] > v['tol']:\n",
    "        for i in range(1, v['T']+1):\n",
    "            tpi_solve(v, p, f, i)\n",
    "        v = update_k(v, p, f)\n",
    "    return v"
   ]
  },
  {
   "cell_type": "code",
   "execution_count": 7,
   "metadata": {},
   "outputs": [],
   "source": [
    "def TPI_init(p, f, ss):\n",
    "    v = dict()\n",
    "    v['T'] = 30\n",
    "    v['xi'] = 0.8\n",
    "    v['b_start'] = np.array([ss['b_ss'][0]*.8, ss['b_ss'][1]*1.1])\n",
    "    v['K_guess'] = np.linspace(f['K'](v['b_start']), ss['K_ss'], v['T'])\n",
    "    v['RCer_vector'] = np.zeros_like(v['K_guess'])\n",
    "    \n",
    "    v['w_guess'] = f['w'](v['K_guess'], f['L'](p['n']), p)\n",
    "    v['r_guess'] = f['r'](v['K_guess'], f['L'](p['n']), p)\n",
    "\n",
    "    v['b_matrix'] = np.zeros((v['T']+1, 2))\n",
    "    v['b_matrix'][0,:] = v['b_start']\n",
    "    \n",
    "    v['euler_matrix'] = np.zeros_like(v['b_matrix'])\n",
    "    v['euler_matrix'][0,:] = np.array(ss['EulErr_ss'])\n",
    "    v['tol'] = 1e-9\n",
    "    v['error']=[1]\n",
    "    \n",
    "    return v\n",
    "    "
   ]
  },
  {
   "cell_type": "code",
   "execution_count": 8,
   "metadata": {},
   "outputs": [],
   "source": [
    "functions = {'L':get_L, 'K':get_K, 'r':get_r, 'u':get_u, 'u_p':u_prime, \n",
    "             'w':get_w,'c':get_c, 'Y':get_Y}\n",
    "\n",
    "params = {'beta':0.96**(20), 'delta': 1- (1-0.05)**20, 'sigma':3 , \\\n",
    "          'A':1, 'alpha':0.35, 'n':np.array([1, 1, 0.2]), 'tol':None}\n",
    "\n",
    "ss_output = get_ss(np.array([.1,.1]), params, functions)"
   ]
  },
  {
   "cell_type": "code",
   "execution_count": 9,
   "metadata": {},
   "outputs": [],
   "source": [
    "variables = TPI_init(params, functions, ss_output)\n",
    "variables = TPI(variables, params, functions)"
   ]
  },
  {
   "cell_type": "code",
   "execution_count": 23,
   "metadata": {},
   "outputs": [
    {
     "data": {
      "image/png": "[encoded data removed]",
      "text/plain": [
       "<matplotlib.figure.Figure at 0x11a89e1d0>"
      ]
     },
     "metadata": {},
     "output_type": "display_data"
    }
   ],
   "source": [
    "fig = plt.subplots(figsize=(10,5))\n",
    "plt.plot(np.linspace(1, 30,30), variables['euler_matrix'].max(axis=1)[:-1])\n",
    "plt.title('Maximum absolute values of all the Euler errors across the entire time path')\n",
    "plt.show()"
   ]
  },
  {
   "cell_type": "code",
   "execution_count": 26,
   "metadata": {},
   "outputs": [
    {
     "name": "stdout",
     "output_type": "stream",
     "text": [
      "Maximum of the absolute value of the aggregate resource constraint errors: 0.7690998029138458\n"
     ]
    }
   ],
   "source": [
    "print('Maximum of the absolute value of the aggregate \\\n",
    "resource constraint errors:', np.abs(variables['RCer_vector'].max()))"
   ]
  },
  {
   "cell_type": "code",
   "execution_count": 28,
   "metadata": {},
   "outputs": [
    {
     "data": {
      "image/png": "[encoded data removed]",
      "text/plain": [
       "<matplotlib.figure.Figure at 0x11aaefcc0>"
      ]
     },
     "metadata": {},
     "output_type": "display_data"
    }
   ],
   "source": [
    "fig = plt.subplots(figsize=(10,5))\n",
    "plt.plot(np.linspace(1, 30,30), variables['w_guess'])\n",
    "plt.title('Aggregate wage')\n",
    "plt.show()"
   ]
  },
  {
   "cell_type": "code",
   "execution_count": 29,
   "metadata": {},
   "outputs": [
    {
     "data": {
      "image/png": "[encoded data removed]",
      "text/plain": [
       "<matplotlib.figure.Figure at 0x11ac676d8>"
      ]
     },
     "metadata": {},
     "output_type": "display_data"
    }
   ],
   "source": [
    "fig = plt.subplots(figsize=(10,5))\n",
    "plt.plot(np.linspace(1, 30,30), variables['r_guess'])\n",
    "plt.title('Aggregate interest rate')\n",
    "plt.show()"
   ]
  },
  {
   "cell_type": "code",
   "execution_count": 30,
   "metadata": {},
   "outputs": [
    {
     "data": {
      "image/png": "[encoded data removed]",
      "text/plain": [
       "<matplotlib.figure.Figure at 0x11aed48d0>"
      ]
     },
     "metadata": {},
     "output_type": "display_data"
    }
   ],
   "source": [
    "fig = plt.subplots(figsize=(10,5))\n",
    "plt.plot(np.linspace(1, 30,30), variables['K_guess'])\n",
    "plt.title('Aggregate Capital')\n",
    "plt.show()"
   ]
  },
  {
   "cell_type": "code",
   "execution_count": 36,
   "metadata": {},
   "outputs": [
    {
     "data": {
      "text/plain": [
       "[1,\n",
       " 2.916200673442871e-05,\n",
       " 5.086731329235567e-06,\n",
       " 1.3786865321670066e-06,\n",
       " 3.9982291074632423e-07,\n",
       " 1.1843878019301831e-07,\n",
       " 3.543155234784019e-08,\n",
       " 1.0656086756638151e-08,\n",
       " 3.2144870594823076e-09,\n",
       " 9.712419309027384e-10]"
      ]
     },
     "execution_count": 36,
     "metadata": {},
     "output_type": "execute_result"
    }
   ],
   "source": [
    "\"\"\"Looking at the errors we can see that it took only 2 iterations to \n",
    "go below 1e-5 error.\"\"\"\n",
    "\n",
    "variables['error']"
   ]
  }
 ],
 "metadata": {
  "kernelspec": {
   "display_name": "Python 3",
   "language": "python",
   "name": "python3"
  },
  "language_info": {
   "codemirror_mode": {
    "name": "ipython",
    "version": 3
   },
   "file_extension": ".py",
   "mimetype": "text/x-python",
   "name": "python",
   "nbconvert_exporter": "python",
   "pygments_lexer": "ipython3",
   "version": "3.6.3"
  }
 },
 "nbformat": 4,
 "nbformat_minor": 2
}
