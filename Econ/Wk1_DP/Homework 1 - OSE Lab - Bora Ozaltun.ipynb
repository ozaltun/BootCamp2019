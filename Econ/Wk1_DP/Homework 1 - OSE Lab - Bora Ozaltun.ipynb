{
 "cells": [
  {
   "cell_type": "code",
   "execution_count": 3,
   "metadata": {},
   "outputs": [],
   "source": [
    "import numpy as np\n",
    "import pandas as pd\n",
    "import matplotlib.pyplot as plt\n",
    "%matplotlib notebook"
   ]
  },
  {
   "cell_type": "markdown",
   "metadata": {},
   "source": [
    "## Problem 1 - Asset Market Equilibrium\n",
    "\n",
    "Suppose there are two periods and S states of the world in the second period. There is a single perishable consumption good. There are H agents with endowments $e^h = (e_0^h, e^{\\text{~},h}) \\in IR_+^{S+1}$ and identical von Neumann-Morgenstern utility:\n",
    "\n",
    "$$ U^h(c) = v(c_o) + \\frac{1}{S} \\sum_{s=1}^{S} v(c_s)  \\text{ with } v(c) = \\frac{c^{1-\\gamma}}{1-\\gamma} \\gamma > 1$$\n",
    "\n",
    "Suppose H = 2, S = 4, $e^1$ = (1, 1, 2, 1, 2), $e^2$ = (1, 3, 1, 3, 1), J = 2 with $A^1$ = (1, 1, 1, 1), $A^2$ =(1, 1, 1.5, 1.5)."
   ]
  },
  {
   "cell_type": "code",
   "execution_count": 2,
   "metadata": {},
   "outputs": [],
   "source": [
    "## Note that J = 2 here is the periods. A is asset pricing for the different periods."
   ]
  },
  {
   "cell_type": "markdown",
   "metadata": {},
   "source": [
    "(a) Define a financial markets equilibrium and write down a system of equations (first\n",
    "order conditions and market clearing) that characterize this equilibrium."
   ]
  },
  {
   "cell_type": "markdown",
   "metadata": {},
   "source": [
    "(b) Use Python to compute the equilibrium prices and allocations for γ = 2, γ = 4,\n",
    "γ = 8, γ = 166."
   ]
  },
  {
   "cell_type": "markdown",
   "metadata": {},
   "source": [
    "## Problem 2 - Dynamic programming\n",
    "\n",
    "Use value function iteration to write a computer program that cannot lose in Tic-Tac-Toe"
   ]
  },
  {
   "cell_type": "markdown",
   "metadata": {},
   "source": [
    "## Problem 3 - Ramsey I\n",
    "\n",
    "Suppose there is a single agent with $\\beta = 0.9$, v(c) = log(c), there are two states which are iid with equal probabilities $\\pi_1 = \\pi_2 = 0.5$ and the firm’s production function is:\n",
    "\n",
    "$$ f(k,l) = 0.9k^{0.3} +0.3k \\text{,   } f(k,2) = 1.1k^{0.3} +0.9k$$\n",
    "\n",
    "Discretize the possible capital values to 50 points. Use value function iteration to compute the policy functions (one for each shock) for consumption and investment. Plot these functions. Now use 500 for admissible capital levels and redo the exercise."
   ]
  }
 ],
 "metadata": {
  "kernelspec": {
   "display_name": "Python 3",
   "language": "python",
   "name": "python3"
  },
  "language_info": {
   "codemirror_mode": {
    "name": "ipython",
    "version": 3
   },
   "file_extension": ".py",
   "mimetype": "text/x-python",
   "name": "python",
   "nbconvert_exporter": "python",
   "pygments_lexer": "ipython3",
   "version": "3.6.3"
  }
 },
 "nbformat": 4,
 "nbformat_minor": 2
}
