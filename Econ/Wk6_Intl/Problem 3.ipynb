{
 "cells": [
  {
   "cell_type": "code",
   "execution_count": 20,
   "metadata": {},
   "outputs": [],
   "source": [
    "import numpy as np\n",
    "import pandas as pd\n",
    "import matplotlib.pyplot as plt\n",
    "from linearmodels.iv import IV2SLS"
   ]
  },
  {
   "cell_type": "code",
   "execution_count": 3,
   "metadata": {},
   "outputs": [],
   "source": [
    "root = '/Users/boraozaltun/Documents/GitHub/BootCamp2019/Econ/Wk6_Intl/AER_Replication_Files/Public_Replication_Files/Data/temp.dta'"
   ]
  },
  {
   "cell_type": "code",
   "execution_count": 4,
   "metadata": {},
   "outputs": [],
   "source": [
    "df = pd.read_stata(root)"
   ]
  },
  {
   "cell_type": "code",
   "execution_count": 8,
   "metadata": {},
   "outputs": [
    {
     "data": {
      "text/plain": [
       "Index(['iso3', 'tariff_avg', 'tariff_wavg', 'code_TD', 'sum_con_val',\n",
       "       'sum_gen_val', 'country', 'cb', 'contig', 'comlang_off',\n",
       "       'comlang_ethno', 'distw', 'pop_o', 'tdiff', 'rta', 'BLcode', 'hc',\n",
       "       'lK_L', 'control_of_corruption', 'government_effectiveness',\n",
       "       'political_stability', 'regulatory_quality', 'rule_of_law',\n",
       "       'voice_and_accountability', 'cv', 'hl', 'tradefreedom',\n",
       "       'investmentfreedom', 'iso', 'avg_wage_usd', 'gross_production', 'pop',\n",
       "       'KI', 'KL', 'lp', 'ls', 'univ_degree', 'yr_sch', 'pop_BL', 'intserv',\n",
       "       'breg', 'manuf', 'rd_stock', 'gdp', 'rpshare', 'exp_cost', 'no_firms',\n",
       "       'wage_hc_adj', 'log_wage', 'log_rd', 'log_dist', 'log_imp', 'log_KL',\n",
       "       'log_yrsch', 'log_hl', 'yrsch_inv', 'log_tariff', 'log_pop',\n",
       "       'log_wage_adj', 'log_tao_wage', 'log_gdp', 'log_hc', 'log_servers',\n",
       "       'log_firms'],\n",
       "      dtype='object')"
      ]
     },
     "execution_count": 8,
     "metadata": {},
     "output_type": "execute_result"
    }
   ],
   "source": [
    "df.columns"
   ]
  },
  {
   "cell_type": "markdown",
   "metadata": {},
   "source": [
    "## Work that needs to be done\n",
    "\n",
    "1. Estimeate $\\hat{\\epsilon_j} = T_j(\\tau_{i,j}) w_j)^{-\\theta}$\n",
    "2. Calculate $f_{ij}^n matrix$\n",
    "3. Set params\n",
    "4. Run updating scheme"
   ]
  },
  {
   "cell_type": "markdown",
   "metadata": {},
   "source": [
    "## Step 1\n",
    "Solve the equation in Lecture 2, slide 22.\n",
    "\n",
    "$$log(\\hat{\\epsilon_j}) = \\beta_r log({R\\& D}_j) + \\beta_k log({capital}_j) + \\beta_C (control corruption)_j + \\beta_n log (no of firms) - \\theta * log (w_j) - \\theta(log(\\beta_c + \\beta_d log({distance}_{ij}) +{language}_{ij}log(\\beta_l)) + i_j$$\n",
    "\n",
    "For now, lets just plug in the values from the paper:"
   ]
  },
  {
   "cell_type": "code",
   "execution_count": 15,
   "metadata": {},
   "outputs": [],
   "source": [
    "columns = ['log_wage_adj','log_dist','log_rd', 'log_KL', 'comlang_ethno',\\\n",
    "           'control_of_corruption', 'log_firms']"
   ]
  },
  {
   "cell_type": "code",
   "execution_count": 16,
   "metadata": {},
   "outputs": [],
   "source": [
    "coefs = [-1.789, -0.621, 0.524, 0.425, 0.146, 0.621, -0.020, -11.068]"
   ]
  },
  {
   "cell_type": "code",
   "execution_count": 19,
   "metadata": {},
   "outputs": [
    {
     "data": {
      "text/plain": [
       "(243, 7)"
      ]
     },
     "execution_count": 19,
     "metadata": {},
     "output_type": "execute_result"
    }
   ],
   "source": [
    "df[columns].to_numpy().shape"
   ]
  },
  {
   "cell_type": "code",
   "execution_count": 21,
   "metadata": {},
   "outputs": [],
   "source": [
    "import statsmodels.formula.api as sm\n"
   ]
  },
  {
   "cell_type": "code",
   "execution_count": null,
   "metadata": {},
   "outputs": [],
   "source": [
    "reg1 = sm.OLS(endog = data['educ'], exog = data[['const','qob_1','qob_2','qob_3']+pob_column_names[:-1]]).fit()\n",
    "\n"
   ]
  },
  {
   "cell_type": "code",
   "execution_count": 23,
   "metadata": {},
   "outputs": [
    {
     "data": {
      "text/plain": [
       "Index(['iso3', 'tariff_avg', 'tariff_wavg', 'code_TD', 'sum_con_val',\n",
       "       'sum_gen_val', 'country', 'cb', 'contig', 'comlang_off',\n",
       "       'comlang_ethno', 'distw', 'pop_o', 'tdiff', 'rta', 'BLcode', 'hc',\n",
       "       'lK_L', 'control_of_corruption', 'government_effectiveness',\n",
       "       'political_stability', 'regulatory_quality', 'rule_of_law',\n",
       "       'voice_and_accountability', 'cv', 'hl', 'tradefreedom',\n",
       "       'investmentfreedom', 'iso', 'avg_wage_usd', 'gross_production', 'pop',\n",
       "       'KI', 'KL', 'lp', 'ls', 'univ_degree', 'yr_sch', 'pop_BL', 'intserv',\n",
       "       'breg', 'manuf', 'rd_stock', 'gdp', 'rpshare', 'exp_cost', 'no_firms',\n",
       "       'wage_hc_adj', 'log_wage', 'log_rd', 'log_dist', 'log_imp', 'log_KL',\n",
       "       'log_yrsch', 'log_hl', 'yrsch_inv', 'log_tariff', 'log_pop',\n",
       "       'log_wage_adj', 'log_tao_wage', 'log_gdp', 'log_hc', 'log_servers',\n",
       "       'log_firms'],\n",
       "      dtype='object')"
      ]
     },
     "execution_count": 23,
     "metadata": {},
     "output_type": "execute_result"
    }
   ],
   "source": [
    "df.columns"
   ]
  },
  {
   "cell_type": "code",
   "execution_count": 26,
   "metadata": {},
   "outputs": [
    {
     "data": {
      "text/plain": [
       "0           NaN\n",
       "1           NaN\n",
       "2           NaN\n",
       "3           NaN\n",
       "4     -0.877070\n",
       "5           NaN\n",
       "6           NaN\n",
       "7     -0.783072\n",
       "8           NaN\n",
       "9           NaN\n",
       "10    -0.391562\n",
       "11          NaN\n",
       "12          NaN\n",
       "13    -0.105361\n",
       "14    -0.394525\n",
       "15          NaN\n",
       "16          NaN\n",
       "17          NaN\n",
       "18    -0.933946\n",
       "19    -0.310610\n",
       "20          NaN\n",
       "21    -0.179127\n",
       "22          NaN\n",
       "23    -1.102620\n",
       "24          NaN\n",
       "25          NaN\n",
       "26    -0.632993\n",
       "27          NaN\n",
       "28    -0.701179\n",
       "29    -0.729811\n",
       "         ...   \n",
       "213         NaN\n",
       "214   -0.911303\n",
       "215         NaN\n",
       "216         NaN\n",
       "217   -0.409473\n",
       "218   -0.865122\n",
       "219   -0.757152\n",
       "220         NaN\n",
       "221         NaN\n",
       "222         NaN\n",
       "223         NaN\n",
       "224   -0.941609\n",
       "225         NaN\n",
       "226         NaN\n",
       "227   -0.213193\n",
       "228    0.000000\n",
       "229         NaN\n",
       "230   -0.414001\n",
       "231         NaN\n",
       "232         NaN\n",
       "233         NaN\n",
       "234   -0.522561\n",
       "235         NaN\n",
       "236         NaN\n",
       "237         NaN\n",
       "238         NaN\n",
       "239         NaN\n",
       "240   -1.090644\n",
       "241   -0.625488\n",
       "242   -0.846298\n",
       "Name: log_hl, Length: 243, dtype: float32"
      ]
     },
     "execution_count": 26,
     "metadata": {},
     "output_type": "execute_result"
    }
   ],
   "source": [
    "df.log_hl"
   ]
  },
  {
   "cell_type": "code",
   "execution_count": null,
   "metadata": {},
   "outputs": [],
   "source": []
  }
 ],
 "metadata": {
  "kernelspec": {
   "display_name": "Python 3",
   "language": "python",
   "name": "python3"
  },
  "language_info": {
   "codemirror_mode": {
    "name": "ipython",
    "version": 3
   },
   "file_extension": ".py",
   "mimetype": "text/x-python",
   "name": "python",
   "nbconvert_exporter": "python",
   "pygments_lexer": "ipython3",
   "version": "3.6.3"
  }
 },
 "nbformat": 4,
 "nbformat_minor": 2
}
