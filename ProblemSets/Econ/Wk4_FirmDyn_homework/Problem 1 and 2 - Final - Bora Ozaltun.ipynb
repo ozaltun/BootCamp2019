{
 "cells": [
  {
   "cell_type": "markdown",
   "metadata": {},
   "source": [
    "### Problem 1\n",
    "\n",
    "The recursive competitive equilibrium can be written out as the following"
   ]
  },
  {
   "cell_type": "markdown",
   "metadata": {},
   "source": [
    "Given $\\Gamma_0$, the recursive competative equilibrium consists of:\n",
    "- Value functions $v(\\epsilon, k), \\hat{v}(\\epsilon, k)$\n",
    "- Policy function $k'(\\epsilon, k)$\n",
    "- Squences of wages $\\{w_t\\}_{t=0}^{\\infty}$\n",
    "- Incumbents' measure $\\{g_t\\}_{t=0}^{\\infty}$\n",
    "- Sequences of wages $\\{w_t\\}_{t=0}^{\\infty}$\n",
    "- Entrant' of measure $\\{m_t\\}_{t=0}^{\\infty}$\n",
    "\n",
    "And the following problem descriptions\n",
    "- Where $v(\\epsilon, k), \\hat{v}(\\epsilon, k), \\text{ and }k'(\\epsilon, k)$ solve the incumbent's optimization problem.\n",
    "- and $v_{\\epsilon}(\\epsilon, 0) \\text{ and }k'(\\epsilon, 0)$ solve the entrants problem\n",
    "- The representative household consumption and labour follows:\n",
    "\n",
    "$$\\frac{w(g)}{c(g)} = \\frac{a}{N(g)}$$\n",
    "\n",
    "- Labor market clears:\n",
    "$$N(w_t) = \\int \\int n(\\epsilon_t, k) g_t(\\epsilon, k) d\\epsilon dk$$\n",
    "- Goods markets clear:\n",
    "$$C(w_t) = \\int \\int (y(\\epsilon_t, k) - i(\\epsilon_t, k)) g_t(\\epsilon, k) d\\epsilon dk$$"
   ]
  },
  {
   "cell_type": "markdown",
   "metadata": {},
   "source": [
    "## Problem 2\n",
    "\n",
    "For this problem we can take lagrange values of the household optimization problem:\n",
    "\n",
    "$$max E_o [\\sum_{t=0}^{\\infty}\\beta^{t} (log(C_t) - N_t)] \\text{ where: } \n",
    "        C_t + (K_{t+1} - (1-\\delta)K_t) = w_t N_t + r_t K_t$$"
   ]
  },
  {
   "cell_type": "markdown",
   "metadata": {},
   "source": [
    "And the lagrange values of the firm's problem:\n",
    "\n",
    "$$max e^{\\epsilon_t} K_t^{\\theta}N_t^{v} - w_t N_t - K_t v_t$$"
   ]
  },
  {
   "cell_type": "markdown",
   "metadata": {},
   "source": [
    "to find that steady state capital is:\n",
    "    \n",
    "$$ K = (\\frac{\\beta^{-1} + \\delta -1}{N^v \\theta})^{1/(\\theta-1)}$$\n",
    "\n",
    "and steady state wage is:\n",
    "\n",
    "$$ w = v K^{\\theta} N^{v-1}$$\n",
    "\n",
    "Once we plug in the parameters we have, this gives us steady state capital of 1.0881 and steady state wage of 0.78297"
   ]
  }
 ],
 "metadata": {
  "kernelspec": {
   "display_name": "Python 3",
   "language": "python",
   "name": "python3"
  },
  "language_info": {
   "codemirror_mode": {
    "name": "ipython",
    "version": 3
   },
   "file_extension": ".py",
   "mimetype": "text/x-python",
   "name": "python",
   "nbconvert_exporter": "python",
   "pygments_lexer": "ipython3",
   "version": "3.6.3"
  }
 },
 "nbformat": 4,
 "nbformat_minor": 2
}
