{
 "cells": [
  {
   "cell_type": "code",
   "execution_count": 1,
   "metadata": {},
   "outputs": [],
   "source": [
    "import numpy as np\n",
    "import pandas as pd\n",
    "import pandas_profiling as pd_p"
   ]
  },
  {
   "cell_type": "code",
   "execution_count": 2,
   "metadata": {},
   "outputs": [
    {
     "data": {
      "text/html": [
       "<div>\n",
       "<style scoped>\n",
       "    .dataframe tbody tr th:only-of-type {\n",
       "        vertical-align: middle;\n",
       "    }\n",
       "\n",
       "    .dataframe tbody tr th {\n",
       "        vertical-align: top;\n",
       "    }\n",
       "\n",
       "    .dataframe thead th {\n",
       "        text-align: right;\n",
       "    }\n",
       "</style>\n",
       "<table border=\"1\" class=\"dataframe\">\n",
       "  <thead>\n",
       "    <tr style=\"text-align: right;\">\n",
       "      <th></th>\n",
       "      <th>date</th>\n",
       "      <th>rConsumption</th>\n",
       "      <th>USGrowth</th>\n",
       "      <th>GDPDef</th>\n",
       "      <th>RFR</th>\n",
       "      <th>qt</th>\n",
       "      <th>year</th>\n",
       "      <th>GDPDef_p</th>\n",
       "      <th>rUSGrowth</th>\n",
       "      <th>rRFR</th>\n",
       "    </tr>\n",
       "  </thead>\n",
       "  <tbody>\n",
       "    <tr>\n",
       "      <th>0</th>\n",
       "      <td>1971-01-01</td>\n",
       "      <td>3156.978</td>\n",
       "      <td>1.080000</td>\n",
       "      <td>22.391</td>\n",
       "      <td>3.840000</td>\n",
       "      <td>1</td>\n",
       "      <td>1971</td>\n",
       "      <td>NaN</td>\n",
       "      <td>NaN</td>\n",
       "      <td>NaN</td>\n",
       "    </tr>\n",
       "    <tr>\n",
       "      <th>1</th>\n",
       "      <td>1971-04-01</td>\n",
       "      <td>3185.993</td>\n",
       "      <td>1.136667</td>\n",
       "      <td>22.685</td>\n",
       "      <td>4.250000</td>\n",
       "      <td>2</td>\n",
       "      <td>1971</td>\n",
       "      <td>0.013130</td>\n",
       "      <td>1.121935</td>\n",
       "      <td>4.194920</td>\n",
       "    </tr>\n",
       "    <tr>\n",
       "      <th>2</th>\n",
       "      <td>1971-07-01</td>\n",
       "      <td>3211.394</td>\n",
       "      <td>1.113333</td>\n",
       "      <td>22.916</td>\n",
       "      <td>5.010000</td>\n",
       "      <td>3</td>\n",
       "      <td>1971</td>\n",
       "      <td>0.010183</td>\n",
       "      <td>1.102111</td>\n",
       "      <td>4.959498</td>\n",
       "    </tr>\n",
       "    <tr>\n",
       "      <th>3</th>\n",
       "      <td>1971-10-01</td>\n",
       "      <td>3264.679</td>\n",
       "      <td>1.113333</td>\n",
       "      <td>23.107</td>\n",
       "      <td>4.230000</td>\n",
       "      <td>4</td>\n",
       "      <td>1971</td>\n",
       "      <td>0.008335</td>\n",
       "      <td>1.104131</td>\n",
       "      <td>4.195035</td>\n",
       "    </tr>\n",
       "    <tr>\n",
       "      <th>4</th>\n",
       "      <td>1972-01-01</td>\n",
       "      <td>3307.767</td>\n",
       "      <td>1.240000</td>\n",
       "      <td>23.458</td>\n",
       "      <td>3.436667</td>\n",
       "      <td>1</td>\n",
       "      <td>1972</td>\n",
       "      <td>0.015190</td>\n",
       "      <td>1.221446</td>\n",
       "      <td>3.385244</td>\n",
       "    </tr>\n",
       "  </tbody>\n",
       "</table>\n",
       "</div>"
      ],
      "text/plain": [
       "         date  rConsumption  USGrowth  GDPDef       RFR  qt  year  GDPDef_p  \\\n",
       "0  1971-01-01      3156.978  1.080000  22.391  3.840000   1  1971       NaN   \n",
       "1  1971-04-01      3185.993  1.136667  22.685  4.250000   2  1971  0.013130   \n",
       "2  1971-07-01      3211.394  1.113333  22.916  5.010000   3  1971  0.010183   \n",
       "3  1971-10-01      3264.679  1.113333  23.107  4.230000   4  1971  0.008335   \n",
       "4  1972-01-01      3307.767  1.240000  23.458  3.436667   1  1972  0.015190   \n",
       "\n",
       "   rUSGrowth      rRFR  \n",
       "0        NaN       NaN  \n",
       "1   1.121935  4.194920  \n",
       "2   1.102111  4.959498  \n",
       "3   1.104131  4.195035  \n",
       "4   1.221446  3.385244  "
      ]
     },
     "execution_count": 2,
     "metadata": {},
     "output_type": "execute_result"
    }
   ],
   "source": [
    "dataframe = pd.read_csv('dataset.csv', index_col=0)\n",
    "dataframe.head()"
   ]
  },
  {
   "cell_type": "code",
   "execution_count": 17,
   "metadata": {},
   "outputs": [],
   "source": [
    "def u(c, p):\n",
    "    utility = c**(1-p['gamma'])/(1-p['gamma'])\n",
    "    return utility\n",
    "\n",
    "def u_p(c, p):\n",
    "    utility_p = c**(-p['gamma'])\n",
    "    return utility_p\n",
    "    \n",
    "def m(c0,c1,  p):\n",
    "    m = p['beta'] * u_p(c1, p)/u_p(c0, p)\n",
    "    return m\n",
    "\n",
    "def get_m(dataset, params):\n",
    "    c0 = dataset.rConsumption.to_numpy()[:-1]\n",
    "    c1 = dataset.rConsumption.to_numpy()[1:]\n",
    "    return m(c0,c1 ,params )"
   ]
  },
  {
   "cell_type": "markdown",
   "metadata": {},
   "source": [
    "These exercises will give some familiarity with the GMM estimation of asset pricing models.\n",
    "Assume that the joint distribution of $(m_{𝑡+1}, R_{t+1})$ is constant for all t (this would occur, for\n",
    "example, if the stochastic process $\\omega$ is Markov.) Define $m_{t+1} = \\beta \\frac{u'(c_{t+1})}{u'(c_t)}$ with $ u(c) = \\frac{c^{1−\\gamma}}{1-\\gamma}$.\n",
    "\n",
    "Download data on real personal consumption expenditures (FRED series PCECC96) and returns to the aggregate U.S. stock market (e.g. the Wilshire 5000 given in FRED series\n",
    "      \n",
    "WILL5000INDFC) as well as the risk-free rate (FRED series GDPDEF, the GDP deflator, is one possible measure of inflation). One possibility for data on the risk-free rate is the 3-month T-Bill rate given in FRED series TB3MS. Note that you will need to transform the Wilshire 5000 series and the T-Bill series into quarterly data as well as calculate the real returns to the Wilshire 5000 by accounting for inflation."
   ]
  },
  {
   "cell_type": "markdown",
   "metadata": {},
   "source": [
    "1. Assume that $\\beta$ = 0.99 (since this is quarterly data, this implies an annual risk- free rate of about 4%). Calculate the sample analogs of the expected values and covariance in (5). Using scipy.optimize.broyden1, solve for the value of $\\gamma$ that leads to equation (5) holding."
   ]
  },
  {
   "cell_type": "code",
   "execution_count": 18,
   "metadata": {},
   "outputs": [],
   "source": [
    "params = {'beta': 0.99, 'gamma':0}"
   ]
  },
  {
   "cell_type": "code",
   "execution_count": 19,
   "metadata": {},
   "outputs": [],
   "source": [
    "def est_gamma_1(gamma, p):\n",
    "    p['gamma'] =gamma\n",
    "    m = get_m(dataframe, p)\n",
    "    R = dataframe.rUSGrowth.to_numpy()[1:]\n",
    "    \n",
    "    cov = (m*R).mean()\n",
    "    e = cov -1\n",
    "    \n",
    "    return e    \n",
    "\n",
    "def est_gamma_2(gamma, p):\n",
    "    p['gamma'] =gamma\n",
    "    m = get_m(dataframe, p)\n",
    "    r = dataframe.rRFR.to_numpy()[1:]\n",
    "    \n",
    "    e = 1/m - r -1\n",
    "    \n",
    "    return e    "
   ]
  },
  {
   "cell_type": "code",
   "execution_count": 20,
   "metadata": {},
   "outputs": [
    {
     "name": "stderr",
     "output_type": "stream",
     "text": [
      "/Library/Frameworks/Python.framework/Versions/3.6/lib/python3.6/site-packages/ipykernel_launcher.py:10: RuntimeWarning: invalid value encountered in true_divide\n",
      "  # Remove the CWD from sys.path while we load stuff.\n",
      "/Library/Frameworks/Python.framework/Versions/3.6/lib/python3.6/site-packages/scipy/optimize/nonlin.py:999: RuntimeWarning: invalid value encountered in true_divide\n",
      "  d = v / vdot(df, v)\n"
     ]
    },
    {
     "ename": "NoConvergence",
     "evalue": "43.159866566504554",
     "output_type": "error",
     "traceback": [
      "\u001b[0;31m---------------------------------------------------------------------------\u001b[0m",
      "\u001b[0;31mNoConvergence\u001b[0m                             Traceback (most recent call last)",
      "\u001b[0;32m<ipython-input-20-11c7fad36d7a>\u001b[0m in \u001b[0;36m<module>\u001b[0;34m()\u001b[0m\n\u001b[1;32m      1\u001b[0m \u001b[0;32mfrom\u001b[0m \u001b[0mscipy\u001b[0m\u001b[0;34m.\u001b[0m\u001b[0moptimize\u001b[0m \u001b[0;32mimport\u001b[0m \u001b[0mbroyden1\u001b[0m\u001b[0;34m\u001b[0m\u001b[0m\n\u001b[1;32m      2\u001b[0m \u001b[0mF1\u001b[0m \u001b[0;34m=\u001b[0m \u001b[0;32mlambda\u001b[0m \u001b[0mgamma\u001b[0m\u001b[0;34m:\u001b[0m \u001b[0mest_gamma_1\u001b[0m\u001b[0;34m(\u001b[0m\u001b[0mgamma\u001b[0m\u001b[0;34m,\u001b[0m \u001b[0mparams\u001b[0m\u001b[0;34m)\u001b[0m\u001b[0;34m\u001b[0m\u001b[0m\n\u001b[0;32m----> 3\u001b[0;31m \u001b[0mbroyden1\u001b[0m\u001b[0;34m(\u001b[0m\u001b[0mF1\u001b[0m\u001b[0;34m,\u001b[0m \u001b[0;36m0.0001\u001b[0m\u001b[0;34m)\u001b[0m\u001b[0;34m\u001b[0m\u001b[0m\n\u001b[0m",
      "\u001b[0;32m/Library/Frameworks/Python.framework/Versions/3.6/lib/python3.6/site-packages/scipy/optimize/nonlin.py\u001b[0m in \u001b[0;36mbroyden1\u001b[0;34m(F, xin, iter, alpha, reduction_method, max_rank, verbose, maxiter, f_tol, f_rtol, x_tol, x_rtol, tol_norm, line_search, callback, **kw)\u001b[0m\n",
      "\u001b[0;32m/Library/Frameworks/Python.framework/Versions/3.6/lib/python3.6/site-packages/scipy/optimize/nonlin.py\u001b[0m in \u001b[0;36mnonlin_solve\u001b[0;34m(F, x0, jacobian, iter, verbose, maxiter, f_tol, f_rtol, x_tol, x_rtol, tol_norm, line_search, callback, full_output, raise_exception)\u001b[0m\n\u001b[1;32m    348\u001b[0m     \u001b[0;32melse\u001b[0m\u001b[0;34m:\u001b[0m\u001b[0;34m\u001b[0m\u001b[0m\n\u001b[1;32m    349\u001b[0m         \u001b[0;32mif\u001b[0m \u001b[0mraise_exception\u001b[0m\u001b[0;34m:\u001b[0m\u001b[0;34m\u001b[0m\u001b[0m\n\u001b[0;32m--> 350\u001b[0;31m             \u001b[0;32mraise\u001b[0m \u001b[0mNoConvergence\u001b[0m\u001b[0;34m(\u001b[0m\u001b[0m_array_like\u001b[0m\u001b[0;34m(\u001b[0m\u001b[0mx\u001b[0m\u001b[0;34m,\u001b[0m \u001b[0mx0\u001b[0m\u001b[0;34m)\u001b[0m\u001b[0;34m)\u001b[0m\u001b[0;34m\u001b[0m\u001b[0m\n\u001b[0m\u001b[1;32m    351\u001b[0m         \u001b[0;32melse\u001b[0m\u001b[0;34m:\u001b[0m\u001b[0;34m\u001b[0m\u001b[0m\n\u001b[1;32m    352\u001b[0m             \u001b[0mstatus\u001b[0m \u001b[0;34m=\u001b[0m \u001b[0;36m2\u001b[0m\u001b[0;34m\u001b[0m\u001b[0m\n",
      "\u001b[0;31mNoConvergence\u001b[0m: 43.159866566504554"
     ]
    }
   ],
   "source": [
    "from scipy.optimize import broyden1\n",
    "F1 = lambda gamma: est_gamma_1(gamma, params)\n",
    "broyden1(F1, 0.0001)"
   ]
  },
  {
   "cell_type": "code",
   "execution_count": 22,
   "metadata": {},
   "outputs": [
    {
     "name": "stderr",
     "output_type": "stream",
     "text": [
      "/Library/Frameworks/Python.framework/Versions/3.6/lib/python3.6/site-packages/ipykernel_launcher.py:10: RuntimeWarning: invalid value encountered in true_divide\n",
      "  # Remove the CWD from sys.path while we load stuff.\n",
      "/Library/Frameworks/Python.framework/Versions/3.6/lib/python3.6/site-packages/scipy/optimize/nonlin.py:999: RuntimeWarning: invalid value encountered in true_divide\n",
      "  d = v / vdot(df, v)\n"
     ]
    },
    {
     "ename": "NoConvergence",
     "evalue": "44.17642168657913",
     "output_type": "error",
     "traceback": [
      "\u001b[0;31m---------------------------------------------------------------------------\u001b[0m",
      "\u001b[0;31mNoConvergence\u001b[0m                             Traceback (most recent call last)",
      "\u001b[0;32m<ipython-input-22-f8b16e16deb3>\u001b[0m in \u001b[0;36m<module>\u001b[0;34m()\u001b[0m\n\u001b[1;32m      1\u001b[0m \u001b[0mF2\u001b[0m \u001b[0;34m=\u001b[0m \u001b[0;32mlambda\u001b[0m \u001b[0mgamma\u001b[0m\u001b[0;34m:\u001b[0m \u001b[0mest_gamma_2\u001b[0m\u001b[0;34m(\u001b[0m\u001b[0mgamma\u001b[0m\u001b[0;34m,\u001b[0m \u001b[0mparams\u001b[0m\u001b[0;34m)\u001b[0m\u001b[0;34m\u001b[0m\u001b[0m\n\u001b[0;32m----> 2\u001b[0;31m \u001b[0mbroyden1\u001b[0m\u001b[0;34m(\u001b[0m\u001b[0mF1\u001b[0m\u001b[0;34m,\u001b[0m \u001b[0;36m1\u001b[0m\u001b[0;34m)\u001b[0m\u001b[0;34m\u001b[0m\u001b[0m\n\u001b[0m",
      "\u001b[0;32m/Library/Frameworks/Python.framework/Versions/3.6/lib/python3.6/site-packages/scipy/optimize/nonlin.py\u001b[0m in \u001b[0;36mbroyden1\u001b[0;34m(F, xin, iter, alpha, reduction_method, max_rank, verbose, maxiter, f_tol, f_rtol, x_tol, x_rtol, tol_norm, line_search, callback, **kw)\u001b[0m\n",
      "\u001b[0;32m/Library/Frameworks/Python.framework/Versions/3.6/lib/python3.6/site-packages/scipy/optimize/nonlin.py\u001b[0m in \u001b[0;36mnonlin_solve\u001b[0;34m(F, x0, jacobian, iter, verbose, maxiter, f_tol, f_rtol, x_tol, x_rtol, tol_norm, line_search, callback, full_output, raise_exception)\u001b[0m\n\u001b[1;32m    348\u001b[0m     \u001b[0;32melse\u001b[0m\u001b[0;34m:\u001b[0m\u001b[0;34m\u001b[0m\u001b[0m\n\u001b[1;32m    349\u001b[0m         \u001b[0;32mif\u001b[0m \u001b[0mraise_exception\u001b[0m\u001b[0;34m:\u001b[0m\u001b[0;34m\u001b[0m\u001b[0m\n\u001b[0;32m--> 350\u001b[0;31m             \u001b[0;32mraise\u001b[0m \u001b[0mNoConvergence\u001b[0m\u001b[0;34m(\u001b[0m\u001b[0m_array_like\u001b[0m\u001b[0;34m(\u001b[0m\u001b[0mx\u001b[0m\u001b[0;34m,\u001b[0m \u001b[0mx0\u001b[0m\u001b[0;34m)\u001b[0m\u001b[0;34m)\u001b[0m\u001b[0;34m\u001b[0m\u001b[0m\n\u001b[0m\u001b[1;32m    351\u001b[0m         \u001b[0;32melse\u001b[0m\u001b[0;34m:\u001b[0m\u001b[0;34m\u001b[0m\u001b[0m\n\u001b[1;32m    352\u001b[0m             \u001b[0mstatus\u001b[0m \u001b[0;34m=\u001b[0m \u001b[0;36m2\u001b[0m\u001b[0;34m\u001b[0m\u001b[0m\n",
      "\u001b[0;31mNoConvergence\u001b[0m: 44.17642168657913"
     ]
    }
   ],
   "source": [
    "F2 = lambda gamma: est_gamma_2(gamma, params)\n",
    "broyden1(F1, 1)"
   ]
  },
  {
   "cell_type": "code",
   "execution_count": null,
   "metadata": {},
   "outputs": [],
   "source": []
  },
  {
   "cell_type": "code",
   "execution_count": null,
   "metadata": {},
   "outputs": [],
   "source": []
  },
  {
   "cell_type": "code",
   "execution_count": null,
   "metadata": {},
   "outputs": [],
   "source": []
  },
  {
   "cell_type": "markdown",
   "metadata": {},
   "source": [
    "\n",
    "2. How would you determine if this parameter is reasonable?\n",
    "\n",
    "3. Now, consider the moment restriction given in equation (7). Continue to assume that $\\beta$ = 0.99. Estimate the $\\gamma$ that generates the SDF using only this moment condition. How does this $\\gamma$ differ from the estimate of $\\gamma$ found previously?\n",
    "\n",
    "4. Finally, estimate $\\beta$ and $\\gamma$ using both equation (5) and equation (7). You will need to specify a weighting matrix (the identity matrix is a great place to start). Plot the objective function for different $(\\beta, \\gamma)$ pairs. How does your estimation differ from the previous two ways of estimating those parameters?\n",
    "\n",
    "\n",
    "Note. The idea behind these problems comes from Hansen and Singleton (1982), although the implementation has some differences. For a survey of this literature, see Campbell (2003)."
   ]
  }
 ],
 "metadata": {
  "kernelspec": {
   "display_name": "Python 3",
   "language": "python",
   "name": "python3"
  },
  "language_info": {
   "codemirror_mode": {
    "name": "ipython",
    "version": 3
   },
   "file_extension": ".py",
   "mimetype": "text/x-python",
   "name": "python",
   "nbconvert_exporter": "python",
   "pygments_lexer": "ipython3",
   "version": "3.6.3"
  }
 },
 "nbformat": 4,
 "nbformat_minor": 2
}
