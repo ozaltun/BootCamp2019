{
 "cells": [
  {
   "cell_type": "code",
   "execution_count": 3,
   "metadata": {},
   "outputs": [],
   "source": [
    "import numpy as np\n",
    "import pandas as pd\n",
    "import matplotlib.pyplot as plt\n",
    "import pickle\n",
    "from os import listdir\n",
    "from os.path import isfile, join"
   ]
  },
  {
   "cell_type": "markdown",
   "metadata": {},
   "source": [
    "These exercises are intended to help you use the Kyle model to understand the orderbooks of 5 tickers on a particular day (July 11, 2017). The data have been compiled from the NASDAQ ITCH data files for those days. The data are Python pickle files where each file contains a list of the following form [(timestamp1,{P1: Q1, P2: Q2, P3:Q3, ...}), (timestamp2, {P1: Q1, P2, Q2, ...})... ]. That is, the data comes as a list of tuples, where each tuple contains a timestamp and an orderbook. The orderbook is a dictionary where the keys are prices and the values are the quantities available at each price. These data have been compiled in such a way that we have the orderbook every 60 seconds throughtout the trading day.\n",
    "\n",
    "1. Write a Python class that represents a single orderbook, where the data for that single orderbook is an instance property. Write a method for that orderbook that will use the data to the parameters 𝛾 and 𝛽 from equation (10). Plot the orderbook and the estimated equation. Where does the model fit well and where does it not? Might one want to estimate the model using only a subset of the orderbook? If so, where?"
   ]
  },
  {
   "cell_type": "code",
   "execution_count": 8,
   "metadata": {},
   "outputs": [],
   "source": [
    "mypath='data/'\n",
    "onlyfiles = [f for f in listdir(mypath) if isfile(join(mypath, f))]"
   ]
  },
  {
   "cell_type": "code",
   "execution_count": 17,
   "metadata": {},
   "outputs": [],
   "source": [
    "dataset = dict()\n",
    "for i in onlyfiles:\n",
    "    with open(mypath+i, \"rb\") as f:\n",
    "        rawdata = f.read()\n",
    "    dataset[i] = pickle.loads(rawdata)"
   ]
  },
  {
   "cell_type": "code",
   "execution_count": 19,
   "metadata": {},
   "outputs": [
    {
     "data": {
      "text/plain": [
       "dict_keys(['SPY', 'AAPL', 'GBX', 'THO', 'C'])"
      ]
     },
     "execution_count": 19,
     "metadata": {},
     "output_type": "execute_result"
    }
   ],
   "source": [
    "dataset.keys()"
   ]
  },
  {
   "cell_type": "code",
   "execution_count": null,
   "metadata": {},
   "outputs": [],
   "source": [
    "dataset['SPY'][0][1]"
   ]
  },
  {
   "cell_type": "code",
   "execution_count": 33,
   "metadata": {},
   "outputs": [],
   "source": [
    "class OrderBook:\n",
    "    def __init__(self, filepath):\n",
    "        with open(filepath, \"rb\") as f:\n",
    "            rawdata = f.read()\n",
    "        self.data = pickle.loads(rawdata)\n",
    "        "
   ]
  },
  {
   "cell_type": "code",
   "execution_count": 38,
   "metadata": {},
   "outputs": [],
   "source": [
    "for i in ['USGrowth', 'RFR']:\n",
    "    dataframe['r'+i] = dataframe[i]/(1+dataframe['GDPDef_p'])"
   ]
  },
  {
   "cell_type": "code",
   "execution_count": 40,
   "metadata": {},
   "outputs": [
    {
     "data": {
      "text/html": [
       "<div>\n",
       "<style scoped>\n",
       "    .dataframe tbody tr th:only-of-type {\n",
       "        vertical-align: middle;\n",
       "    }\n",
       "\n",
       "    .dataframe tbody tr th {\n",
       "        vertical-align: top;\n",
       "    }\n",
       "\n",
       "    .dataframe thead th {\n",
       "        text-align: right;\n",
       "    }\n",
       "</style>\n",
       "<table border=\"1\" class=\"dataframe\">\n",
       "  <thead>\n",
       "    <tr style=\"text-align: right;\">\n",
       "      <th></th>\n",
       "      <th>date</th>\n",
       "      <th>rConsumption</th>\n",
       "      <th>USGrowth</th>\n",
       "      <th>GDPDef</th>\n",
       "      <th>RFR</th>\n",
       "      <th>qt</th>\n",
       "      <th>year</th>\n",
       "      <th>GDPDef_p</th>\n",
       "      <th>rUSGrowth</th>\n",
       "      <th>rRFR</th>\n",
       "    </tr>\n",
       "  </thead>\n",
       "  <tbody>\n",
       "    <tr>\n",
       "      <th>0</th>\n",
       "      <td>1971-01-01</td>\n",
       "      <td>3156.978</td>\n",
       "      <td>1.080000</td>\n",
       "      <td>22.391</td>\n",
       "      <td>3.840000</td>\n",
       "      <td>1</td>\n",
       "      <td>1971</td>\n",
       "      <td>NaN</td>\n",
       "      <td>NaN</td>\n",
       "      <td>NaN</td>\n",
       "    </tr>\n",
       "    <tr>\n",
       "      <th>1</th>\n",
       "      <td>1971-04-01</td>\n",
       "      <td>3185.993</td>\n",
       "      <td>1.136667</td>\n",
       "      <td>22.685</td>\n",
       "      <td>4.250000</td>\n",
       "      <td>2</td>\n",
       "      <td>1971</td>\n",
       "      <td>0.013130</td>\n",
       "      <td>1.121935</td>\n",
       "      <td>4.194920</td>\n",
       "    </tr>\n",
       "    <tr>\n",
       "      <th>2</th>\n",
       "      <td>1971-07-01</td>\n",
       "      <td>3211.394</td>\n",
       "      <td>1.113333</td>\n",
       "      <td>22.916</td>\n",
       "      <td>5.010000</td>\n",
       "      <td>3</td>\n",
       "      <td>1971</td>\n",
       "      <td>0.010183</td>\n",
       "      <td>1.102111</td>\n",
       "      <td>4.959498</td>\n",
       "    </tr>\n",
       "    <tr>\n",
       "      <th>3</th>\n",
       "      <td>1971-10-01</td>\n",
       "      <td>3264.679</td>\n",
       "      <td>1.113333</td>\n",
       "      <td>23.107</td>\n",
       "      <td>4.230000</td>\n",
       "      <td>4</td>\n",
       "      <td>1971</td>\n",
       "      <td>0.008335</td>\n",
       "      <td>1.104131</td>\n",
       "      <td>4.195035</td>\n",
       "    </tr>\n",
       "    <tr>\n",
       "      <th>4</th>\n",
       "      <td>1972-01-01</td>\n",
       "      <td>3307.767</td>\n",
       "      <td>1.240000</td>\n",
       "      <td>23.458</td>\n",
       "      <td>3.436667</td>\n",
       "      <td>1</td>\n",
       "      <td>1972</td>\n",
       "      <td>0.015190</td>\n",
       "      <td>1.221446</td>\n",
       "      <td>3.385244</td>\n",
       "    </tr>\n",
       "  </tbody>\n",
       "</table>\n",
       "</div>"
      ],
      "text/plain": [
       "        date  rConsumption  USGrowth  GDPDef       RFR  qt  year  GDPDef_p  \\\n",
       "0 1971-01-01      3156.978  1.080000  22.391  3.840000   1  1971       NaN   \n",
       "1 1971-04-01      3185.993  1.136667  22.685  4.250000   2  1971  0.013130   \n",
       "2 1971-07-01      3211.394  1.113333  22.916  5.010000   3  1971  0.010183   \n",
       "3 1971-10-01      3264.679  1.113333  23.107  4.230000   4  1971  0.008335   \n",
       "4 1972-01-01      3307.767  1.240000  23.458  3.436667   1  1972  0.015190   \n",
       "\n",
       "   rUSGrowth      rRFR  \n",
       "0        NaN       NaN  \n",
       "1   1.121935  4.194920  \n",
       "2   1.102111  4.959498  \n",
       "3   1.104131  4.195035  \n",
       "4   1.221446  3.385244  "
      ]
     },
     "execution_count": 40,
     "metadata": {},
     "output_type": "execute_result"
    }
   ],
   "source": [
    "dataframe.head()"
   ]
  },
  {
   "cell_type": "code",
   "execution_count": 42,
   "metadata": {},
   "outputs": [],
   "source": [
    "dataframe.to_csv('dataset.csv')"
   ]
  },
  {
   "cell_type": "code",
   "execution_count": null,
   "metadata": {},
   "outputs": [],
   "source": []
  }
 ],
 "metadata": {
  "kernelspec": {
   "display_name": "Python 3",
   "language": "python",
   "name": "python3"
  },
  "language_info": {
   "codemirror_mode": {
    "name": "ipython",
    "version": 3
   },
   "file_extension": ".py",
   "mimetype": "text/x-python",
   "name": "python",
   "nbconvert_exporter": "python",
   "pygments_lexer": "ipython3",
   "version": "3.6.3"
  }
 },
 "nbformat": 4,
 "nbformat_minor": 2
}
