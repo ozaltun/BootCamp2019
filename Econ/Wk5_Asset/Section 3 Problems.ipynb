{
 "cells": [
  {
   "cell_type": "code",
   "execution_count": 3,
   "metadata": {},
   "outputs": [],
   "source": [
    "import numpy as np\n",
    "import pandas as pd\n",
    "import pandas_profiling as pd_p"
   ]
  },
  {
   "cell_type": "markdown",
   "metadata": {},
   "source": [
    "These exercises are intended to help you use the Kyle model to understand the orderbooks of 5 tickers on a particular day (July 11, 2017). \n",
    "\n",
    "The data have been compiled from the NASDAQ ITCH data files for those days. The data are Python pickle files where each file contains a list of the following form:\n",
    "$$[(timestamp1,{P1: Q1, P2: Q2, P3:Q3, ...}), (timestamp2, {P1: Q1, P2, Q2, ...})... ]$$\n",
    "\n",
    "That is, the data comes as a list of tuples, where each tuple contains a timestamp and an orderbook. The orderbook is a dictionary where the keys are prices and the values are the quantities available at each price. These data have been compiled in such a way that we have the orderbook every 60 seconds throughtout the trading day.\n",
    "\n",
    "1. Write a Python class that represents a single orderbook, where the data for that single orderbook is an instance property. Write a method for that orderbook that will use the data to the parameters $\\gamma$ and $\\beta$ from equation (10). Plot the orderbook and the estimated equation. Where does the model fit well and where does it not? Might one want to estimate the model using only a subset of the orderbook? If so, where?\n",
    "\n",
    "2. For each ticker, plot the estimated values of $\\frac{2\\sigma u}{\\sum_0}$ throughout the day. \n",
    "\n",
    "3. Compare the estimates of $p_0$ to the actual midpoint of the BBO over time. What do these differences say about the nature of the orderbook and the estimation procedure you’re using?\n",
    "\n",
    "4. Compare/contrast the results for each ticker. Are the noise/signal ratios that you calculate consistent with what you would have expected? What about the movements in $p_0$?"
   ]
  },
  {
   "cell_type": "code",
   "execution_count": null,
   "metadata": {},
   "outputs": [],
   "source": []
  }
 ],
 "metadata": {
  "kernelspec": {
   "display_name": "Python 3",
   "language": "python",
   "name": "python3"
  },
  "language_info": {
   "codemirror_mode": {
    "name": "ipython",
    "version": 3
   },
   "file_extension": ".py",
   "mimetype": "text/x-python",
   "name": "python",
   "nbconvert_exporter": "python",
   "pygments_lexer": "ipython3",
   "version": "3.6.3"
  }
 },
 "nbformat": 4,
 "nbformat_minor": 2
}
