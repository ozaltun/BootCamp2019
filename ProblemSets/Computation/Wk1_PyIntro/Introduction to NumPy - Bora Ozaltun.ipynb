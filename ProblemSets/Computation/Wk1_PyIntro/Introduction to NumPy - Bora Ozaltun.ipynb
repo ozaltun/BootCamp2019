{
 "cells": [
  {
   "cell_type": "code",
   "execution_count": 3,
   "metadata": {},
   "outputs": [],
   "source": [
    "import numpy as np"
   ]
  },
  {
   "cell_type": "markdown",
   "metadata": {},
   "source": [
    "## Problem 1"
   ]
  },
  {
   "cell_type": "code",
   "execution_count": 11,
   "metadata": {},
   "outputs": [],
   "source": [
    "def mat_A_B():\n",
    "    # This function will define and return matrices A and B\n",
    "    A = np.array([[3, -1, 4], [1, 5, -9]])\n",
    "    B = np.array([[2, 6, -5, 3], [5, -8, 9, 7], [9, -3, -2, -3]])\n",
    "    return A, B\n",
    "\n",
    "def mult_matrices(A, B, method=1):\n",
    "    # Returns and multiplies the two matrices\n",
    "    if method == 1:\n",
    "        return np.dot(A,B)\n",
    "    if method == 2:\n",
    "        return A @ B"
   ]
  },
  {
   "cell_type": "code",
   "execution_count": 12,
   "metadata": {},
   "outputs": [
    {
     "name": "stdout",
     "output_type": "stream",
     "text": [
      "Version 1:\n",
      "[[ 37  14 -32 -10]\n",
      " [-54  -7  58  65]]\n",
      "Version 2:\n",
      "[[ 37  14 -32 -10]\n",
      " [-54  -7  58  65]]\n"
     ]
    }
   ],
   "source": [
    "A, B = mat_A_B()\n",
    "# Method 1\n",
    "print('Version 1:')\n",
    "print(mult_matrices(A, B))\n",
    "# Method 2\n",
    "print('Version 2:')\n",
    "print(mult_matrices(A,B, method=2))"
   ]
  },
  {
   "cell_type": "markdown",
   "metadata": {},
   "source": [
    "## Problem 2"
   ]
  },
  {
   "cell_type": "code",
   "execution_count": 50,
   "metadata": {},
   "outputs": [],
   "source": [
    "def mat_A():\n",
    "    A = np.array([[3, 1, 4], [1, 5, 9], [-5, 3, 1]])\n",
    "    return A\n",
    "def mat_op(A):\n",
    "    A_2 = np.dot(A, A)\n",
    "    A_3 = np.dot(A, A_2)\n",
    "    return -A_3 + 9*A_2 - 15*A"
   ]
  },
  {
   "cell_type": "code",
   "execution_count": 51,
   "metadata": {},
   "outputs": [
    {
     "data": {
      "text/plain": [
       "array([[0, 0, 0],\n",
       "       [0, 0, 0],\n",
       "       [0, 0, 0]])"
      ]
     },
     "execution_count": 51,
     "metadata": {},
     "output_type": "execute_result"
    }
   ],
   "source": [
    "mat_op(mat_A())"
   ]
  },
  {
   "cell_type": "markdown",
   "metadata": {},
   "source": [
    "## Problem 3"
   ]
  },
  {
   "cell_type": "code",
   "execution_count": 61,
   "metadata": {},
   "outputs": [],
   "source": [
    "def mat_A_B_3():\n",
    "    A = np.triu(np.ones(7))\n",
    "    B = np.triu(np.ones(7), k = 1)*5 +np.tril(np.ones(7))*(-1)\n",
    "    return A, B\n",
    "\n",
    "def mat_op_3():\n",
    "    A, B = mat_A_B_3()\n",
    "    return np.dot(A, np.dot(B, A)).astype(np.int64)"
   ]
  },
  {
   "cell_type": "code",
   "execution_count": 62,
   "metadata": {},
   "outputs": [
    {
     "data": {
      "text/plain": [
       "array([[ -7,  -8,  -3,   8,  25,  48,  77],\n",
       "       [ -6, -12, -12,  -6,   6,  24,  48],\n",
       "       [ -5, -10, -15, -14,  -7,   6,  25],\n",
       "       [ -4,  -8, -12, -16, -14,  -6,   8],\n",
       "       [ -3,  -6,  -9, -12, -15, -12,  -3],\n",
       "       [ -2,  -4,  -6,  -8, -10, -12,  -8],\n",
       "       [ -1,  -2,  -3,  -4,  -5,  -6,  -7]])"
      ]
     },
     "execution_count": 62,
     "metadata": {},
     "output_type": "execute_result"
    }
   ],
   "source": [
    "mat_op_3()"
   ]
  },
  {
   "cell_type": "markdown",
   "metadata": {},
   "source": [
    "## Problem 4"
   ]
  },
  {
   "cell_type": "code",
   "execution_count": 64,
   "metadata": {},
   "outputs": [
    {
     "name": "stdout",
     "output_type": "stream",
     "text": [
      "[1 1]\n",
      "[1 1]\n"
     ]
    }
   ],
   "source": [
    "A = np.array([1,1])\n",
    "B = np.copy(A)\n",
    "print(B)\n",
    "A = 'Blah'\n",
    "print(B)"
   ]
  },
  {
   "cell_type": "code",
   "execution_count": 73,
   "metadata": {},
   "outputs": [],
   "source": [
    "def all_pos(array):\n",
    "    array_copy = np.copy(array)\n",
    "    mask = array <0\n",
    "    array_copy[mask] = -1*array[mask]\n",
    "    return array_copy"
   ]
  },
  {
   "cell_type": "code",
   "execution_count": 81,
   "metadata": {},
   "outputs": [
    {
     "name": "stdout",
     "output_type": "stream",
     "text": [
      "[ -1  -5 -15 -18]\n"
     ]
    }
   ],
   "source": [
    "A = all_pos(np.array([[-1, -5, 10, -15], [10, -18, 12, 10]]))"
   ]
  },
  {
   "cell_type": "code",
   "execution_count": 82,
   "metadata": {},
   "outputs": [
    {
     "data": {
      "text/plain": [
       "array([[ 1,  5, 10, 15],\n",
       "       [10, 18, 12, 10]])"
      ]
     },
     "execution_count": 82,
     "metadata": {},
     "output_type": "execute_result"
    }
   ],
   "source": [
    "A"
   ]
  },
  {
   "cell_type": "markdown",
   "metadata": {},
   "source": [
    "## Problem 5"
   ]
  },
  {
   "cell_type": "code",
   "execution_count": 95,
   "metadata": {},
   "outputs": [],
   "source": [
    "def mat_A_B_C_5():\n",
    "    A = np.array([[0, 2, 4], [1, 3, 5]])\n",
    "    B = np.tril(np.ones(3))*3\n",
    "    C = np.diag(np.ones((3,)))*-2\n",
    "    return A, B, C\n",
    "\n",
    "def mat_stack_5(A, B, C):\n",
    "    r_1 = np.hstack((np.zeros((3, 3)), A.T, np.identity(3)))\n",
    "    r_2 = np.hstack((A, np.zeros((2, 2)),np.zeros((2, 3))))\n",
    "    r_3 = np.hstack((B, np.zeros((3, 2)), C))\n",
    "    return np.vstack((r_1, r_2, r_3))"
   ]
  },
  {
   "cell_type": "code",
   "execution_count": 98,
   "metadata": {},
   "outputs": [
    {
     "data": {
      "text/plain": [
       "array([[ 0.,  0.,  0.,  0.,  1.,  1.,  0.,  0.],\n",
       "       [ 0.,  0.,  0.,  2.,  3.,  0.,  1.,  0.],\n",
       "       [ 0.,  0.,  0.,  4.,  5.,  0.,  0.,  1.],\n",
       "       [ 0.,  2.,  4.,  0.,  0.,  0.,  0.,  0.],\n",
       "       [ 1.,  3.,  5.,  0.,  0.,  0.,  0.,  0.],\n",
       "       [ 3.,  0.,  0.,  0.,  0., -2., -0., -0.],\n",
       "       [ 3.,  3.,  0.,  0.,  0., -0., -2., -0.],\n",
       "       [ 3.,  3.,  3.,  0.,  0., -0., -0., -2.]])"
      ]
     },
     "execution_count": 98,
     "metadata": {},
     "output_type": "execute_result"
    }
   ],
   "source": [
    "A, B, C = mat_A_B_C_5()\n",
    "mat_stack_5(A, B, C)"
   ]
  },
  {
   "cell_type": "markdown",
   "metadata": {},
   "source": [
    "## Problem 6"
   ]
  },
  {
   "cell_type": "code",
   "execution_count": 102,
   "metadata": {},
   "outputs": [],
   "source": [
    "def row_stochastic(A):\n",
    "    row_sum = A.sum(axis = 1)\n",
    "    return A / row_sum[:, np.newaxis]"
   ]
  },
  {
   "cell_type": "code",
   "execution_count": 103,
   "metadata": {},
   "outputs": [
    {
     "data": {
      "text/plain": [
       "array([[0.03846154, 0.38461538, 0.57692308],\n",
       "       [0.33333333, 0.33333333, 0.33333333]])"
      ]
     },
     "execution_count": 103,
     "metadata": {},
     "output_type": "execute_result"
    }
   ],
   "source": [
    "row_stochastic(np.array([[1, 10, 15], [1, 1, 1]]))"
   ]
  },
  {
   "cell_type": "markdown",
   "metadata": {},
   "source": [
    "## Problem 7"
   ]
  },
  {
   "cell_type": "code",
   "execution_count": 4,
   "metadata": {},
   "outputs": [],
   "source": [
    "grid = np.load(\"grid.npy\")"
   ]
  },
  {
   "cell_type": "code",
   "execution_count": 30,
   "metadata": {},
   "outputs": [],
   "source": [
    "def get_max(method = 'right'):\n",
    "    if method == 'right':\n",
    "        return (grid[:,:-3] *grid[:,1:-2] *grid[:,2:-1] *grid[:,3:]).max()\n",
    "    if method == 'left':\n",
    "        return (grid[:,3:] *grid[:,2:-1] *grid[:,1:-2] *grid[:,:-3]).max()\n",
    "    if method == 'down':\n",
    "        return (grid[:-3,:] *grid[1:-2,:] *grid[2:-1,:] *grid[3:,:]).max()\n",
    "    if method == 'up':\n",
    "        return (grid[3:,:] *grid[2:-1,:] *grid[1:-2,:] *grid[:-3,:]).max()\n",
    "    if method == 'diag':\n",
    "        max_1 = (grid[3:,3:] *grid[2:-1,2:-1] *grid[1:-2,1:-2] *grid[:-3,:-3]).max()\n",
    "        max_2 = (grid[3:,:-3] *grid[2:-1,1:-2] *grid[1:-2,2:-1] *grid[:-3,3:]).max()\n",
    "        return max(max_1, max_2)\n",
    "        \n",
    "\n",
    "        "
   ]
  },
  {
   "cell_type": "code",
   "execution_count": 31,
   "metadata": {},
   "outputs": [
    {
     "name": "stdout",
     "output_type": "stream",
     "text": [
      "48477312\n",
      "48477312\n",
      "51267216\n",
      "51267216\n",
      "70600674\n"
     ]
    }
   ],
   "source": [
    "print(get_max('right'))\n",
    "print(get_max('left'))\n",
    "print(get_max('down'))\n",
    "print(get_max('up'))\n",
    "print(get_max('diag'))"
   ]
  }
 ],
 "metadata": {
  "kernelspec": {
   "display_name": "Python 3",
   "language": "python",
   "name": "python3"
  },
  "language_info": {
   "codemirror_mode": {
    "name": "ipython",
    "version": 3
   },
   "file_extension": ".py",
   "mimetype": "text/x-python",
   "name": "python",
   "nbconvert_exporter": "python",
   "pygments_lexer": "ipython3",
   "version": "3.6.3"
  }
 },
 "nbformat": 4,
 "nbformat_minor": 2
}
