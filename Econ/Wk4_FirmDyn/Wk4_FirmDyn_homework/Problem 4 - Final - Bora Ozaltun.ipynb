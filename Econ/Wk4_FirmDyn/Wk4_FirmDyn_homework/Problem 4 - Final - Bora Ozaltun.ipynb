{
 "cells": [
  {
   "cell_type": "code",
   "execution_count": 9,
   "metadata": {},
   "outputs": [],
   "source": [
    "%matplotlib notebook\n",
    "import numpy as np\n",
    "import matplotlib.pyplot as plt\n",
    "from scipy import linalg\n",
    "from scipy import integrate\n",
    "from scipy import optimize\n",
    "from scipy import stats\n",
    "from scipy import interpolate\n",
    "from scipy.stats import norm\n",
    "from mpl_toolkits.mplot3d import Axes3D\n",
    "import quantecon as qecon"
   ]
  },
  {
   "cell_type": "code",
   "execution_count": 10,
   "metadata": {},
   "outputs": [],
   "source": [
    "def get_labor(v, p, f):\n",
    "    labor = (v['w']/(p['v']*v['k']**p['theta']*np.exp(v['eps'])))**(1/(p['v']-1))\n",
    "    return labor\n",
    "\n",
    "def get_production(v, p, f):\n",
    "    prod_f = np.exp(v['eps'])*(v['k']**p['theta'])*(f['n'](v, p, f))**p['v']\n",
    "    return prod_f\n",
    "\n",
    "def get_objective(v, p, f):\n",
    "    obj_1 = f['P'](v, p, f) - v['w']*f['n'](v, p, f)\n",
    "    obj_2 = -(v['k_p'] - (1-p['delta'])*v['k'])\n",
    "    obj_3 = - (p['phi']/2)*(v['k_p']/v['k'] - (1- p['delta']))**2 *v['k']\n",
    "    \n",
    "    obj = obj_1 + obj_2 + obj_3\n",
    "    return obj\n",
    "\n",
    "def get_tauchen(rho, sigma_u, m=3, n=7):\n",
    "    \"\"\"\n",
    "    Function found on:\n",
    "    https://quanteconpy.readthedocs.io/en/0.1.6/_modules/quantecon/tauchen.html\n",
    "\n",
    "    \"\"\"\n",
    "    F = norm(loc=0, scale=sigma_u).cdf\n",
    "\n",
    "    # standard deviation of y_t\n",
    "    std_y = np.sqrt(sigma_u**2 / (1-rho**2))\n",
    "\n",
    "    # top of discrete state space\n",
    "    x_max = m * std_y\n",
    "\n",
    "    # bottom of discrete state space\n",
    "    x_min = - x_max\n",
    "\n",
    "    # discretized state space\n",
    "    x = np.linspace(x_min, x_max, n)\n",
    "\n",
    "    step = (x_max - x_min) / (n - 1)\n",
    "    half_step = 0.5 * step\n",
    "    P = np.empty((n, n))\n",
    "\n",
    "    for i in range(n):\n",
    "        P[i, 0] = F(x[0]-rho * x[i] + half_step)\n",
    "        P[i, n-1] = 1 - F(x[n-1] - rho * x[i] - half_step)\n",
    "        for j in range(1, n-1):\n",
    "            z = x[j] - rho * x[i]\n",
    "            P[i, j] = F(z + half_step) - F(z - half_step)\n",
    "\n",
    "    return x, P"
   ]
  },
  {
   "cell_type": "code",
   "execution_count": 11,
   "metadata": {},
   "outputs": [],
   "source": [
    "def get_dictionaries():\n",
    "    p = {'theta':0.21, 'v':0.64, 'delta':0.1, 'beta':0.96, \\\n",
    "         'phi':0.5, 'rho':0.9, 'sigma':0.02, 'n_eps':10}\n",
    "    f = {'n':get_labor, 'P':get_production, 'obj':get_objective, 'tauchen':get_tauchen}\n",
    "    \n",
    "    shocks, transition = f['tauchen'](p['rho'], p['sigma'], n=p['n_eps'])\n",
    "    mc = qecon.MarkovChain(transition)\n",
    "    \n",
    "    v = {'w':0.78297, 'c_f':0.01, 'k_min':0.01, 'c_e':0.02, \\\n",
    "             'k_max':10, 'error':1, 'n':100, 'shocks':shocks, 'transition':transition, \\\n",
    "        'stationary_mc':  mc.stationary_distributions.reshape(1, p['n_eps'])}\n",
    "    return v, p, f"
   ]
  },
  {
   "cell_type": "code",
   "execution_count": 12,
   "metadata": {},
   "outputs": [],
   "source": [
    "variables, params, functions = get_dictionaries()"
   ]
  },
  {
   "cell_type": "code",
   "execution_count": 13,
   "metadata": {},
   "outputs": [],
   "source": [
    "def vfi(v, p, f, thres=1e-3):\n",
    "    k_grid = np.linspace(v['k_min'], v['k_max'], v['n'])\n",
    "\n",
    "    V1_old = np.zeros((p['n_eps'], v['n']))\n",
    "    V1_new = np.zeros_like(V1_old)\n",
    "    V1_temp = np.zeros_like(V1_new)\n",
    "    V1 = np.zeros_like(V1_new)\n",
    "    policy = np.zeros_like(V1_new)\n",
    "    exit = np.zeros_like(V1_new)+0.5\n",
    "    diff = np.ones_like(V1_old)\n",
    "    \n",
    "    comparison_matrix = ((1-p['delta'])*k_grid).reshape(1, v['n'])\n",
    "    objective = np.zeros_like(V1_old)\n",
    "    \n",
    "    while thres < diff.max():\n",
    "        v['k_p'] = k_grid.copy()\n",
    "\n",
    "        for j in range(v['n']):\n",
    "            v['k'] = k_grid[j]\n",
    "            for i in range(p['n_eps']):\n",
    "                v['eps'] = v['shocks'][i]\n",
    "                objective[i,:] = f['obj'](v, p, f)\n",
    "            \n",
    "            V1 = objective + p['beta']*np.dot(v['transition'], V1_old)\n",
    "            V1_temp[:, j] = V1.max(axis=1)\n",
    "            policy[:, j] = k_grid[V1.argmax(axis=1)]\n",
    "        \n",
    "\n",
    "        V1_new = np.maximum(V1_temp-v['c_f'], comparison_matrix)\n",
    "        diff = V1_new - V1_old\n",
    "        diff = linalg.norm(diff)\n",
    "        V1_old = V1_new.copy()\n",
    "    \n",
    "    policy[comparison_matrix >V1_temp-v['c_f']] = 0\n",
    "    exit[comparison_matrix >V1_temp-v['c_f']] = 1\n",
    "    exit[comparison_matrix <V1_temp-v['c_f']] = 0\n",
    "    \n",
    "    v_hat = (-k_grid +  p['beta']*np.dot(v['stationary_mc'],V1_new)).max()\n",
    "\n",
    "    return V1_new, v_hat, policy, exit, k_grid"
   ]
  },
  {
   "cell_type": "code",
   "execution_count": 14,
   "metadata": {},
   "outputs": [],
   "source": [
    "V1_new, v_hat, policy, exit, k_grid = vfi(variables, params, \\\n",
    "                                          functions)"
   ]
  },
  {
   "cell_type": "code",
   "execution_count": 15,
   "metadata": {},
   "outputs": [],
   "source": [
    "def equations_for_wage(w, v, p, f):\n",
    "    v['w'] = w\n",
    "    V1_new, v_hat = vfi(variables, params, functions)[0:2]\n",
    "    print('Done')\n",
    "    e = v['c_e'] - (v_hat*v['stationary_mc']).sum()\n",
    "    return e\n",
    "\n",
    "def solve_for_wage(v, p, f):\n",
    "    F = lambda w: equations_for_wage(w, v, p, f)\n",
    "    w_prime = optimize.root(F, 0.6).x\n",
    "    return w_prime"
   ]
  },
  {
   "cell_type": "code",
   "execution_count": 16,
   "metadata": {
    "scrolled": true
   },
   "outputs": [
    {
     "name": "stdout",
     "output_type": "stream",
     "text": [
      "Done\n",
      "Done\n",
      "Done\n",
      "Done\n",
      "Done\n",
      "Done\n",
      "Done\n",
      "Done\n",
      "Done\n",
      "Done\n",
      "Done\n",
      "Done\n",
      "Done\n",
      "Done\n",
      "Done\n",
      "Done\n",
      "Done\n"
     ]
    }
   ],
   "source": [
    "optimal_wage = solve_for_wage(variables, params, functions)[0]"
   ]
  },
  {
   "cell_type": "code",
   "execution_count": 17,
   "metadata": {},
   "outputs": [
    {
     "name": "stdout",
     "output_type": "stream",
     "text": [
      "Optimal wage for the set parameters is: 1.3501775291727385\n"
     ]
    }
   ],
   "source": [
    "print('Optimal wage for the set parameters is:', optimal_wage)"
   ]
  },
  {
   "cell_type": "code",
   "execution_count": null,
   "metadata": {},
   "outputs": [],
   "source": []
  }
 ],
 "metadata": {
  "kernelspec": {
   "display_name": "Python 3",
   "language": "python",
   "name": "python3"
  },
  "language_info": {
   "codemirror_mode": {
    "name": "ipython",
    "version": 3
   },
   "file_extension": ".py",
   "mimetype": "text/x-python",
   "name": "python",
   "nbconvert_exporter": "python",
   "pygments_lexer": "ipython3",
   "version": "3.6.3"
  }
 },
 "nbformat": 4,
 "nbformat_minor": 2
}
