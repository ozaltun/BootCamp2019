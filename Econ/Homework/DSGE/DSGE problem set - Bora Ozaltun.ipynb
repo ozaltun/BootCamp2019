{
 "cells": [
  {
   "cell_type": "code",
   "execution_count": 1,
   "metadata": {},
   "outputs": [],
   "source": [
    "import numpy as np\n",
    "import matplotlib.pyplot as plt"
   ]
  },
  {
   "cell_type": "markdown",
   "metadata": {},
   "source": [
    "### Exercise 5"
   ]
  },
  {
   "cell_type": "code",
   "execution_count": 2,
   "metadata": {},
   "outputs": [],
   "source": [
    "## Lets estimate the steady state values"
   ]
  },
  {
   "cell_type": "code",
   "execution_count": 66,
   "metadata": {},
   "outputs": [],
   "source": [
    "from sympy import var, exp, solve\n",
    "\n",
    "k, l = var('k l')\n",
    "c, w, r, T = var('c w r T')\n",
    "z = var('z')\n",
    "gamma, beta, alpha, sigma, tau = var('gamma beta alpha sigma tau')"
   ]
  },
  {
   "cell_type": "code",
   "execution_count": 67,
   "metadata": {},
   "outputs": [],
   "source": [
    "E1 = (1-tau)*(w + (r-sigma)*k) +T - c\n",
    "E2 = beta*((r-sigma)*(1-tau)+1) -1\n",
    "E3 = (c**(-gamma) - 1/(1-gamma))*w*(1-tau)\n",
    "E4 = r - alpha*k**(alpha-1)*exp(-alpha*z)*exp(z)\n",
    "E5 = w - k**(alpha)*(1-alpha)*exp(-alpha*z)*exp(z)\n",
    "E6 = T -tau*(w+(r-sigma)*k)"
   ]
  },
  {
   "cell_type": "code",
   "execution_count": 68,
   "metadata": {},
   "outputs": [
    {
     "name": "stdout",
     "output_type": "stream",
     "text": [
      "T - c + (1 - tau)*(k*(r - sigma) + w)\n",
      "beta*((1 - tau)*(r - sigma) + 1) - 1\n",
      "w*(1 - tau)*(-1/(1 - gamma) + c**(-gamma))\n",
      "-alpha*k**(alpha - 1)*exp(z)*exp(-alpha*z) + r\n",
      "-k**alpha*(1 - alpha)*exp(z)*exp(-alpha*z) + w\n",
      "T - tau*(k*(r - sigma) + w)\n"
     ]
    }
   ],
   "source": [
    "for i in [E1, E2, E3, E4, E5, E6]:\n",
    "    print(i)"
   ]
  },
  {
   "cell_type": "code",
   "execution_count": 52,
   "metadata": {},
   "outputs": [],
   "source": [
    "import numpy as np\n",
    "from scipy.optimize import root\n",
    "gamma = 2.5\n",
    "beta = 0.98\n",
    "alpha = 0.40\n",
    "sigma = 0.1\n",
    "tau = 0.05\n",
    "z = 0\n",
    "def func_p5(x):\n",
    "    k = x[0]\n",
    "    r = x[1]\n",
    "    c = x[2]\n",
    "    w = x[3]\n",
    "    T = x[4]\n",
    "\n",
    "    \n",
    "    E1 = (1-tau)*(w + (r-sigma)*k) +T - c\n",
    "    E2 = beta*((r-sigma)*(1-tau)+1) -1\n",
    "    E4 = r - alpha*(k**(alpha-1))*(np.exp(z)**(1-alpha))\n",
    "    E5 = w - k**(alpha)*(1-alpha)*(np.exp(z)**(-alpha))*np.exp(z)\n",
    "    E6 = T -tau*(w+(r-sigma)*k)\n",
    "    \n",
    "    return [E1, E2, E4, E5, E6] \n",
    "\n",
    "k_true = (((1-beta)/beta*(1/(1-tau)) + sigma)/((np.exp(z*(1-alpha))*alpha)))**(1/(alpha-1))"
   ]
  },
  {
   "cell_type": "code",
   "execution_count": 53,
   "metadata": {},
   "outputs": [],
   "source": [
    "sols = root(func_p5, np.ones(5)*.5)"
   ]
  },
  {
   "cell_type": "code",
   "execution_count": 54,
   "metadata": {},
   "outputs": [
    {
     "data": {
      "text/plain": [
       "array([7.28749795, 0.12148228, 1.48450482, 1.32795277, 0.07422524])"
      ]
     },
     "execution_count": 54,
     "metadata": {},
     "output_type": "execute_result"
    }
   ],
   "source": [
    "sols.x"
   ]
  },
  {
   "cell_type": "code",
   "execution_count": 55,
   "metadata": {},
   "outputs": [
    {
     "data": {
      "text/plain": [
       "7.287497950692989"
      ]
     },
     "execution_count": 55,
     "metadata": {},
     "output_type": "execute_result"
    }
   ],
   "source": [
    "k_true"
   ]
  },
  {
   "cell_type": "markdown",
   "metadata": {},
   "source": [
    "### Exercise 6"
   ]
  },
  {
   "cell_type": "code",
   "execution_count": 3,
   "metadata": {},
   "outputs": [],
   "source": [
    "from sympy import var, exp, solve, diff, lambdify\n",
    "\n",
    "cVar, lVar, gammaVar, xiVar, aVar = var('cVar lVar gammaVar xiVar aVar')\n",
    "u = (cVar**(1-gammaVar) -1)/(1-gammaVar) + aVar*((1-lVar)**(1-xiVar) -1)/(1-xiVar)\n",
    "\n",
    "\n",
    "KVar, LVar, zVar, alphaVar = var('KVar LVar zVar alphaVar')\n",
    "F = (KVar**alphaVar)*(LVar*exp(zVar))**(1-alphaVar)\n",
    "\n",
    "du_dc = diff(u, cVar)\n",
    "du_dl = diff(u, lVar)\n",
    "du_dc_l = lambdify([cVar, lVar, gammaVar, xiVar, aVar], du_dc, 'numpy')\n",
    "du_dl_l = lambdify([cVar, lVar, gammaVar, xiVar, aVar], du_dl, 'numpy')\n",
    "\n",
    "dF_dK = diff(F, KVar)\n",
    "dF_dL = diff(F, LVar)\n",
    "dF_dK_l = lambdify([KVar, LVar, zVar, alphaVar], dF_dK, 'numpy')\n",
    "dF_dL_l = lambdify([KVar, LVar, zVar, alphaVar], dF_dL, 'numpy')"
   ]
  },
  {
   "cell_type": "code",
   "execution_count": 17,
   "metadata": {},
   "outputs": [],
   "source": [
    "import numpy as np\n",
    "from scipy.optimize import root\n",
    "\n",
    "gamma = 2.5\n",
    "xi = 1.5\n",
    "beta = 0.98\n",
    "alpha = 0.40\n",
    "a = 0.5\n",
    "sigma = 0.1\n",
    "tau = 0.05\n",
    "z = 0\n",
    "\n",
    "def general_steady_state(x):\n",
    "    k = x[0]\n",
    "    l = x[1]\n",
    "    r = x[2]\n",
    "    c = x[3]\n",
    "    w = x[4]\n",
    "    T = x[5]\n",
    "    \n",
    "    E1 = (1-tau)*(w*l + (r-sigma)*k) +T - c\n",
    "    E2 = du_dc_l(c, l, gamma, xi, a)*(1-beta*((r-sigma)*(1-tau)+1))\n",
    "    E3 = du_dl_l(c, l, gamma, xi, a)+du_dc_l(c, l, gamma, xi, a)*w*(1-tau)\n",
    "    E4 = r - dF_dK_l(k, l, z, alpha)\n",
    "    E5 = w - dF_dL_l(k, l, z, alpha)\n",
    "    E6 = T -tau*(w*l+(r-sigma)*k)\n",
    "    \n",
    "    return [E1, E2, E3, E4, E5, E6] "
   ]
  },
  {
   "cell_type": "code",
   "execution_count": 18,
   "metadata": {},
   "outputs": [],
   "source": [
    "sols = root(general_steady_state, np.ones(6)*.5)"
   ]
  },
  {
   "cell_type": "code",
   "execution_count": 20,
   "metadata": {},
   "outputs": [
    {
     "data": {
      "text/plain": [
       "array([4.22522903, 0.57979145, 0.12148228, 0.86070321, 1.32795277,\n",
       "       0.04303516])"
      ]
     },
     "execution_count": 20,
     "metadata": {},
     "output_type": "execute_result"
    }
   ],
   "source": [
    "sols.x"
   ]
  },
  {
   "cell_type": "markdown",
   "metadata": {},
   "source": [
    "## Exercise 7"
   ]
  },
  {
   "cell_type": "markdown",
   "metadata": {},
   "source": [
    " For the steady state of the baseline tax model in section 3.7.3 use numerical differentiation to solve for the full set of comparative statics and sign them where possible.\n",
    "$dy/dx$ for $y ∈ {k,l,y ̄,w ̄,r ̄,T,i,c ̄}$ and $x ∈ {α,β,γ,δ,ξ,τ,a,z ̄}$.\n",
    "Using the same parameter values as in excercise 6, solve for the numerical values of the comparative statics."
   ]
  },
  {
   "cell_type": "code",
   "execution_count": 1,
   "metadata": {},
   "outputs": [],
   "source": [
    "# TODO"
   ]
  },
  {
   "cell_type": "code",
   "execution_count": null,
   "metadata": {},
   "outputs": [],
   "source": []
  }
 ],
 "metadata": {
  "kernelspec": {
   "display_name": "Python 3",
   "language": "python",
   "name": "python3"
  },
  "language_info": {
   "codemirror_mode": {
    "name": "ipython",
    "version": 3
   },
   "file_extension": ".py",
   "mimetype": "text/x-python",
   "name": "python",
   "nbconvert_exporter": "python",
   "pygments_lexer": "ipython3",
   "version": "3.6.3"
  }
 },
 "nbformat": 4,
 "nbformat_minor": 2
}
