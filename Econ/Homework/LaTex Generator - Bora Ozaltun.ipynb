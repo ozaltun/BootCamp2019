{
 "cells": [
  {
   "cell_type": "code",
   "execution_count": 43,
   "metadata": {},
   "outputs": [
    {
     "name": "stdout",
     "output_type": "stream",
     "text": [
      "$$ \\frac{a \\left(\\left(1 - l\\right)^{1 - \\xi} - 1\\right)}{1 - \\xi} + \\frac{c^{1 - \\gamma} - 1}{1 - \\gamma} $$\n",
      "$$ K^{\\alpha} \\left(L e^{z}\\right)^{1 - \\alpha} $$\n",
      "$$ \\frac{c^{1 - \\gamma}}{c} $$\n",
      "$$ \\frac{a \\left(1 - l\\right)^{1 - \\xi} \\left(\\xi - 1\\right)}{\\left(1 - \\xi\\right) \\left(1 - l\\right)} $$\n",
      "$$ \\frac{K^{\\alpha} \\alpha \\left(L e^{z}\\right)^{1 - \\alpha}}{K} $$\n",
      "$$ \\frac{K^{\\alpha} \\left(L e^{z}\\right)^{1 - \\alpha} \\left(1 - \\alpha\\right)}{L} $$\n",
      "$$ T - c + \\left(1 - au\\right) \\left(k \\left(- \\delta + r\\right) + l w\\right) $$\n",
      "$$ \\frac{c^{1 - \\gamma} \\left(- \\beta \\left(\\left(1 - au\\right) \\left(- \\delta + r\\right) + 1\\right) + 1\\right)}{c} $$\n",
      "$$ \\frac{a \\left(1 - l\\right)^{1 - \\xi} \\left(\\xi - 1\\right)}{\\left(1 - \\xi\\right) \\left(1 - l\\right)} + \\frac{c^{1 - \\gamma} w \\left(1 - au\\right)}{c} $$\n",
      "$$ r - \\frac{K^{\\alpha} \\alpha \\left(L e^{z}\\right)^{1 - \\alpha}}{K} $$\n",
      "$$ - \\frac{K^{\\alpha} \\left(L e^{z}\\right)^{1 - \\alpha} \\left(1 - \\alpha\\right)}{L} + w $$\n",
      "$$ T - au \\left(k \\left(- \\delta + r\\right) + l w\\right) $$\n"
     ]
    }
   ],
   "source": [
    "from sympy import var, exp, solve, diff, lambdify, latex\n",
    "\n",
    "ξ, γ, β, α, δ, τ = var('\\\\xi \\gamma \\beta \\\\alpha \\delta \\tau')\n",
    "\n",
    "k, w, r, T = var('k w r T')\n",
    "\n",
    "\n",
    "c, l, a = var(' c l a')\n",
    "\n",
    "u = (c**(1-γ) -1)/(1-γ) + a*((1-l)**(1-ξ) -1)/(1-ξ)\n",
    "\n",
    "\n",
    "K, L, z = var('K L z')\n",
    "\n",
    "F = (K**α)*(L*exp(z))**(1-α)\n",
    "\n",
    "\n",
    "du_dc = diff(u, c)\n",
    "du_dl = diff(u, l)\n",
    "\n",
    "dF_dK = diff(F, K)\n",
    "dF_dL = diff(F, L)\n",
    "\n",
    "E1 = (1-τ)*(w*l + (r-δ)*k) +T - c\n",
    "E2 = du_dc*(1-beta*((r-δ)*(1-τ)+1))\n",
    "E3 = du_dl+du_dc*w*(1-τ)\n",
    "E4 = r - dF_dK\n",
    "E5 = w - dF_dL\n",
    "E6 = T -τ*(w*l+(r-δ)*k)\n",
    "\n",
    "functions = [u, F, du_dc, du_dl, dF_dK, dF_dL, E1, E2, E3, E4, E5, E6]\n",
    "\n",
    "for function in functions:\n",
    "    print('$$',latex(function),'$$')"
   ]
  },
  {
   "cell_type": "code",
   "execution_count": 44,
   "metadata": {},
   "outputs": [
    {
     "name": "stdout",
     "output_type": "stream",
     "text": [
      "\\frac{a \\left(1 - l\\right)^{1 - \\xi} \\left(\\xi - 1\\right)}{\\left(1 - \\xi\\right) \\left(1 - l\\right)} + \\frac{c^{1 - \\gamma} w \\left(1 - au\\right)}{c}\n"
     ]
    }
   ],
   "source": [
    "print(latex(E3))"
   ]
  },
  {
   "cell_type": "code",
   "execution_count": 18,
   "metadata": {},
   "outputs": [],
   "source": [
    "sols = root(general_steady_state, np.ones(6)*.5)"
   ]
  },
  {
   "cell_type": "code",
   "execution_count": 20,
   "metadata": {},
   "outputs": [
    {
     "data": {
      "text/plain": [
       "array([4.22522903, 0.57979145, 0.12148228, 0.86070321, 1.32795277,\n",
       "       0.04303516])"
      ]
     },
     "execution_count": 20,
     "metadata": {},
     "output_type": "execute_result"
    }
   ],
   "source": [
    "sols.x"
   ]
  },
  {
   "cell_type": "code",
   "execution_count": null,
   "metadata": {},
   "outputs": [],
   "source": []
  }
 ],
 "metadata": {
  "kernelspec": {
   "display_name": "Python 3",
   "language": "python",
   "name": "python3"
  },
  "language_info": {
   "codemirror_mode": {
    "name": "ipython",
    "version": 3
   },
   "file_extension": ".py",
   "mimetype": "text/x-python",
   "name": "python",
   "nbconvert_exporter": "python",
   "pygments_lexer": "ipython3",
   "version": "3.6.3"
  }
 },
 "nbformat": 4,
 "nbformat_minor": 2
}
