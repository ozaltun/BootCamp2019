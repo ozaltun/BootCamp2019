{
 "cells": [
  {
   "cell_type": "markdown",
   "metadata": {},
   "source": [
    "# Introduction to dynamic programming with discrete states and discrete actions\n",
    "\n",
    "The goal of this notebook is to build up a value function iteration step by step.\n",
    "To do so, we consider a growth model without uncertainty. The task is to do all the #TODO's."
   ]
  },
  {
   "cell_type": "markdown",
   "metadata": {},
   "source": [
    "# 1. The sequential formulation\n",
    "\\begin{align}\n",
    "&V(k_0)=\\max_{\\{c_t\\}_{t=0}^{\\infty}} \\beta ^t u(c_t) \\\\\n",
    "\\text{subject to: } &k_{t+1} + c_t = k_t^{0.3} + 0.5 k_t \\\\\n",
    "&k_0 > 0 \\text{ given.}\n",
    "\\end{align}"
   ]
  },
  {
   "cell_type": "markdown",
   "metadata": {},
   "source": [
    "# 2. The recursive formulation\n",
    "The problem above can be formualted in recursive from:\n",
    "\\begin{align}\n",
    "&V(k) = \\max_{c} u(c) + \\beta V(k') \\\\\n",
    "\\text{subject to: }& k' + c = k^{0.3} + 0.5 k.\n",
    "\\end{align}\n",
    "We can plug the constraint directly into the maximization problem and get\n",
    "\\begin{align}\n",
    "&V(k) = \\max_{k'} u(k^{0.3} + 0.5 k - k') + \\beta V(k'). \\\\\n",
    "\\end{align}\n",
    "The above equation is also called **Bellman equation**.\n",
    "The goal of value function iteration is to find a function V which fullfills the Bellman equation for all possible $k$.\n",
    "In this example, the **state** is $k$ and the **policy** or **action** is $k'$.\n",
    "\n",
    "The mapping $ k \\rightarrow V(k)$ is the value function.  \n",
    "The mapping $ k \\rightarrow p(k)=k'$ is the policy function.  \n",
    "Given the value function, we can extract the policy function using\n",
    "\\begin{align}\n",
    "p(k) = \\text{arg}\\max_{k'} u(k^{0.3} + 0.5 k - k') + \\beta V(k')\n",
    "\\end{align}"
   ]
  },
  {
   "cell_type": "markdown",
   "metadata": {},
   "source": [
    "# 3. Discrete states and actions\n",
    "We can restrict the state and the actions to be discrete and to take values in a finite set with $N$ discrete values $\\mathcal{K}:=\\{k_1, k_2, \\dots k_N\\}$.\n",
    "Since the state can only take discrete values, the value function takes discrete values as well.\n",
    "We can then represent the entire value function as a vector $\\begin{bmatrix}V_1\\\\\n",
    "V_2\\\\\n",
    "\\dots \\\\\n",
    "V_N\n",
    "\\end{bmatrix} = \\begin{bmatrix}V(k_1)\\\\\n",
    "V(k_2)\\\\\n",
    "\\dots \\\\\n",
    "V(k_N)\n",
    "\\end{bmatrix}.$"
   ]
  },
  {
   "cell_type": "markdown",
   "metadata": {},
   "source": [
    "# 4. Value function iteration\n",
    "In this section we decompose value function iteration for discrete states and actions into several steps.\n",
    "The code for this steps is incomplete and it might be a nice exercise to complete it."
   ]
  },
  {
   "cell_type": "markdown",
   "metadata": {},
   "source": [
    "## 4.1 Initialization\n",
    "To start with value function iteration, we need to chose a grid for the states and the actions.\n",
    "In this example, the action in period $t$ determines the state in period $t+1$, therefore the grid for states and actions is the same."
   ]
  },
  {
   "cell_type": "code",
   "execution_count": 1,
   "metadata": {},
   "outputs": [],
   "source": [
    "import numpy as np\n",
    "\n",
    "# If you change any of these values, comment out the assertions\n",
    "\n",
    "N = 500 # number of grid-points for the capital grid\n",
    "k_low = 0.1 # lower bound for the capital grid\n",
    "k_high = 1 # upper bound for capital grid\n",
    "k_grid = np.linspace(k_low, k_high, N) #grid for capital\n",
    "\n",
    "# Now we initialize the value function, I like to initialize it to zero.\n",
    "V_init = np.zeros_like(k_grid)"
   ]
  },
  {
   "cell_type": "markdown",
   "metadata": {},
   "source": [
    "## 4.2 Value function update for a given state\n",
    "The idea value function iteration is to update the value function vector accroding to\n",
    "$$\n",
    "V_i^{\\text{updated}}=\\max_{k_j \\in \\mathcal{K}} u(k_i^{0.3} + 0.5 k_i - k_j) + \\beta V_j\n",
    "$$\n",
    "Our first step will be to implement this update.\n",
    "For the utility function we chose CRRA utility, with coefficient of relative risk aversion $\\gamma = 2$."
   ]
  },
  {
   "cell_type": "code",
   "execution_count": 18,
   "metadata": {},
   "outputs": [],
   "source": [
    "# I start out with some functions, which may be helpful\n",
    "# If you change the parameters, the assertions don't make sense anymore\n",
    "gamma = 2.\n",
    "beta = 0.9\n",
    "\n",
    "def u(c, gamma=gamma):\n",
    "    \"\"\"\n",
    "    input: \n",
    "    c: consumption\n",
    "    \n",
    "    output:\n",
    "    utility received from consumption\n",
    "    \"\"\"\n",
    "    return c ** (1 - gamma) / (1 - gamma)\n",
    "\n",
    "# hint: try to understand what this function does first, it is useful for vf_update!\n",
    "def actionvalue_allchoices(k_index, V_old):\n",
    "    \"\"\"\n",
    "    input:\n",
    "    k_index: index so that k_grid[index] corresponds to value of capital this period (state)\n",
    "    V_old: approximation to the value function. V_old[i] approximates V(k_grid[i]).\n",
    "    \n",
    "    output:\n",
    "    action_value: value of all possible state-action pairs.\n",
    "    \"\"\"\n",
    "    k = k_grid[k_index]\n",
    "    \n",
    "    action_value = np.zeros_like(k_grid)\n",
    "    \n",
    "    c = k**0.3 + 0.5 * k - k_grid # consumption implied by policy k_next in state k\n",
    "    action_value[c <= 0] = -999999 # set value to -HUGE for negative consumption\n",
    "    action_value[c > 0] = u(c[c > 0]) + beta * V_old[c > 0]    \n",
    "    return action_value\n",
    "\n",
    "def vf_update(i, V_old):\n",
    "    \"\"\"\n",
    "    input:\n",
    "    i: index corresponding to the entry of the value-function vector which is updated\n",
    "    V_old: value function vector from the previous iteration\n",
    "    \n",
    "    output:\n",
    "    Vi_new: updated value for the value function vector at entry i.\n",
    "    \"\"\"\n",
    "    Vi_new = actionvalue_allchoices(i, V_old).max()\n",
    "    \n",
    "    return Vi_new"
   ]
  },
  {
   "cell_type": "code",
   "execution_count": 26,
   "metadata": {
    "scrolled": true
   },
   "outputs": [],
   "source": [
    "# check function\n",
    "assert (np.abs(vf_update(0, V_init) - (- 2.216374)) < 0.01), 'Maybe there is an error in the vf_update function.'"
   ]
  },
  {
   "cell_type": "markdown",
   "metadata": {},
   "source": [
    "## 4.3 One update iteration\n",
    "The next step is to write a function, which takes the \"old\" value function vector as input, loops over all states, computes the updated value function at each state and returns the updated value function vector."
   ]
  },
  {
   "cell_type": "code",
   "execution_count": 27,
   "metadata": {},
   "outputs": [],
   "source": [
    "def vf_update_iteration(V_old):\n",
    "    \"\"\"\n",
    "    input: \n",
    "    V_old: array with current approximation of the value function\n",
    "    \n",
    "    output:\n",
    "    V_new: updated approximation of the value function\n",
    "    \"\"\"\n",
    "    V_new = np.zeros_like(V_old)\n",
    "    \n",
    "    for i in range(V_new.shape[0]):\n",
    "        V_new[i] = vf_update(i, V_old)\n",
    "    ###\n",
    "    # TODO: implement the rest of the function\n",
    "    ###\n",
    "    \n",
    "    return V_new"
   ]
  },
  {
   "cell_type": "code",
   "execution_count": 28,
   "metadata": {},
   "outputs": [],
   "source": [
    "# check function\n",
    "assert np.max(np.abs(np.mean(vf_update_iteration(V_init)) - (-1.1047))) < 0.001, 'maybe there is an error in the vf_update_iteration function'"
   ]
  },
  {
   "cell_type": "markdown",
   "metadata": {},
   "source": [
    "## 4.4 Iterating until convergence\n",
    "The next step is to set a desired threshold $\\epsilon$.\n",
    "Then we iteratively update the value function as implemented in the last section until the difference between the new and the old value function is smaller than the threshold $\\epsilon$."
   ]
  },
  {
   "cell_type": "code",
   "execution_count": 29,
   "metadata": {},
   "outputs": [
    {
     "name": "stdout",
     "output_type": "stream",
     "text": [
      "Iteration: 1\n",
      "Iteration: 2\n"
     ]
    },
    {
     "data": {
      "image/png": "[encoded data removed]",
      "text/plain": [
       "<matplotlib.figure.Figure at 0x10d5b0dd8>"
      ]
     },
     "metadata": {},
     "output_type": "display_data"
    },
    {
     "name": "stdout",
     "output_type": "stream",
     "text": [
      "Iteration: 3\n",
      "Iteration: 4\n",
      "Iteration: 5\n",
      "Iteration: 6\n",
      "Iteration: 7\n",
      "Iteration: 8\n",
      "Iteration: 9\n",
      "Iteration: 10\n",
      "Iteration: 11\n",
      "Iteration: 12\n",
      "Iteration: 13\n",
      "Iteration: 14\n",
      "Iteration: 15\n",
      "Iteration: 16\n",
      "Iteration: 17\n",
      "Iteration: 18\n",
      "Iteration: 19\n",
      "Iteration: 20\n",
      "Iteration: 21\n",
      "Iteration: 22\n",
      "Iteration: 23\n",
      "Iteration: 24\n",
      "Iteration: 25\n",
      "Iteration: 26\n",
      "Iteration: 27\n",
      "Iteration: 28\n",
      "Iteration: 29\n",
      "Iteration: 30\n",
      "Iteration: 31\n",
      "Iteration: 32\n",
      "Iteration: 33\n",
      "Iteration: 34\n",
      "Iteration: 35\n",
      "Iteration: 36\n",
      "Iteration: 37\n",
      "Iteration: 38\n",
      "Iteration: 39\n",
      "Iteration: 40\n",
      "Iteration: 41\n",
      "Iteration: 42\n",
      "Iteration: 43\n",
      "Iteration: 44\n",
      "Iteration: 45\n",
      "Iteration: 46\n",
      "Iteration: 47\n",
      "Iteration: 48\n",
      "Iteration: 49\n",
      "Iteration: 50\n",
      "Iteration: 51\n",
      "Iteration: 52\n"
     ]
    },
    {
     "data": {
      "image/png": "[encoded data removed]",
      "text/plain": [
       "<matplotlib.figure.Figure at 0x1064c57f0>"
      ]
     },
     "metadata": {},
     "output_type": "display_data"
    },
    {
     "name": "stdout",
     "output_type": "stream",
     "text": [
      "Iteration: 53\n",
      "Iteration: 54\n",
      "Iteration: 55\n",
      "Iteration: 56\n",
      "Iteration: 57\n",
      "Iteration: 58\n",
      "Iteration: 59\n",
      "Iteration: 60\n",
      "Iteration: 61\n",
      "Iteration: 62\n",
      "Iteration: 63\n",
      "Iteration: 64\n",
      "Iteration: 65\n",
      "Iteration: 66\n",
      "Iteration: 67\n",
      "Iteration: 68\n",
      "Iteration: 69\n",
      "Iteration: 70\n",
      "Iteration: 71\n",
      "Iteration: 72\n",
      "Iteration: 73\n",
      "Iteration: 74\n",
      "Iteration: 75\n",
      "Iteration: 76\n",
      "Iteration: 77\n",
      "Iteration: 78\n",
      "Iteration: 79\n",
      "Iteration: 80\n",
      "Iteration: 81\n",
      "Iteration: 82\n",
      "Iteration: 83\n",
      "Iteration: 84\n",
      "Iteration: 85\n",
      "Iteration: 86\n",
      "Iteration: 87\n",
      "Iteration: 88\n",
      "Iteration: 89\n",
      "Iteration: 90\n",
      "Iteration: 91\n",
      "Iteration: 92\n",
      "Iteration: 93\n",
      "Iteration: 94\n",
      "Iteration: 95\n",
      "Iteration: 96\n",
      "Iteration: 97\n",
      "Iteration: 98\n",
      "Iteration: 99\n",
      "Iteration: 100\n",
      "Iteration: 101\n",
      "Iteration: 102\n"
     ]
    },
    {
     "data": {
      "image/png": "[encoded data removed]",
      "text/plain": [
       "<matplotlib.figure.Figure at 0x118ac05c0>"
      ]
     },
     "metadata": {},
     "output_type": "display_data"
    },
    {
     "name": "stdout",
     "output_type": "stream",
     "text": [
      "Iteration: 103\n",
      "Iteration: 104\n",
      "Iteration: 105\n",
      "Iteration: 106\n",
      "Iteration: 107\n",
      "Iteration: 108\n",
      "Iteration: 109\n",
      "Iteration: 110\n",
      "Iteration: 111\n",
      "Iteration: 112\n",
      "Iteration: 113\n",
      "Iteration: 114\n",
      "Iteration: 115\n",
      "Iteration: 116\n",
      "Iteration: 117\n",
      "Iteration: 118\n",
      "Iteration: 119\n",
      "Iteration: 120\n",
      "Iteration: 121\n",
      "Iteration: 122\n",
      "Iteration: 123\n",
      "Iteration: 124\n",
      "Iteration: 125\n",
      "Iteration: 126\n",
      "Iteration: 127\n",
      "Iteration: 128\n",
      "Iteration: 129\n",
      "Iteration: 130\n",
      "Iteration: 131\n",
      "Iteration: 132\n",
      "Iteration: 133\n",
      "Iteration: 134\n",
      "Iteration: 135\n",
      "Iteration: 136\n",
      "Iteration: 137\n",
      "Iteration: 138\n",
      "Iteration: 139\n",
      "Iteration: 140\n",
      "Iteration: 141\n",
      "Iteration: 142\n",
      "Iteration: 143\n",
      "Iteration: 144\n",
      "Iteration: 145\n",
      "Iteration: 146\n",
      "Iteration: 147\n",
      "Iteration: 148\n",
      "Iteration: 149\n",
      "Iteration: 150\n",
      "Iteration: 151\n",
      "Iteration: 152\n"
     ]
    },
    {
     "data": {
      "image/png": "[encoded data removed]",
      "text/plain": [
       "<matplotlib.figure.Figure at 0x118b51588>"
      ]
     },
     "metadata": {},
     "output_type": "display_data"
    },
    {
     "name": "stdout",
     "output_type": "stream",
     "text": [
      "Iteration: 153\n",
      "Iteration: 154\n",
      "Iteration: 155\n",
      "Iteration: 156\n",
      "Iteration: 157\n",
      "Iteration: 158\n",
      "Iteration: 159\n",
      "Iteration: 160\n",
      "Iteration: 161\n",
      "Iteration: 162\n",
      "Iteration: 163\n",
      "Iteration: 164\n",
      "Iteration: 165\n",
      "Iteration: 166\n",
      "Iteration: 167\n",
      "Iteration: 168\n",
      "Iteration: 169\n",
      "Iteration: 170\n",
      "Iteration: 171\n",
      "Iteration: 172\n",
      "Iteration: 173\n",
      "Iteration: 174\n",
      "Iteration: 175\n",
      "Iteration: 176\n",
      "Iteration: 177\n",
      "Iteration: 178\n",
      "Iteration: 179\n",
      "Iteration: 180\n",
      "Iteration: 181\n",
      "Iteration: 182\n",
      "Iteration: 183\n",
      "Iteration: 184\n",
      "Iteration: 185\n",
      "Iteration: 186\n",
      "Iteration: 187\n",
      "Iteration: 188\n",
      "Iteration: 189\n",
      "Iteration: 190\n",
      "Iteration: 191\n",
      "Iteration: 192\n",
      "Iteration: 193\n",
      "Iteration: 194\n",
      "Iteration: 195\n",
      "Iteration: 196\n",
      "Iteration: 197\n",
      "Iteration: 198\n",
      "Iteration: 199\n",
      "Iteration: 200\n",
      "Iteration: 201\n",
      "Iteration: 202\n"
     ]
    },
    {
     "data": {
      "image/png": "[encoded data removed]",
      "text/plain": [
       "<matplotlib.figure.Figure at 0x118f53e80>"
      ]
     },
     "metadata": {},
     "output_type": "display_data"
    },
    {
     "name": "stdout",
     "output_type": "stream",
     "text": [
      "Iteration: 203\n",
      "Iteration: 204\n",
      "Iteration: 205\n",
      "Iteration: 206\n",
      "Iteration: 207\n",
      "Iteration: 208\n",
      "Iteration: 209\n",
      "Iteration: 210\n",
      "Iteration: 211\n",
      "Iteration: 212\n",
      "Iteration: 213\n",
      "Iteration: 214\n",
      "Iteration: 215\n",
      "Iteration: 216\n",
      "Iteration: 217\n",
      "Iteration: 218\n",
      "Iteration: 219\n",
      "Iteration: 220\n",
      "Iteration: 221\n",
      "Iteration: 222\n",
      "Iteration: 223\n",
      "Iteration: 224\n",
      "Iteration: 225\n",
      "Iteration: 226\n",
      "Converged after iteration 226\n"
     ]
    },
    {
     "data": {
      "image/png": "[encoded data removed]",
      "text/plain": [
       "<matplotlib.figure.Figure at 0x119008a90>"
      ]
     },
     "metadata": {},
     "output_type": "display_data"
    }
   ],
   "source": [
    "from matplotlib import pyplot as plt\n",
    "\n",
    "difference_list = []\n",
    "threshold = 1e-10\n",
    "max_iterations = 10000\n",
    "plot_interval = 50\n",
    "\n",
    "V = V_init.copy()\n",
    "\n",
    "for iteration in range(max_iterations):\n",
    "    print('Iteration: {}'.format(iteration + 1))\n",
    "    \n",
    "    ### begin TODO\n",
    "    V_new = vf_update_iteration(V)\n",
    "    difference = np.max(np.abs(V_new-V))\n",
    "    # TODO compute the maximum absolute difference between the old and new function\n",
    "    \n",
    "    difference_list.append(difference) # Nothing todo here\n",
    "    \n",
    "    V = V_new.copy()# TODO Copy the \"new\" value function to the \"old\"\n",
    "    ### end TODO\n",
    "    \n",
    "    \n",
    "    if difference < threshold:\n",
    "        print('Converged after iteration {}'.format(iteration + 1))\n",
    "        \n",
    "        plt.figure()\n",
    "        plt.plot(k_grid, V)\n",
    "        plt.xlabel('k')\n",
    "        plt.ylabel('V(k)')\n",
    "        plt.title('Value function after convergence')\n",
    "        plt.show();\n",
    "        break\n",
    "        \n",
    "    if iteration%plot_interval == 1:\n",
    "        \n",
    "        plt.figure()\n",
    "        plt.plot(np.arange(1, iteration+2), np.log10(np.array(difference_list)))\n",
    "        plt.xlabel('Iteration')\n",
    "        plt.ylabel('Maximum update [log10]')\n",
    "        plt.show();"
   ]
  },
  {
   "cell_type": "markdown",
   "metadata": {},
   "source": [
    "## 4.5 Extracting the policy function\n",
    "Since we have our value function, we can extract the policy function using\n",
    "\\begin{align}\n",
    "p(k) = \\text{arg}\\max_{k'} u(k^{0.3} + 0.5 k - k') + \\beta V(k').\n",
    "\\end{align}"
   ]
  },
  {
   "cell_type": "code",
   "execution_count": 31,
   "metadata": {},
   "outputs": [],
   "source": [
    "def extract_policy(V):\n",
    "    \"\"\"\n",
    "    input:\n",
    "    V: value function array\n",
    "    \n",
    "    output:\n",
    "    p: polcy function array\n",
    "    \"\"\"\n",
    "    p = np.zeros_like(V)\n",
    "    \n",
    "    for i in range(p.shape[0]):\n",
    "        action_value = actionvalue_allchoices(i, V)\n",
    "        p[i] = k_grid[action_value.argmax()]\n",
    "    ###\n",
    "    # TODO: implement the rest of the function\n",
    "    ###\n",
    "    \n",
    "    return p"
   ]
  },
  {
   "cell_type": "code",
   "execution_count": 32,
   "metadata": {},
   "outputs": [
    {
     "data": {
      "image/png": "[encoded data removed]",
      "text/plain": [
       "<matplotlib.figure.Figure at 0x10d5af5c0>"
      ]
     },
     "metadata": {},
     "output_type": "display_data"
    }
   ],
   "source": [
    "plt.figure()\n",
    "plt.plot(k_grid, extract_policy(V))\n",
    "plt.xlabel('k')\n",
    "plt.ylabel(\"k'\")\n",
    "plt.title('Policy function')\n",
    "plt.show();"
   ]
  }
 ],
 "metadata": {
  "kernelspec": {
   "display_name": "Python 3",
   "language": "python",
   "name": "python3"
  },
  "language_info": {
   "codemirror_mode": {
    "name": "ipython",
    "version": 3
   },
   "file_extension": ".py",
   "mimetype": "text/x-python",
   "name": "python",
   "nbconvert_exporter": "python",
   "pygments_lexer": "ipython3",
   "version": "3.6.3"
  }
 },
 "nbformat": 4,
 "nbformat_minor": 2
}
