{
 "cells": [
  {
   "cell_type": "code",
   "execution_count": 1,
   "metadata": {},
   "outputs": [],
   "source": [
    "import numpy as np\n",
    "import pandas as pd\n",
    "import matplotlib.pyplot as plt\n",
    "from scipy.interpolate import interp1d\n",
    "from scipy import optimize"
   ]
  },
  {
   "cell_type": "code",
   "execution_count": 2,
   "metadata": {},
   "outputs": [],
   "source": [
    "k_min = 0.01\n",
    "k_max = 10\n",
    "N = 50\n",
    "beta = 0.99\n",
    "tolerance = 1e-5\n",
    "iterations = 1000\n",
    "k_grid = np.linspace(k_min, k_max, N)\n",
    "p_grid = np.ones((2, N)) * k_min\n",
    "k_grid_2D = np.zeros_like(p_grid)\n",
    "k_grid_2D[0,:] = k_grid\n",
    "k_grid_2D[1,:] = k_grid"
   ]
  },
  {
   "cell_type": "code",
   "execution_count": 3,
   "metadata": {},
   "outputs": [],
   "source": [
    "# Utility function\n",
    "def u(c):\n",
    "    return np.log(c)\n",
    "\n",
    "# Derivative of utility function\n",
    "def du_dc(c):\n",
    "    return 1./c\n",
    "\n",
    "# Getting f \n",
    "def f(k, method=None):\n",
    "    f = np.zeros((2, N))\n",
    "    f[0,:] = 0.9*k[0,:]**0.3 + 0.3 * k[0,:]\n",
    "    f[1,:] = 1.1*k[1,:]**0.3 + 0.9* k[1,:]\n",
    "    \n",
    "    if method == 'mean':\n",
    "        return f.mean(axis=0)\n",
    "\n",
    "    else:\n",
    "        return f\n",
    "\n",
    "# Getting the derivative of f\n",
    "def df_dx(k, method = None):\n",
    "    \n",
    "    df = np.zeros((2, N))\n",
    "    df[0,:] = 0.9*0.3*k[0,:]**(0.3-1) +0.3\n",
    "    df[1,:] = 1.1*0.3*k[1,:]**(0.3-1) +0.9\n",
    "    \n",
    "    if method == 'mean':\n",
    "        return df.mean(axis=0)\n",
    "    else:\n",
    "        return df\n",
    "\n",
    "def R(p_grid, p_grid_old):\n",
    "    # reshaping p_grid\n",
    "    p_grid = p_grid.reshape(2, N)\n",
    "    \n",
    "    \n",
    "    # Create the two seperate interpolations\n",
    "    PL1 = interp1d(k_grid, p_grid_old[0,:], kind= 'linear',fill_value='extrapolate')\n",
    "    PL2 = interp1d(k_grid, p_grid_old[1,:], kind = 'linear', fill_value='extrapolate')\n",
    "    \n",
    "    # Get PL as a (2, N) interpolation\n",
    "    PL_state1 = np.zeros((2, N))\n",
    "    PL_state2 = np.zeros((2, N))\n",
    "    \n",
    "    PL_state1[0,:] = PL1(p_grid[0,:])\n",
    "    PL_state1[1, :] = PL2(p_grid[0,:])\n",
    "    \n",
    "    PL_state2[0,:] = PL1(p_grid[1,:])\n",
    "    PL_state2[1,:] = PL2(p_grid[1,:])\n",
    "    \n",
    "    # Calculate the first part of the equation\n",
    "    part1 = du_dc(f(k_grid_2D)-p_grid)\n",
    "    \n",
    "    # Calculate the second part of the equation\n",
    "    curr_temp1 = np.concatenate((p_grid[0, :].reshape(1,N), p_grid[0, :].reshape(1,N)))\n",
    "    curr_temp2 = np.concatenate((p_grid[0, :].reshape(1,N), p_grid[0, :].reshape(1,N)))\n",
    "    part2_state1 = df_dx(curr_temp1) * du_dc(f(curr_temp2) - PL_state1)\n",
    "    part2_state1 = (beta* part2_state1.mean(axis=0)).reshape(1,N)\n",
    "    \n",
    "    curr_temp1 = np.concatenate((p_grid[1, :].reshape(1,N), p_grid[1, :].reshape(1,N)))\n",
    "    curr_temp2 = np.concatenate((p_grid[1, :].reshape(1,N), p_grid[1, :].reshape(1,N)))\n",
    "    part2_state2 = df_dx(curr_temp1) * du_dc(f(curr_temp2) - PL_state2)\n",
    "    part2_state2 = (beta* part2_state2.mean(axis=0)).reshape(1,N)\n",
    "    \n",
    "    \n",
    "    \n",
    "    output = part1 - np.concatenate((part2_state1, part2_state2))\n",
    "    # Outputting in vector form\n",
    "    output_vector = output.ravel()\n",
    "    return output_vector\n",
    "    \n",
    "\n",
    "def solve_R(p_grid):\n",
    "    \n",
    "    \n",
    "    p_grid_old = p_grid.copy()\n",
    "    \n",
    "    def tempR(p): \n",
    "        return R(p, p_grid_old)\n",
    "    \n",
    "    \n",
    "    p_grid_vector = p_grid.ravel()\n",
    "    sol = optimize.fsolve(tempR, p_grid_vector)\n",
    "    sol = sol.reshape(2, N)\n",
    "    return sol"
   ]
  },
  {
   "cell_type": "code",
   "execution_count": 4,
   "metadata": {},
   "outputs": [],
   "source": [
    "for i in range(iterations):\n",
    "    sol = solve_R(p_grid)\n",
    "    p_grid = sol.copy()\n",
    "    if p_grid.max() < tolerance:\n",
    "        print('Converged!')\n",
    "        break"
   ]
  },
  {
   "cell_type": "code",
   "execution_count": 5,
   "metadata": {},
   "outputs": [
    {
     "data": {
      "image/png": "[encoded data removed]",
      "text/plain": [
       "<matplotlib.figure.Figure at 0x11a326cf8>"
      ]
     },
     "metadata": {},
     "output_type": "display_data"
    }
   ],
   "source": [
    "plt.plot(k_grid, sol[0,:], label = 'state 1')\n",
    "plt.plot(k_grid, sol[1,:], label = 'state 2')\n",
    "\n",
    "plt.legend()\n",
    "plt.show()"
   ]
  },
  {
   "cell_type": "code",
   "execution_count": null,
   "metadata": {},
   "outputs": [],
   "source": []
  }
 ],
 "metadata": {
  "kernelspec": {
   "display_name": "Python 3",
   "language": "python",
   "name": "python3"
  },
  "language_info": {
   "codemirror_mode": {
    "name": "ipython",
    "version": 3
   },
   "file_extension": ".py",
   "mimetype": "text/x-python",
   "name": "python",
   "nbconvert_exporter": "python",
   "pygments_lexer": "ipython3",
   "version": "3.6.3"
  }
 },
 "nbformat": 4,
 "nbformat_minor": 2
}
