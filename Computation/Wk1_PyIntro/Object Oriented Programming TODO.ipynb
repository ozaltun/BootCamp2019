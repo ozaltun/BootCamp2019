{
 "cells": [
  {
   "cell_type": "markdown",
   "metadata": {},
   "source": [
    "## Problem 1"
   ]
  },
  {
   "cell_type": "code",
   "execution_count": 33,
   "metadata": {},
   "outputs": [],
   "source": [
    "class Backpack:\n",
    "    \"\"\"A Backpack object class. Has a name and a list of contents.\n",
    "    Attributes:\n",
    "        name (str): the name of the backpack's owner.\n",
    "        color (str): the color of the backpack.\n",
    "        max_size(int): the max number of objects the bag \n",
    "        can hold. Default size is 5.\n",
    "        contents (list): the contents of the backpack.\n",
    "    \"\"\"\n",
    "    \n",
    "    def __init__(self, name, color, max_size=5):\n",
    "        \"\"\"Set the name and initialize an empty list of contents.\n",
    "        Parameters:\n",
    "            name (str): the name of the backpack's owner.\n",
    "            color (str): the color of the backpack.\n",
    "            max_size(int): the max number of objects the bag \n",
    "            can hold. Default size is 5.\n",
    "        \"\"\"\n",
    "        self.name = name\n",
    "        self.color = color\n",
    "        self.max_size = max_size            # Initialize some attributes.\n",
    "        self.contents = []\n",
    "        \n",
    "    def put(self, item):\n",
    "        \"\"\"Add 'item' to the backpack's list of contents.\"\"\"\n",
    "        if self.max_size <= len(self.contents):\n",
    "            print('No Room!')\n",
    "        else:\n",
    "            self.contents.append(item)  \n",
    "        \n",
    "    def take(self, item):\n",
    "        \"\"\"Remove 'item' from the backpack's list of contents.\"\"\"\n",
    "        self.contents.remove(item)\n",
    "\n",
    "    def dump(self):\n",
    "        \"\"\"Resets 'contents' in the backpack to an empty list.\"\"\"\n",
    "        self.contents = []\n",
    "       "
   ]
  },
  {
   "cell_type": "code",
   "execution_count": 34,
   "metadata": {},
   "outputs": [
    {
     "name": "stdout",
     "output_type": "stream",
     "text": [
      "Contents: ['pencil', 'pen', 'paper', 'computer', 'lunch']\n",
      "No Room!\n",
      "Put: ['pencil', 'pen', 'paper', 'computer', 'lunch']\n",
      "Contents: ['pencil', 'pen', 'computer', 'lunch']\n",
      "Contents: []\n"
     ]
    }
   ],
   "source": [
    "def test_backpack():\n",
    "    testpack = Backpack(\"Barry\", \"black\")       # Instantiate the object.\n",
    "    if testpack.name != \"Barry\":                # Test an attribute.\n",
    "        print(\"Backpack.name assigned incorrectly\")\n",
    "    for item in [\"pencil\", \"pen\", \"paper\", \"computer\", \"lunch\"]:\n",
    "        testpack.put(item)                      # Test a method.\n",
    "    print(\"Contents:\", testpack.contents)\n",
    "    testpack.put('dinner')\n",
    "    print('Put:', testpack.contents)\n",
    "    testpack.take('paper')\n",
    "    print('Contents:', testpack.contents)\n",
    "    testpack.dump()\n",
    "    print('Contents:', testpack.contents)\n",
    "\n",
    "\n",
    "\n",
    "test_backpack()"
   ]
  },
  {
   "cell_type": "code",
   "execution_count": 36,
   "metadata": {},
   "outputs": [],
   "source": [
    "class Jetpack(Backpack):\n",
    "    def __init__(self, name, color, max_size=2, amount_of_fuel=10):\n",
    "        \"\"\"Set the name and initialize an empty list of contents.\n",
    "        Parameters:\n",
    "            name (str): the name of the backpack's owner.\n",
    "            color (str): the color of the backpack.\n",
    "            max_size(int): the max number of objects the bag \n",
    "            can hold. Default size is 2.\n",
    "            amount_of_fuel(int): the fuel amount that the \n",
    "            jetpack has.\n",
    "        \"\"\"\n",
    "        self.name = name\n",
    "        self.color = color\n",
    "        self.max_size = max_size\n",
    "        self.amount_of_fuel = amount_of_fuel # Initialize some attributes.\n",
    "        self.contents = []\n",
    "   \n",
    "    def fly(self, amount_of_fuel_to_be_burned):\n",
    "        \"\"\"This operator is for when someone will fly with \n",
    "        the jetpack.\"\"\"\n",
    "        if amount_of_fuel_to_be_burned > self.amount_of_fuel:\n",
    "            print('Not enough fuel!')\n",
    "        else:\n",
    "            self.amount_of_fuel = self.amount_of_fuel - amount_of_fuel_to_be_burned\n",
    "    \n",
    "    def dump(self):\n",
    "        \"\"\"This operator dumps both all fuel and contents \n",
    "        from the Jetpack.\"\"\"\n",
    "        self.contents = []\n",
    "        self.amount_of_fuel = 0"
   ]
  },
  {
   "cell_type": "code",
   "execution_count": 42,
   "metadata": {},
   "outputs": [
    {
     "name": "stdout",
     "output_type": "stream",
     "text": [
      "['Food']\n",
      "Not enough fuel!\n",
      "1\n",
      "[] 0\n"
     ]
    }
   ],
   "source": [
    "def test_jetpack():\n",
    "    bora = Jetpack('Bora', 'green')\n",
    "    bora.put('Food')\n",
    "    print(bora.contents)\n",
    "    bora.fly(11)\n",
    "    bora.fly(9)\n",
    "    print(bora.amount_of_fuel)\n",
    "    bora.dump()\n",
    "    print(bora.contents, bora.amount_of_fuel)\n",
    "\n",
    "test_jetpack()"
   ]
  },
  {
   "cell_type": "code",
   "execution_count": 62,
   "metadata": {},
   "outputs": [],
   "source": [
    "class Backpack:\n",
    "    \"\"\"A Backpack object class. Has a name and a list of contents.\n",
    "    Attributes:\n",
    "        name (str): the name of the backpack's owner.\n",
    "        color (str): the color of the backpack.\n",
    "        max_size(int): the max number of objects the bag \n",
    "        can hold. Default size is 5.\n",
    "        contents (list): the contents of the backpack.\n",
    "    \"\"\"\n",
    "    \n",
    "    def __init__(self, name, color, max_size=5):\n",
    "        \"\"\"Set the name and initialize an empty list of contents.\n",
    "        Parameters:\n",
    "            name (str): the name of the backpack's owner.\n",
    "            color (str): the color of the backpack.\n",
    "            max_size(int): the max number of objects the bag \n",
    "            can hold. Default size is 5.\n",
    "        \"\"\"\n",
    "        self.name = name\n",
    "        self.color = color\n",
    "        self.max_size = max_size            # Initialize some attributes.\n",
    "        self.contents = []\n",
    "    \n",
    "    def __eq__(self, other):\n",
    "        \"\"\"Check to see if two backpacks have the same name, \n",
    "           color, and number of contents.\"\"\"\n",
    "        if (self.name == other.name) and (self.color == other.color) and (len(self.contents) == len(other.contents)):\n",
    "            return True\n",
    "        else:\n",
    "            return False\n",
    "        \n",
    "    def __str__(self):\n",
    "        \"\"\"Prints the object information.\"\"\"\n",
    "        str_0 = 'Owner:     {}'.format(self.name)\n",
    "        str_1 = 'Color:     {}'.format(self.color)\n",
    "        str_2 = 'Size:      {}'.format(len(self.contents))\n",
    "        str_3 = 'Max Size:  {}'.format(self.max_size)\n",
    "        str_4 = 'Contents:  {}'.format(self.contents)\n",
    "        return str_0+'\\n'+str_1+'\\n'+str_2+'\\n'+str_3+'\\n'+str_4\n",
    "    \n",
    "    def put(self, item):\n",
    "        \"\"\"Add 'item' to the backpack's list of contents.\"\"\"\n",
    "        if self.max_size <= len(self.contents):\n",
    "            print('No Room!')\n",
    "        else:\n",
    "            self.contents.append(item)  \n",
    "        \n",
    "    def take(self, item):\n",
    "        \"\"\"Remove 'item' from the backpack's list of contents.\"\"\"\n",
    "        self.contents.remove(item)\n",
    "\n",
    "    def dump(self):\n",
    "        \"\"\"Resets 'contents' in the backpack to an empty list.\"\"\"\n",
    "        self.contents = []\n",
    "       "
   ]
  },
  {
   "cell_type": "code",
   "execution_count": 63,
   "metadata": {},
   "outputs": [
    {
     "name": "stdout",
     "output_type": "stream",
     "text": [
      "True\n",
      "False\n",
      "Owner:     Barry\n",
      "Color:     black\n",
      "Size:      0\n",
      "Max Size:  5\n",
      "Contents:  []\n"
     ]
    }
   ],
   "source": [
    "def test_backpack():\n",
    "    testpack = Backpack(\"Barry\", \"black\")\n",
    "    testpack_2 = Backpack('Barry', 'black')\n",
    "    testpack_3 = Backpack('Not Barry', 'white')\n",
    "    print(testpack == testpack_2)\n",
    "    print(testpack == testpack_3)\n",
    "    print(testpack)\n",
    "\n",
    "\n",
    "test_backpack()"
   ]
  },
  {
   "cell_type": "code",
   "execution_count": 143,
   "metadata": {},
   "outputs": [],
   "source": [
    "class ComplexNumber:\n",
    "    \"\"\"This class is a class for complex numbers in python.\"\"\"\n",
    "    def __init__(self, real, imag):\n",
    "        \"\"\"Initializes the real and imaginary parts of the complex\n",
    "        number.\"\"\"\n",
    "        self.real = real\n",
    "        self.imag = imag\n",
    "        \n",
    "    def __str__(self):\n",
    "        \"\"\"Implements the magic method for printing a complex number\n",
    "        object.\"\"\"\n",
    "        if self.imag <0:\n",
    "            return '({}-{}j)'.format(self.real, -self.imag) \n",
    "        else:\n",
    "            return '({}+{}j)'.format(self.real, self.imag)\n",
    "    \n",
    "    def __abs__(self):\n",
    "        \"\"\"Implements the magic method for printing the absolute value\n",
    "        of a complex number.\"\"\"\n",
    "        return (self.real **2 + self.imag **2) ** 0.5\n",
    "    \n",
    "    def __eq__(self, other):\n",
    "        \"\"\"Checks if two complex numbers are equal.\"\"\"\n",
    "        if (self.real == other.real ) and (self.imag == other.imag):\n",
    "            return True\n",
    "        else:\n",
    "            return False\n",
    "    \n",
    "    def __add__(self, other):\n",
    "        \"\"\"Adds two complex numbers.\"\"\"\n",
    "        return ComplexNumber(self.real+other.real, self.imag+other.imag)\n",
    "    \n",
    "    def __sub__(self, other):\n",
    "        \"\"\"Subtracts two complex numbers.\"\"\"\n",
    "        return ComplexNumber(self.real-other.real, self.imag-other.imag)\n",
    "     \n",
    "    def __mul__(self, other):\n",
    "        \"\"\"Multiplies two complex numbers with each other.\"\"\"\n",
    "        real = self.real*other.real +self.imag *other.imag\n",
    "        imag = self.real*other.imag + self.imag*other.real\n",
    "        return ComplexNumber(real, imag)\n",
    "        \n",
    "    def __truediv__(self, other):\n",
    "        \"\"\"Divides two complex numbers with each other.\"\"\"\n",
    "        num = self * other.conjugate()\n",
    "        denom = other * other.conjugate()\n",
    "        real = num.real/denom.real\n",
    "        imag = num.imag/denom.real\n",
    "        return ComplexNumber(real, imag)\n",
    "    def conjugate(self):\n",
    "        \"\"\"Returns a new ComplexNumber object that is the conjugate\n",
    "        of itself.\"\"\"\n",
    "        return ComplexNumber(self.real, -self.imag)\n",
    "    \n"
   ]
  },
  {
   "cell_type": "code",
   "execution_count": 150,
   "metadata": {},
   "outputs": [],
   "source": [
    "def test_ComplexNumber(a, b):\n",
    "    py_cnum, my_cnum = complex(a, b), ComplexNumber(a, b)\n",
    "    # Validate the constructor.\n",
    "    if my_cnum.real != a or my_cnum.imag != b:\n",
    "        print(\"__init__() set self.real and self.imag incorrectly\")\n",
    "    # Validate conjugate() by checking the new number's imag attribute.\n",
    "    if py_cnum.conjugate().imag != my_cnum.conjugate().imag:\n",
    "        print(\"conjugate() failed for\", py_cnum)\n",
    "    # Validate __str__().\n",
    "    if str(py_cnum) != str(my_cnum):\n",
    "        print(\"__str__() failed for\", py_cnum, my_cnum)\n",
    "    \n",
    "    if str(py_cnum * py_cnum) != str(my_cnum *my_cnum):\n",
    "        print(\"__str__() failed for\", py_cnum * py_cnum, my_cnum *my_cnum)"
   ]
  },
  {
   "cell_type": "code",
   "execution_count": 151,
   "metadata": {},
   "outputs": [
    {
     "name": "stdout",
     "output_type": "stream",
     "text": [
      "__str__() failed for 2j (2+2j)\n"
     ]
    }
   ],
   "source": [
    "test_ComplexNumber(1, 1)"
   ]
  },
  {
   "cell_type": "code",
   "execution_count": null,
   "metadata": {},
   "outputs": [],
   "source": []
  }
 ],
 "metadata": {
  "kernelspec": {
   "display_name": "Python 3",
   "language": "python",
   "name": "python3"
  },
  "language_info": {
   "codemirror_mode": {
    "name": "ipython",
    "version": 3
   },
   "file_extension": ".py",
   "mimetype": "text/x-python",
   "name": "python",
   "nbconvert_exporter": "python",
   "pygments_lexer": "ipython3",
   "version": "3.6.3"
  }
 },
 "nbformat": 4,
 "nbformat_minor": 2
}
