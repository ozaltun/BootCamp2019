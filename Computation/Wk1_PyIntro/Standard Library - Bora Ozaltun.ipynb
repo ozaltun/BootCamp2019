{
 "cells": [
  {
   "cell_type": "markdown",
   "metadata": {},
   "source": [
    "## Problem 1"
   ]
  },
  {
   "cell_type": "code",
   "execution_count": 1,
   "metadata": {},
   "outputs": [
    {
     "data": {
      "text/plain": [
       "(-10, 10, 0.0)"
      ]
     },
     "execution_count": 1,
     "metadata": {},
     "output_type": "execute_result"
    }
   ],
   "source": [
    "def list_stats(list):\n",
    "    return min(list), max(list), sum(list)/len(list)\n",
    "\n",
    "list_stats([-10, 10, 0])"
   ]
  },
  {
   "cell_type": "markdown",
   "metadata": {},
   "source": [
    "## Problem 2"
   ]
  },
  {
   "cell_type": "code",
   "execution_count": 2,
   "metadata": {},
   "outputs": [
    {
     "name": "stdout",
     "output_type": "stream",
     "text": [
      "a: 3 b: 1\n"
     ]
    }
   ],
   "source": [
    "# int is mutable\n",
    "a = int(1)\n",
    "b = a\n",
    "a = int(3)\n",
    "print('a:',a,'b:', b)"
   ]
  },
  {
   "cell_type": "code",
   "execution_count": 3,
   "metadata": {},
   "outputs": [
    {
     "name": "stdout",
     "output_type": "stream",
     "text": [
      "a: Hello OSELAB! b: Hello World!\n"
     ]
    }
   ],
   "source": [
    "# str is mutable\n",
    "a = str('Hello World!')\n",
    "b = a\n",
    "a = 'Hello OSELAB!'\n",
    "print('a:',a,'b:', b)"
   ]
  },
  {
   "cell_type": "code",
   "execution_count": 4,
   "metadata": {},
   "outputs": [
    {
     "name": "stdout",
     "output_type": "stream",
     "text": [
      "a: [1, 3, 5, 10] b: [1, 3, 5, 10]\n"
     ]
    }
   ],
   "source": [
    "# list is immutable\n",
    "a = [1, 3, 5]\n",
    "b = a\n",
    "a.append(10)\n",
    "print('a:',a,'b:', b)"
   ]
  },
  {
   "cell_type": "code",
   "execution_count": 5,
   "metadata": {},
   "outputs": [
    {
     "name": "stdout",
     "output_type": "stream",
     "text": [
      "a: (1, 3, 5, 10) b: (1, 3, 5)\n"
     ]
    }
   ],
   "source": [
    "# tuple is mutable\n",
    "a = (1, 3, 5)\n",
    "b = a\n",
    "a += (10,)\n",
    "print('a:',a,'b:', b)"
   ]
  },
  {
   "cell_type": "code",
   "execution_count": 6,
   "metadata": {},
   "outputs": [
    {
     "name": "stdout",
     "output_type": "stream",
     "text": [
      "a: {1, 10, 3, 5} b: {1, 3, 5}\n"
     ]
    }
   ],
   "source": [
    "# set is mutable\n",
    "a = set([1, 3, 5])\n",
    "b = a\n",
    "a = a | set([10])\n",
    "print('a:',a,'b:', b)"
   ]
  },
  {
   "cell_type": "markdown",
   "metadata": {},
   "source": [
    "## Problem 3"
   ]
  },
  {
   "cell_type": "code",
   "execution_count": 7,
   "metadata": {},
   "outputs": [],
   "source": [
    "from calculator import *\n",
    "def hypo(a,b):\n",
    "    return calc_sqrt(calc_two(calc_two(a, a, calculation='product'),calc_two(b, b, calculation='product')))\n"
   ]
  },
  {
   "cell_type": "code",
   "execution_count": 8,
   "metadata": {},
   "outputs": [
    {
     "data": {
      "text/plain": [
       "5.0"
      ]
     },
     "execution_count": 8,
     "metadata": {},
     "output_type": "execute_result"
    }
   ],
   "source": [
    "hypo(3,4)"
   ]
  },
  {
   "cell_type": "markdown",
   "metadata": {},
   "source": [
    "## Problem 4"
   ]
  },
  {
   "cell_type": "code",
   "execution_count": 35,
   "metadata": {},
   "outputs": [],
   "source": [
    "from itertools import chain, combinations\n",
    "def p_4(A):\n",
    "    list_initial = list(chain(A))\n",
    "    final_list = []\n",
    "    for i in range(len(list_initial)):\n",
    "        final_list+=list(combinations(list_initial, i))\n",
    "    final_list.append(tuple(list_initial))\n",
    "    final_list = [set(i) for i in final_list]\n",
    "    return final_list"
   ]
  },
  {
   "cell_type": "code",
   "execution_count": 36,
   "metadata": {},
   "outputs": [
    {
     "data": {
      "text/plain": [
       "[set(),\n",
       " {'a'},\n",
       " {'b'},\n",
       " {'c'},\n",
       " {'a', 'b'},\n",
       " {'a', 'c'},\n",
       " {'b', 'c'},\n",
       " {'a', 'b', 'c'}]"
      ]
     },
     "execution_count": 36,
     "metadata": {},
     "output_type": "execute_result"
    }
   ],
   "source": [
    "p_4('abc')"
   ]
  },
  {
   "cell_type": "markdown",
   "metadata": {},
   "source": [
    "## Problem 5"
   ]
  },
  {
   "cell_type": "code",
   "execution_count": 15,
   "metadata": {},
   "outputs": [],
   "source": [
    "# Updated box.py"
   ]
  }
 ],
 "metadata": {
  "kernelspec": {
   "display_name": "Python 3",
   "language": "python",
   "name": "python3"
  },
  "language_info": {
   "codemirror_mode": {
    "name": "ipython",
    "version": 3
   },
   "file_extension": ".py",
   "mimetype": "text/x-python",
   "name": "python",
   "nbconvert_exporter": "python",
   "pygments_lexer": "ipython3",
   "version": "3.6.3"
  }
 },
 "nbformat": 4,
 "nbformat_minor": 2
}
