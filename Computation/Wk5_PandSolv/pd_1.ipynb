{
 "cells": [
  {
   "cell_type": "code",
   "execution_count": 1,
   "metadata": {},
   "outputs": [],
   "source": [
    "import numpy as np\n",
    "import pandas as pd"
   ]
  },
  {
   "cell_type": "markdown",
   "metadata": {},
   "source": [
    "## Problem 1"
   ]
  },
  {
   "cell_type": "code",
   "execution_count": 100,
   "metadata": {
    "scrolled": true
   },
   "outputs": [
    {
     "data": {
      "text/plain": [
       "0        0\n",
       "2        3\n",
       "4       15\n",
       "6        0\n",
       "8       63\n",
       "10      99\n",
       "12       0\n",
       "14     195\n",
       "16     255\n",
       "18       0\n",
       "20     399\n",
       "22     483\n",
       "24       0\n",
       "26     675\n",
       "28     783\n",
       "30       0\n",
       "32    1023\n",
       "34    1155\n",
       "36       0\n",
       "38    1443\n",
       "40    1599\n",
       "42       0\n",
       "44    1935\n",
       "46    2115\n",
       "48       0\n",
       "50    2499\n",
       "dtype: int64"
      ]
     },
     "execution_count": 100,
     "metadata": {},
     "output_type": "execute_result"
    }
   ],
   "source": [
    "pd.Series({(2*i):((2*i)**2-1 if (((2*i)**2 -1) % 3 == 0 ) else 0) for i in range(26)})"
   ]
  },
  {
   "cell_type": "markdown",
   "metadata": {},
   "source": [
    "## Problem 2"
   ]
  },
  {
   "cell_type": "code",
   "execution_count": 71,
   "metadata": {},
   "outputs": [],
   "source": [
    "def problem2(p, d):\n",
    "    dates = pd.date_range(\"1/1/2000\", \"12/31/2000\")\n",
    "    draws = np.random.binomial(1, p, dates.shape[0])\n",
    "    output = {dates[0]:d}\n",
    "    for i in range(1,dates.shape[0]):\n",
    "        output[dates[i]]=output[dates[i-1]]+(draws[i]*2 -1)\n",
    "        \n",
    "    return pd.Series(output)"
   ]
  },
  {
   "cell_type": "code",
   "execution_count": 72,
   "metadata": {},
   "outputs": [
    {
     "data": {
      "text/plain": [
       "2000-01-01    100\n",
       "2000-01-02    101\n",
       "2000-01-03    100\n",
       "2000-01-04    101\n",
       "2000-01-05    102\n",
       "2000-01-06    101\n",
       "2000-01-07    100\n",
       "2000-01-08    101\n",
       "2000-01-09    100\n",
       "2000-01-10    101\n",
       "2000-01-11    102\n",
       "2000-01-12    103\n",
       "2000-01-13    104\n",
       "2000-01-14    105\n",
       "2000-01-15    104\n",
       "2000-01-16    103\n",
       "2000-01-17    104\n",
       "2000-01-18    105\n",
       "2000-01-19    104\n",
       "2000-01-20    103\n",
       "2000-01-21    104\n",
       "2000-01-22    105\n",
       "2000-01-23    106\n",
       "2000-01-24    107\n",
       "2000-01-25    108\n",
       "2000-01-26    109\n",
       "2000-01-27    110\n",
       "2000-01-28    109\n",
       "2000-01-29    110\n",
       "2000-01-30    111\n",
       "             ... \n",
       "2000-12-02    226\n",
       "2000-12-03    227\n",
       "2000-12-04    228\n",
       "2000-12-05    227\n",
       "2000-12-06    228\n",
       "2000-12-07    229\n",
       "2000-12-08    228\n",
       "2000-12-09    229\n",
       "2000-12-10    230\n",
       "2000-12-11    231\n",
       "2000-12-12    232\n",
       "2000-12-13    233\n",
       "2000-12-14    232\n",
       "2000-12-15    233\n",
       "2000-12-16    232\n",
       "2000-12-17    231\n",
       "2000-12-18    232\n",
       "2000-12-19    233\n",
       "2000-12-20    234\n",
       "2000-12-21    235\n",
       "2000-12-22    236\n",
       "2000-12-23    235\n",
       "2000-12-24    234\n",
       "2000-12-25    235\n",
       "2000-12-26    236\n",
       "2000-12-27    237\n",
       "2000-12-28    236\n",
       "2000-12-29    237\n",
       "2000-12-30    236\n",
       "2000-12-31    237\n",
       "Length: 366, dtype: int64"
      ]
     },
     "execution_count": 72,
     "metadata": {},
     "output_type": "execute_result"
    }
   ],
   "source": [
    "problem2(0.7, 100)"
   ]
  },
  {
   "cell_type": "markdown",
   "metadata": {},
   "source": [
    "## Problem 3"
   ]
  },
  {
   "cell_type": "code",
   "execution_count": 73,
   "metadata": {},
   "outputs": [],
   "source": [
    " \n",
    "#build toy data for SQL operations\n",
    "name = ['Mylan', 'Regan', 'Justin', 'Jess', 'Jason', 'Remi', 'Matt', 'Alexander', 'JeanMarie']\n",
    "sex = ['M', 'F', 'M', 'F', 'M', 'F', 'M', 'M', 'F']\n",
    "age = [20, 21, 18, 22, 19, 20, 20, 19, 20]\n",
    "rank = ['Sp', 'Se', 'Fr', 'Se', 'Sp', 'J', 'J', 'J', 'Se']\n",
    "ID = range(9)\n",
    "aid = ['y', 'n', 'n', 'y', 'n', 'n', 'n', 'y', 'n']\n",
    "GPA = [3.8, 3.5, 3.0, 3.9, 2.8, 2.9, 3.8, 3.4, 3.7]\n",
    "mathID = [0, 1, 5, 6, 3]\n",
    "mathGd = [4.0, 3.0, 3.5, 3.0, 4.0]\n",
    "major = ['y', 'n', 'y', 'n', 'n']\n",
    "studentInfo = pd.DataFrame({'ID': ID, 'Name': name, 'Sex': sex, 'Age': age,'Class': rank})\n",
    "otherInfo = pd.DataFrame({'ID': ID, 'GPA': GPA, 'Financial_Aid': aid})\n",
    "mathInfo = pd.DataFrame({'ID': mathID, 'Grade': mathGd, 'Math_Major': major})"
   ]
  },
  {
   "cell_type": "code",
   "execution_count": 75,
   "metadata": {},
   "outputs": [
    {
     "data": {
      "text/html": [
       "<div>\n",
       "<style scoped>\n",
       "    .dataframe tbody tr th:only-of-type {\n",
       "        vertical-align: middle;\n",
       "    }\n",
       "\n",
       "    .dataframe tbody tr th {\n",
       "        vertical-align: top;\n",
       "    }\n",
       "\n",
       "    .dataframe thead th {\n",
       "        text-align: right;\n",
       "    }\n",
       "</style>\n",
       "<table border=\"1\" class=\"dataframe\">\n",
       "  <thead>\n",
       "    <tr style=\"text-align: right;\">\n",
       "      <th></th>\n",
       "      <th>ID</th>\n",
       "      <th>Name</th>\n",
       "      <th>Sex</th>\n",
       "      <th>Age</th>\n",
       "      <th>Class</th>\n",
       "    </tr>\n",
       "  </thead>\n",
       "  <tbody>\n",
       "    <tr>\n",
       "      <th>0</th>\n",
       "      <td>0</td>\n",
       "      <td>Mylan</td>\n",
       "      <td>M</td>\n",
       "      <td>20</td>\n",
       "      <td>Sp</td>\n",
       "    </tr>\n",
       "    <tr>\n",
       "      <th>6</th>\n",
       "      <td>6</td>\n",
       "      <td>Matt</td>\n",
       "      <td>M</td>\n",
       "      <td>20</td>\n",
       "      <td>J</td>\n",
       "    </tr>\n",
       "  </tbody>\n",
       "</table>\n",
       "</div>"
      ],
      "text/plain": [
       "   ID   Name Sex  Age Class\n",
       "0   0  Mylan   M   20    Sp\n",
       "6   6   Matt   M   20     J"
      ]
     },
     "execution_count": 75,
     "metadata": {},
     "output_type": "execute_result"
    }
   ],
   "source": [
    "studentInfo[(studentInfo.Age >19) & (studentInfo.Sex == 'M')]"
   ]
  },
  {
   "cell_type": "markdown",
   "metadata": {},
   "source": [
    "## Problem 4"
   ]
  },
  {
   "cell_type": "code",
   "execution_count": 79,
   "metadata": {},
   "outputs": [
    {
     "data": {
      "text/html": [
       "<div>\n",
       "<style scoped>\n",
       "    .dataframe tbody tr th:only-of-type {\n",
       "        vertical-align: middle;\n",
       "    }\n",
       "\n",
       "    .dataframe tbody tr th {\n",
       "        vertical-align: top;\n",
       "    }\n",
       "\n",
       "    .dataframe thead th {\n",
       "        text-align: right;\n",
       "    }\n",
       "</style>\n",
       "<table border=\"1\" class=\"dataframe\">\n",
       "  <thead>\n",
       "    <tr style=\"text-align: right;\">\n",
       "      <th></th>\n",
       "      <th>ID</th>\n",
       "      <th>Age</th>\n",
       "      <th>Grade</th>\n",
       "    </tr>\n",
       "  </thead>\n",
       "  <tbody>\n",
       "    <tr>\n",
       "      <th>0</th>\n",
       "      <td>0</td>\n",
       "      <td>20</td>\n",
       "      <td>4.0</td>\n",
       "    </tr>\n",
       "    <tr>\n",
       "      <th>1</th>\n",
       "      <td>1</td>\n",
       "      <td>21</td>\n",
       "      <td>3.0</td>\n",
       "    </tr>\n",
       "    <tr>\n",
       "      <th>2</th>\n",
       "      <td>2</td>\n",
       "      <td>18</td>\n",
       "      <td>NaN</td>\n",
       "    </tr>\n",
       "    <tr>\n",
       "      <th>3</th>\n",
       "      <td>3</td>\n",
       "      <td>22</td>\n",
       "      <td>4.0</td>\n",
       "    </tr>\n",
       "    <tr>\n",
       "      <th>4</th>\n",
       "      <td>4</td>\n",
       "      <td>19</td>\n",
       "      <td>NaN</td>\n",
       "    </tr>\n",
       "    <tr>\n",
       "      <th>5</th>\n",
       "      <td>5</td>\n",
       "      <td>20</td>\n",
       "      <td>3.5</td>\n",
       "    </tr>\n",
       "    <tr>\n",
       "      <th>6</th>\n",
       "      <td>6</td>\n",
       "      <td>20</td>\n",
       "      <td>3.0</td>\n",
       "    </tr>\n",
       "    <tr>\n",
       "      <th>7</th>\n",
       "      <td>7</td>\n",
       "      <td>19</td>\n",
       "      <td>NaN</td>\n",
       "    </tr>\n",
       "    <tr>\n",
       "      <th>8</th>\n",
       "      <td>8</td>\n",
       "      <td>20</td>\n",
       "      <td>NaN</td>\n",
       "    </tr>\n",
       "  </tbody>\n",
       "</table>\n",
       "</div>"
      ],
      "text/plain": [
       "   ID  Age  Grade\n",
       "0   0   20    4.0\n",
       "1   1   21    3.0\n",
       "2   2   18    NaN\n",
       "3   3   22    4.0\n",
       "4   4   19    NaN\n",
       "5   5   20    3.5\n",
       "6   6   20    3.0\n",
       "7   7   19    NaN\n",
       "8   8   20    NaN"
      ]
     },
     "execution_count": 79,
     "metadata": {},
     "output_type": "execute_result"
    }
   ],
   "source": [
    "pd.merge(studentInfo, mathInfo,  on ='ID', how='outer')[['ID', 'Age', 'Grade']]"
   ]
  }
 ],
 "metadata": {
  "kernelspec": {
   "display_name": "Python 3",
   "language": "python",
   "name": "python3"
  },
  "language_info": {
   "codemirror_mode": {
    "name": "ipython",
    "version": 3
   },
   "file_extension": ".py",
   "mimetype": "text/x-python",
   "name": "python",
   "nbconvert_exporter": "python",
   "pygments_lexer": "ipython3",
   "version": "3.6.3"
  }
 },
 "nbformat": 4,
 "nbformat_minor": 2
}
