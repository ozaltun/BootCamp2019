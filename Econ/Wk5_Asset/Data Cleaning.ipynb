{
 "cells": [
  {
   "cell_type": "code",
   "execution_count": 1,
   "metadata": {},
   "outputs": [],
   "source": [
    "import numpy as np\n",
    "import pandas as pd\n",
    "import matplotlib.pyplot as plt"
   ]
  },
  {
   "cell_type": "code",
   "execution_count": 21,
   "metadata": {},
   "outputs": [],
   "source": [
    "data = dict()\n",
    "\n",
    "files = ['PCECC96', 'WILL5000INDFC','GDPDEF','TB3MS']\n",
    "\n",
    "for i in files:\n",
    "    data[i] = pd.read_csv(i+'.csv')\n",
    "    data[i]['DATE'] = pd.to_datetime(data[i]['DATE'])\n",
    "    data[i] = data[i].set_index('DATE')\n",
    "\n",
    "[data[i][i] for i in files]\n",
    "dataframe = pd.concat([data[i][i] for i in files], axis=1, join='inner')\n",
    "dataframe = dataframe.reset_index()\n",
    "dataframe['qt'] = dataframe['DATE'].dt.quarter\n",
    "dataframe['year'] = dataframe['DATE'].dt.year"
   ]
  },
  {
   "cell_type": "code",
   "execution_count": 23,
   "metadata": {},
   "outputs": [],
   "source": [
    "dataframe.columns = ['date', 'rConsumption', 'USGrowth', 'GDPDef', 'RFR', 'qt','year']"
   ]
  },
  {
   "cell_type": "code",
   "execution_count": 33,
   "metadata": {},
   "outputs": [],
   "source": [
    "for i in ['rConsumption', 'USGrowth', 'GDPDef', 'RFR' ]:\n",
    "    dataframe[i] = pd.to_numeric(dataframe[i])\n",
    "dataframe['GDPDef_p'] = dataframe.GDPDef.pct_change()"
   ]
  },
  {
   "cell_type": "code",
   "execution_count": 38,
   "metadata": {},
   "outputs": [],
   "source": [
    "for i in ['USGrowth', 'RFR']:\n",
    "    dataframe['r'+i] = dataframe[i]/(1+dataframe['GDPDef_p'])"
   ]
  },
  {
   "cell_type": "code",
   "execution_count": 40,
   "metadata": {},
   "outputs": [
    {
     "data": {
      "text/html": [
       "<div>\n",
       "<style scoped>\n",
       "    .dataframe tbody tr th:only-of-type {\n",
       "        vertical-align: middle;\n",
       "    }\n",
       "\n",
       "    .dataframe tbody tr th {\n",
       "        vertical-align: top;\n",
       "    }\n",
       "\n",
       "    .dataframe thead th {\n",
       "        text-align: right;\n",
       "    }\n",
       "</style>\n",
       "<table border=\"1\" class=\"dataframe\">\n",
       "  <thead>\n",
       "    <tr style=\"text-align: right;\">\n",
       "      <th></th>\n",
       "      <th>date</th>\n",
       "      <th>rConsumption</th>\n",
       "      <th>USGrowth</th>\n",
       "      <th>GDPDef</th>\n",
       "      <th>RFR</th>\n",
       "      <th>qt</th>\n",
       "      <th>year</th>\n",
       "      <th>GDPDef_p</th>\n",
       "      <th>rUSGrowth</th>\n",
       "      <th>rRFR</th>\n",
       "    </tr>\n",
       "  </thead>\n",
       "  <tbody>\n",
       "    <tr>\n",
       "      <th>0</th>\n",
       "      <td>1971-01-01</td>\n",
       "      <td>3156.978</td>\n",
       "      <td>1.080000</td>\n",
       "      <td>22.391</td>\n",
       "      <td>3.840000</td>\n",
       "      <td>1</td>\n",
       "      <td>1971</td>\n",
       "      <td>NaN</td>\n",
       "      <td>NaN</td>\n",
       "      <td>NaN</td>\n",
       "    </tr>\n",
       "    <tr>\n",
       "      <th>1</th>\n",
       "      <td>1971-04-01</td>\n",
       "      <td>3185.993</td>\n",
       "      <td>1.136667</td>\n",
       "      <td>22.685</td>\n",
       "      <td>4.250000</td>\n",
       "      <td>2</td>\n",
       "      <td>1971</td>\n",
       "      <td>0.013130</td>\n",
       "      <td>1.121935</td>\n",
       "      <td>4.194920</td>\n",
       "    </tr>\n",
       "    <tr>\n",
       "      <th>2</th>\n",
       "      <td>1971-07-01</td>\n",
       "      <td>3211.394</td>\n",
       "      <td>1.113333</td>\n",
       "      <td>22.916</td>\n",
       "      <td>5.010000</td>\n",
       "      <td>3</td>\n",
       "      <td>1971</td>\n",
       "      <td>0.010183</td>\n",
       "      <td>1.102111</td>\n",
       "      <td>4.959498</td>\n",
       "    </tr>\n",
       "    <tr>\n",
       "      <th>3</th>\n",
       "      <td>1971-10-01</td>\n",
       "      <td>3264.679</td>\n",
       "      <td>1.113333</td>\n",
       "      <td>23.107</td>\n",
       "      <td>4.230000</td>\n",
       "      <td>4</td>\n",
       "      <td>1971</td>\n",
       "      <td>0.008335</td>\n",
       "      <td>1.104131</td>\n",
       "      <td>4.195035</td>\n",
       "    </tr>\n",
       "    <tr>\n",
       "      <th>4</th>\n",
       "      <td>1972-01-01</td>\n",
       "      <td>3307.767</td>\n",
       "      <td>1.240000</td>\n",
       "      <td>23.458</td>\n",
       "      <td>3.436667</td>\n",
       "      <td>1</td>\n",
       "      <td>1972</td>\n",
       "      <td>0.015190</td>\n",
       "      <td>1.221446</td>\n",
       "      <td>3.385244</td>\n",
       "    </tr>\n",
       "  </tbody>\n",
       "</table>\n",
       "</div>"
      ],
      "text/plain": [
       "        date  rConsumption  USGrowth  GDPDef       RFR  qt  year  GDPDef_p  \\\n",
       "0 1971-01-01      3156.978  1.080000  22.391  3.840000   1  1971       NaN   \n",
       "1 1971-04-01      3185.993  1.136667  22.685  4.250000   2  1971  0.013130   \n",
       "2 1971-07-01      3211.394  1.113333  22.916  5.010000   3  1971  0.010183   \n",
       "3 1971-10-01      3264.679  1.113333  23.107  4.230000   4  1971  0.008335   \n",
       "4 1972-01-01      3307.767  1.240000  23.458  3.436667   1  1972  0.015190   \n",
       "\n",
       "   rUSGrowth      rRFR  \n",
       "0        NaN       NaN  \n",
       "1   1.121935  4.194920  \n",
       "2   1.102111  4.959498  \n",
       "3   1.104131  4.195035  \n",
       "4   1.221446  3.385244  "
      ]
     },
     "execution_count": 40,
     "metadata": {},
     "output_type": "execute_result"
    }
   ],
   "source": [
    "dataframe.head()"
   ]
  },
  {
   "cell_type": "code",
   "execution_count": 42,
   "metadata": {},
   "outputs": [],
   "source": [
    "dataframe.to_csv('dataset.csv')"
   ]
  },
  {
   "cell_type": "code",
   "execution_count": null,
   "metadata": {},
   "outputs": [],
   "source": []
  }
 ],
 "metadata": {
  "kernelspec": {
   "display_name": "Python 3",
   "language": "python",
   "name": "python3"
  },
  "language_info": {
   "codemirror_mode": {
    "name": "ipython",
    "version": 3
   },
   "file_extension": ".py",
   "mimetype": "text/x-python",
   "name": "python",
   "nbconvert_exporter": "python",
   "pygments_lexer": "ipython3",
   "version": "3.6.3"
  }
 },
 "nbformat": 4,
 "nbformat_minor": 2
}
