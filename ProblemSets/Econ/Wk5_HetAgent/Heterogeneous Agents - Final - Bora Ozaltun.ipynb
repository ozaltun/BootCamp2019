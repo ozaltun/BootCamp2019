{
 "cells": [
  {
   "cell_type": "code",
   "execution_count": 1,
   "metadata": {},
   "outputs": [],
   "source": [
    "from scipy import optimize\n",
    "import numpy as np\n",
    "import numpy as np\n",
    "import random\n",
    "import matplotlib.pyplot as plt"
   ]
  },
  {
   "cell_type": "markdown",
   "metadata": {},
   "source": [
    "Since we are told that the steady state unemployment rate is 0.1, we can calculate that:"
   ]
  },
  {
   "cell_type": "markdown",
   "metadata": {},
   "source": [
    "\n",
    "\\begin{equation}\n",
    "    \\left[0.9 \\text{ } 0.1 \\right]\n",
    "        \\begin{bmatrix}\n",
    "        0.9 & 0.1\\\\\n",
    "        \\alpha & 1 - \\alpha\\\\\n",
    "        \\end{bmatrix} \n",
    "     = \\left[0.9 \\text{ } 0.1 \\right]\n",
    "\\end{equation}"
   ]
  },
  {
   "cell_type": "markdown",
   "metadata": {},
   "source": [
    "We can further derive that $\\alpha=0.9$"
   ]
  },
  {
   "cell_type": "markdown",
   "metadata": {},
   "source": [
    "In order to guess a value for $\\bar{k}$ we'll find the steady state value of capital in a representative-agent economy. The first order conditions in our problem are:\n",
    "\n",
    "$$\n",
    "\\begin{align*}\n",
    "\\frac{1}{r(\\bar{k}) + w(\\bar{k})\\epsilon + (1 - \\delta) k - k'} = \\beta \\mathbb{E}[\\frac{\\partial V(k', \\epsilon; \\bar{k})}{\\partial k'}]\n",
    "\\end{align*}\n",
    "$$\n",
    "\n",
    "Using the envelope condition and envoking $k = k' = k''$ in the steady state, we have:\n",
    "\n",
    "$$\n",
    "\\begin{align*}\n",
    "k^{\\ast} = \\frac{1 - \\beta(1 - \\delta)(r(\\bar{k}) + w(\\bar{k})}{\\beta(1 - \\delta)^{2} - \\beta (1 - \\delta) - (1 - \\delta) + 1}\n",
    "\\end{align*}\n",
    "$$\n",
    "\n"
   ]
  },
  {
   "cell_type": "markdown",
   "metadata": {},
   "source": [
    "## Steady state k"
   ]
  },
  {
   "cell_type": "code",
   "execution_count": 2,
   "metadata": {},
   "outputs": [],
   "source": [
    "def get_k(k, p):\n",
    "    part1 = (1 - p['beta']*(1 - p['delta'])*(p['alpha']*np.sign(k)*\\\n",
    "        np.abs(k)**(p['alpha'] - 1))*(1 - p['u'])**(1 - p['alpha']) + \\\n",
    "        (1 - p['alpha'])*np.sign(k)*np.abs(k)**(p['alpha'])*(1 - p['u'])**(-p['alpha']))\n",
    "    \n",
    "    part2 = (p['beta']*(1 - p['delta'])**(2) - p['beta']*(1 - p['delta']) - \\\n",
    "          (1 - p['delta']) + 1) - k\n",
    "    return part1/part2"
   ]
  },
  {
   "cell_type": "code",
   "execution_count": 3,
   "metadata": {},
   "outputs": [
    {
     "name": "stdout",
     "output_type": "stream",
     "text": [
      "Optimal k value:  0.10382822181055043\n"
     ]
    }
   ],
   "source": [
    "params = {'beta':0.96, 'delta':0.06, 'alpha':0.36, 'u':0.1}\n",
    "print('Optimal k value: ', optimize.fsolve(get_k, 0.1, params)[0])"
   ]
  },
  {
   "cell_type": "markdown",
   "metadata": {},
   "source": [
    "## K bar"
   ]
  },
  {
   "cell_type": "code",
   "execution_count": 4,
   "metadata": {},
   "outputs": [],
   "source": [
    "def k_bar(p):\n",
    "    f = (p['alpha']*p['beta']/(1 - p['beta']*(1- p['delta'])))**(1/(1 - p['alpha']))\n",
    "    return f"
   ]
  },
  {
   "cell_type": "markdown",
   "metadata": {},
   "source": [
    "## Using VFI for Heteregenous Agents"
   ]
  },
  {
   "cell_type": "code",
   "execution_count": 5,
   "metadata": {},
   "outputs": [],
   "source": [
    "\n",
    "def hetagents(kbar, p, N = 200):\n",
    "    random.seed(0)\n",
    "    threshold = 1e-10 \n",
    "    \n",
    "    k_low = 0.001\n",
    "    k_high = 40\n",
    "    kgrid = np.linspace(k_low, k_high, N)\n",
    "    \n",
    "    #Difference\n",
    "    difference = 1\n",
    "    \n",
    "    \n",
    "    #Set up value function matrices\n",
    "    V_old = np.zeros((2,N))\n",
    "    V_new = np.zeros_like(V_old)\n",
    "    \n",
    "    c = np.zeros_like(V_old)\n",
    "    u = np.zeros_like(V_old)\n",
    "    \n",
    "    policyfun = np.zeros_like(V_old)\n",
    "    \n",
    "    p['u'] = 0.1\n",
    "    transition = np.array([[0.9, 0.1], [0.9, 0.1]])\n",
    "    itr = 1\n",
    "    \n",
    "    \n",
    "    while (difference > threshold) and (itr <1000):\n",
    "        for i in range(len(kgrid)):\n",
    "            k = kgrid[i]\n",
    "            \n",
    "            r = p['alpha']*kbar**(p['alpha'] - 1)*(1 - p['u'])**(1 - p['alpha'])\n",
    "            \n",
    "            w = (1 - p['alpha'])*kbar**(p['alpha'])*(1 - p['u'])**(-p['alpha'])\n",
    "            \n",
    "            c[0, :] = r*k + w*1 + (1 - p['delta'])*k - kgrid\n",
    "            c[1, :] = r*k + w*0 + (1 - p['delta'])*k - kgrid  \n",
    "            \n",
    "            obj = np.zeros_like(V_old)\n",
    "            obj[c <= 0] = -99999999 \n",
    "            obj[c > 0]= np.log(c[c > 0])\n",
    "            \n",
    "            V_almost = obj + p['beta']*(np.dot(transition, V_old))\n",
    "            V_new[:, i] = np.amax(V_almost, axis = 1) \n",
    "            max_indicies = np.argmax(V_almost, axis = 1)\n",
    "            policyfun[:, i] = kgrid[max_indicies]\n",
    "            \n",
    "        difference = np.linalg.norm(V_new - V_old)**(2)\n",
    "        V_old = V_new.copy()\n",
    "        itr += 1\n",
    "        \n",
    "    return policyfun, V_new, kgrid, itr\n",
    "\n",
    "params = {'beta':0.96, 'delta':0.06, 'alpha':0.36, 'u':0.1}\n",
    "\n",
    "kbar = k_bar(params)\n",
    "\n",
    "policyfun, V_new, kgrid, itr = hetagents(kbar, params, N = 200)"
   ]
  },
  {
   "cell_type": "code",
   "execution_count": 6,
   "metadata": {},
   "outputs": [
    {
     "data": {
      "text/plain": [
       "317"
      ]
     },
     "execution_count": 6,
     "metadata": {},
     "output_type": "execute_result"
    }
   ],
   "source": [
    "itr"
   ]
  },
  {
   "cell_type": "markdown",
   "metadata": {},
   "source": [
    "## Plotting the optimal decision rules"
   ]
  },
  {
   "cell_type": "code",
   "execution_count": 7,
   "metadata": {},
   "outputs": [
    {
     "data": {
      "image/png": "[encoded data removed]",
      "text/plain": [
       "<Figure size 1080x720 with 1 Axes>"
      ]
     },
     "metadata": {},
     "output_type": "display_data"
    }
   ],
   "source": [
    "fig = plt.figure(figsize = (15, 10))\n",
    "plt.plot(kgrid, policyfun[0, :], label = \"Policy function for epsilon = 1\")\n",
    "plt.plot(kgrid, policyfun[1, :], label = \"Policy function for epsilon = 0\")\n",
    "plt.plot(kgrid, kgrid, '--',label = \"45 degree line\")\n",
    "plt.xlabel('k value')\n",
    "plt.ylabel('Policy value')\n",
    "plt.legend()\n",
    "plt.show()"
   ]
  },
  {
   "cell_type": "markdown",
   "metadata": {},
   "source": [
    "## Comparison to neoclassical growth"
   ]
  },
  {
   "cell_type": "code",
   "execution_count": 8,
   "metadata": {},
   "outputs": [],
   "source": [
    "def comparisonSim(params, kbar, return_series = False, max_iter = 10000):\n",
    "    random.seed(0)\n",
    "    diff = 1\n",
    "    iters=0\n",
    "    c_series = np.zeros(10000)\n",
    "    \n",
    "    \n",
    "    k_p, V_new, kgrid, _ =  hetagents(kbar, params, N = 400)\n",
    "    k = random.choice(kgrid)\n",
    "    c_series[0] = k\n",
    "\n",
    "    for i in range(1, 10000):\n",
    "        epsilon = np.random.binomial(1, 0.9, 1)\n",
    "        if epsilon == 1:\n",
    "            k = k_p[0, np.where(kgrid == k)[0]]\n",
    "        else:\n",
    "            k = k_p[1, np.where(kgrid == k)[0]]\n",
    "        c_series[i] = k\n",
    "        \n",
    "    kbar_new = np.mean(c_series)\n",
    "    eps = kbar_new - kbar\n",
    "    kbar = kbar_new.copy()\n",
    "    iters += 1\n",
    "    print(iters, eps)\n",
    "    if return_series == True:\n",
    "        return eps, c_series\n",
    "    else:\n",
    "        return eps\n",
    "            "
   ]
  },
  {
   "cell_type": "code",
   "execution_count": 9,
   "metadata": {},
   "outputs": [],
   "source": [
    "def bisection(f,a,b):\n",
    "    '''Approximate solution of f(x)=0 on interval [a,b] by the bisection method.\n",
    "\n",
    "    Parameters\n",
    "    ----------\n",
    "    f : function\n",
    "        The function for which we are trying to approximate a solution f(x)=0.\n",
    "    a,b : numbers\n",
    "        The interval in which to search for a solution. The function returns\n",
    "        None if f(a)*f(b) >= 0 since a solution is not guaranteed.\n",
    "\n",
    "    Returns\n",
    "    -------\n",
    "    x_N : number\n",
    "        The midpoint of the Nth interval computed by the bisection method. The\n",
    "        initial interval [a_0,b_0] is given by [a,b]. If f(m_n) == 0 for some\n",
    "        midpoint m_n = (a_n + b_n)/2, then the function returns this solution.\n",
    "        If all signs of values f(a_n), f(b_n) and f(m_n) are the same at any\n",
    "        iteration, the bisection method fails and return None.\n",
    "    '''\n",
    "    max_iter, count = 250, 0 \n",
    "    eps, threshold =100, 5e-1\n",
    "    if f(a)*f(b) >= 0:\n",
    "        print(\"Bisection method fails.\")\n",
    "        return None\n",
    "    a_n = a\n",
    "    b_n = b\n",
    "    while (eps > threshold and count < max_iter): \n",
    "        m_n = (a_n + b_n)/2\n",
    "        f_m_n = f(m_n)\n",
    "        if f(a_n)*f_m_n < 0:\n",
    "            a_n = a_n\n",
    "            b_n = m_n\n",
    "        elif f(b_n)*f_m_n < 0:\n",
    "            a_n = m_n\n",
    "            b_n = b_n\n",
    "        elif f_m_n == 0:\n",
    "            print(\"Found exact solution.\")\n",
    "            return m_n\n",
    "        else:\n",
    "            print(\"Bisection method fails.\")\n",
    "            return None\n",
    "        count +=1\n",
    "        eps = b_n - a_n \n",
    "    return (a_n + b_n)/2"
   ]
  },
  {
   "cell_type": "code",
   "execution_count": 10,
   "metadata": {
    "scrolled": true
   },
   "outputs": [
    {
     "name": "stdout",
     "output_type": "stream",
     "text": [
      "1 39.89716297819549\n",
      "1 -17.863775186466164\n",
      "1 -8.449280595488723\n",
      "1 39.89716297819549\n",
      "1 34.68700093759398\n",
      "1 39.89716297819549\n",
      "1 -8.457952057894737\n",
      "1 -5.395930080451127\n",
      "1 34.673156672180454\n",
      "1 32.467114940601505\n",
      "1 34.671943669924815\n",
      "1 -5.455046396992481\n",
      "1 -4.081480916541354\n",
      "1 32.52689289473685\n",
      "1 -1.617614784962405\n",
      "1 32.34255665112783\n"
     ]
    },
    {
     "data": {
      "text/plain": [
       "6.4742187499999995"
      ]
     },
     "execution_count": 10,
     "metadata": {},
     "output_type": "execute_result"
    }
   ],
   "source": [
    "kbar = k_bar(params)\n",
    "f = lambda kbar: comparisonSim(params, kbar)\n",
    "\n",
    "bisection(f, 0.1, 20)"
   ]
  },
  {
   "cell_type": "code",
   "execution_count": 11,
   "metadata": {},
   "outputs": [
    {
     "name": "stdout",
     "output_type": "stream",
     "text": [
      "1 -0.048386893609021264\n"
     ]
    }
   ],
   "source": [
    "eps, c_series = comparisonSim(params, 6.4742187499999995, return_series=True)"
   ]
  },
  {
   "cell_type": "code",
   "execution_count": 13,
   "metadata": {},
   "outputs": [
    {
     "data": {
      "image/png": "[encoded data removed]",
      "text/plain": [
       "<Figure size 720x360 with 1 Axes>"
      ]
     },
     "metadata": {},
     "output_type": "display_data"
    }
   ],
   "source": [
    "fig, ax = plt.subplots(figsize=(10,5))\n",
    "ax.set_title('Density of capital from simulation with optimal kbar')\n",
    "ax.hist(c_series, density=True)\n",
    "plt.show()"
   ]
  }
 ],
 "metadata": {
  "kernelspec": {
   "display_name": "Python 3",
   "language": "python",
   "name": "python3"
  },
  "language_info": {
   "codemirror_mode": {
    "name": "ipython",
    "version": 3
   },
   "file_extension": ".py",
   "mimetype": "text/x-python",
   "name": "python",
   "nbconvert_exporter": "python",
   "pygments_lexer": "ipython3",
   "version": "3.6.3"
  }
 },
 "nbformat": 4,
 "nbformat_minor": 2
}
