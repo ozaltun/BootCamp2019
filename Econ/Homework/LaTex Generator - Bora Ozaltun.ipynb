{
 "cells": [
  {
   "cell_type": "code",
   "execution_count": 5,
   "metadata": {},
   "outputs": [],
   "source": [
    "from sympy import var, exp, solve, diff, lambdify, latex,log"
   ]
  },
  {
   "cell_type": "code",
   "execution_count": 2,
   "metadata": {},
   "outputs": [],
   "source": [
    "def get_derivatives(u, F):\n",
    "    du_dc = diff(u, c)\n",
    "    du_dl = diff(u, l)\n",
    "\n",
    "    dF_dK = diff(F, K)\n",
    "    dF_dL = diff(F, L)\n",
    "    \n",
    "    return du_dc, du_dl, dF_dK, dF_dL\n",
    "\n",
    "def get_steady_state(u, F):\n",
    "    du_dc, du_dl, dF_dK, dF_dL = get_derivatives(u, F)\n",
    "    \n",
    "    E1 = (1-τ)*(w*l + (r-δ)*k) +T - c\n",
    "    E2 = du_dc*(1-β*((r-δ)*(1-τ)+1))\n",
    "    E3 = du_dl+du_dc*w*(1-τ)\n",
    "    E4 = r - dF_dK\n",
    "    E5 = w - dF_dL\n",
    "    E6 = T -τ*(w*l+(r-δ)*k)\n",
    "\n",
    "    return {'u':u, 'F':F,'du/dc':du_dc, 'du/dl':du_dl, 'E1':E1, 'E2':E2, 'E3':E3, 'E4':E4, 'E5':E5, 'E6':E6}"
   ]
  },
  {
   "cell_type": "code",
   "execution_count": 3,
   "metadata": {},
   "outputs": [],
   "source": [
    "def get_derivatives_new(u_0,u_1, F):\n",
    "    du0_dc = diff(u_0, c)\n",
    "    du0_dl = diff(u_0, l)\n",
    "    \n",
    "    du1_dc = diff(u_1, c_1)\n",
    "    du1_dl = diff(u_1, l_1)\n",
    "\n",
    "    dF_dK = diff(F, k)\n",
    "    dF_dL = diff(F, l)\n",
    "    \n",
    "    return du0_dc, du0_dl, du1_dc, du1_dl, dF_dK, dF_dL\n",
    "\n",
    "def get_equilibrium(u0,u1, F):\n",
    "    du0_dc, du0_dl, du1_dc, du1_dl, dF_dK, dF_dL = get_derivatives_new(u0, u1, F)\n",
    "    \n",
    "    E1 = (1-τ)*(w*l + (r-δ)*k) +k+T - c-k_1\n",
    "    E2 = β*du1_dc*(((r_1-δ)*(1-τ)+1)) - du0_dc\n",
    "    E3 = du0_dl+du0_dc*w*(1-τ)\n",
    "    E4 = r - dF_dK\n",
    "    E5 = w - dF_dL\n",
    "    E6 = T -τ*(w*l+(r-δ)*k)\n",
    "\n",
    "    return {'u':u0, 'F':F,'du/dc':du0_dc, 'du/dl':du0_dl, 'E1':E1, 'E2':E2, 'E3':E3, 'E4':E4, 'E5':E5, 'E6':E6}\n",
    "\n",
    "\n",
    "def print_latex(functions):\n",
    "    for function in list(functions.keys()):\n",
    "        print('$$',function,'\\\\text{  }')\n",
    "        print(' 0 = ',latex(functions[function]),'$$')\n",
    "        \n",
    "        "
   ]
  },
  {
   "cell_type": "code",
   "execution_count": 6,
   "metadata": {},
   "outputs": [
    {
     "name": "stdout",
     "output_type": "stream",
     "text": [
      "$$ u \\text{  }\n",
      " 0 =  a \\log{\\left(1 - l_{t} \\right)} + \\log{\\left(c_{t} \\right)} $$\n",
      "$$ F \\text{  }\n",
      " 0 =  k_{t}^{\\alpha} l_{t}^{1 - \\alpha} e^{z} $$\n",
      "$$ du/dc \\text{  }\n",
      " 0 =  \\frac{1}{c_{t}} $$\n",
      "$$ du/dl \\text{  }\n",
      " 0 =  - \\frac{a}{1 - l_{t}} $$\n",
      "$$ E1 \\text{  }\n",
      " 0 =  T_{t} - c_{t} + k_{t} - k_{t+1} + \\left(1 - \\tau\\right) \\left(k_{t} \\left(- \\delta + r_{t}\\right) + l_{t} w_{t}\\right) $$\n",
      "$$ E2 \\text{  }\n",
      " 0 =  \\frac{\\beta \\left(\\left(1 - \\tau\\right) \\left(- \\delta + r_{t+1}\\right) + 1\\right)}{c_{t+1}} - \\frac{1}{c_{t}} $$\n",
      "$$ E3 \\text{  }\n",
      " 0 =  - \\frac{a}{1 - l_{t}} + \\frac{w_{t} \\left(1 - \\tau\\right)}{c_{t}} $$\n",
      "$$ E4 \\text{  }\n",
      " 0 =  - \\frac{\\alpha k_{t}^{\\alpha} l_{t}^{1 - \\alpha} e^{z}}{k_{t}} + r_{t} $$\n",
      "$$ E5 \\text{  }\n",
      " 0 =  - \\frac{k_{t}^{\\alpha} l_{t}^{1 - \\alpha} \\left(1 - \\alpha\\right) e^{z}}{l_{t}} + w_{t} $$\n",
      "$$ E6 \\text{  }\n",
      " 0 =  T_{t} - \\tau \\left(k_{t} \\left(- \\delta + r_{t}\\right) + l_{t} w_{t}\\right) $$\n"
     ]
    }
   ],
   "source": [
    "## Problem 2\n",
    "\n",
    "ξ, γ, β, α, δ, τ = var('\\\\xi \\\\gamma \\\\beta \\\\alpha \\\\delta \\\\tau')\n",
    "\n",
    "k,k_1, w, r,r_1, T = var('k_t k_{t+1} w_t r_t r_{t+1} T_t')\n",
    "\n",
    "c, c_1, l, l_1, a, z = var(' c_t c_{t+1} l_t l_{t+1} a z')\n",
    "\n",
    "u0 = log(c) + a*log(1-l)\n",
    "u1 = log(c_1) + a*log(1-l_1)\n",
    "F = (k**α)*(l)**(1-α)*exp(z)\n",
    "\n",
    "print_latex(get_equilibrium(u0, u1, F))"
   ]
  },
  {
   "cell_type": "code",
   "execution_count": 8,
   "metadata": {},
   "outputs": [
    {
     "name": "stdout",
     "output_type": "stream",
     "text": [
      "$$ u \\text{  }\n",
      " 0 =  a \\log{\\left(1 - l_{t} \\right)} + \\frac{c_{t}^{1 - \\gamma} - 1}{1 - \\gamma} $$\n",
      "$$ F \\text{  }\n",
      " 0 =  k_{t}^{\\alpha} l_{t}^{1 - \\alpha} e^{z} $$\n",
      "$$ du/dc \\text{  }\n",
      " 0 =  \\frac{c_{t}^{1 - \\gamma}}{c_{t}} $$\n",
      "$$ du/dl \\text{  }\n",
      " 0 =  - \\frac{a}{1 - l_{t}} $$\n",
      "$$ E1 \\text{  }\n",
      " 0 =  T_{t} - c_{t} + k_{t} - k_{t+1} + \\left(1 - \\tau\\right) \\left(k_{t} \\left(- \\delta + r_{t}\\right) + l_{t} w_{t}\\right) $$\n",
      "$$ E2 \\text{  }\n",
      " 0 =  \\frac{\\beta c_{t+1}^{1 - \\gamma} \\left(\\left(1 - \\tau\\right) \\left(- \\delta + r_{t+1}\\right) + 1\\right)}{c_{t+1}} - \\frac{c_{t}^{1 - \\gamma}}{c_{t}} $$\n",
      "$$ E3 \\text{  }\n",
      " 0 =  - \\frac{a}{1 - l_{t}} + \\frac{c_{t}^{1 - \\gamma} w_{t} \\left(1 - \\tau\\right)}{c_{t}} $$\n",
      "$$ E4 \\text{  }\n",
      " 0 =  - \\frac{\\alpha k_{t}^{\\alpha} l_{t}^{1 - \\alpha} e^{z}}{k_{t}} + r_{t} $$\n",
      "$$ E5 \\text{  }\n",
      " 0 =  - \\frac{k_{t}^{\\alpha} l_{t}^{1 - \\alpha} \\left(1 - \\alpha\\right) e^{z}}{l_{t}} + w_{t} $$\n",
      "$$ E6 \\text{  }\n",
      " 0 =  T_{t} - \\tau \\left(k_{t} \\left(- \\delta + r_{t}\\right) + l_{t} w_{t}\\right) $$\n"
     ]
    }
   ],
   "source": [
    "## Problem 3\n",
    "\n",
    "ξ, γ, β, α, δ, τ = var('\\\\xi \\\\gamma \\\\beta \\\\alpha \\\\delta \\\\tau')\n",
    "\n",
    "k,k_1, w, r,r_1, T = var('k_t k_{t+1} w_t r_t r_{t+1} T_t')\n",
    "\n",
    "c, c_1, l, l_1, a, z = var(' c_t c_{t+1} l_t l_{t+1} a z')\n",
    "\n",
    "u0 = (c**(1-γ) - 1)/(1-γ) + a*log(1-l)\n",
    "u1 = (c_1**(1-γ) - 1)/(1-γ) + a*log(1_1-l)\n",
    "F = (k**α)*(l)**(1-α)*exp(z)\n",
    "\n",
    "print_latex(get_equilibrium(u0, u1, F))"
   ]
  },
  {
   "cell_type": "code",
   "execution_count": 9,
   "metadata": {},
   "outputs": [
    {
     "name": "stdout",
     "output_type": "stream",
     "text": [
      "$$ u \\text{  }\n",
      " 0 =  \\frac{a \\left(\\left(1 - l_{t}\\right)^{1 - \\xi} - 1\\right)}{1 - \\xi} + \\frac{c_{t}^{1 - \\gamma} - 1}{1 - \\gamma} $$\n",
      "$$ F \\text{  }\n",
      " 0 =  \\left(\\alpha k_{t}^{\\eta} + l_{t}^{\\eta} \\left(1 - \\alpha\\right)\\right)^{\\frac{1}{\\eta}} e^{z} $$\n",
      "$$ du/dc \\text{  }\n",
      " 0 =  \\frac{c_{t}^{1 - \\gamma}}{c_{t}} $$\n",
      "$$ du/dl \\text{  }\n",
      " 0 =  \\frac{a \\left(1 - l_{t}\\right)^{1 - \\xi} \\left(\\xi - 1\\right)}{\\left(1 - \\xi\\right) \\left(1 - l_{t}\\right)} $$\n",
      "$$ E1 \\text{  }\n",
      " 0 =  T_{t} - c_{t} + k_{t} - k_{t+1} + \\left(1 - \\tau\\right) \\left(k_{t} \\left(- \\delta + r_{t}\\right) + l_{t} w_{t}\\right) $$\n",
      "$$ E2 \\text{  }\n",
      " 0 =  \\frac{\\beta c_{t+1}^{1 - \\gamma} \\left(\\left(1 - \\tau\\right) \\left(- \\delta + r_{t+1}\\right) + 1\\right)}{c_{t+1}} - \\frac{c_{t}^{1 - \\gamma}}{c_{t}} $$\n",
      "$$ E3 \\text{  }\n",
      " 0 =  \\frac{a \\left(1 - l_{t}\\right)^{1 - \\xi} \\left(\\xi - 1\\right)}{\\left(1 - \\xi\\right) \\left(1 - l_{t}\\right)} + \\frac{c_{t}^{1 - \\gamma} w_{t} \\left(1 - \\tau\\right)}{c_{t}} $$\n",
      "$$ E4 \\text{  }\n",
      " 0 =  - \\frac{\\alpha k_{t}^{\\eta} \\left(\\alpha k_{t}^{\\eta} + l_{t}^{\\eta} \\left(1 - \\alpha\\right)\\right)^{\\frac{1}{\\eta}} e^{z}}{k_{t} \\left(\\alpha k_{t}^{\\eta} + l_{t}^{\\eta} \\left(1 - \\alpha\\right)\\right)} + r_{t} $$\n",
      "$$ E5 \\text{  }\n",
      " 0 =  w_{t} - \\frac{l_{t}^{\\eta} \\left(1 - \\alpha\\right) \\left(\\alpha k_{t}^{\\eta} + l_{t}^{\\eta} \\left(1 - \\alpha\\right)\\right)^{\\frac{1}{\\eta}} e^{z}}{l_{t} \\left(\\alpha k_{t}^{\\eta} + l_{t}^{\\eta} \\left(1 - \\alpha\\right)\\right)} $$\n",
      "$$ E6 \\text{  }\n",
      " 0 =  T_{t} - \\tau \\left(k_{t} \\left(- \\delta + r_{t}\\right) + l_{t} w_{t}\\right) $$\n"
     ]
    }
   ],
   "source": [
    "## Problem 4\n",
    "\n",
    "ξ, γ, β, α, δ, τ, η = var('\\\\xi \\\\gamma \\\\beta \\\\alpha \\\\delta \\\\tau \\\\eta')\n",
    "\n",
    "k,k_1, w, r,r_1, T = var('k_t k_{t+1} w_t r_t r_{t+1} T_t')\n",
    "\n",
    "c, c_1, l, l_1, a, z = var(' c_t c_{t+1} l_t l_{t+1} a z')\n",
    "\n",
    "\n",
    "u0 = (c**(1-γ) -1)/(1-γ) + a*((1-l)**(1-ξ) -1)/(1-ξ)\n",
    "u1 = (c_1**(1-γ) -1)/(1-γ) + a*((1-l_1)**(1-ξ) -1)/(1-ξ)\n",
    "F = exp(z)*(α*k**η + (1-α)*l**η)**(1/η)\n",
    "\n",
    "print_latex(get_equilibrium(u0, u1, F))"
   ]
  },
  {
   "cell_type": "code",
   "execution_count": 11,
   "metadata": {},
   "outputs": [
    {
     "name": "stdout",
     "output_type": "stream",
     "text": [
      "$$ u \\text{  }\n",
      " 0 =  \\frac{c_{t}^{1 - \\gamma} - 1}{1 - \\gamma} $$\n",
      "$$ F \\text{  }\n",
      " 0 =  k_{t}^{\\alpha} \\left(l_{t} e^{z}\\right)^{1 - \\alpha} $$\n",
      "$$ du/dc \\text{  }\n",
      " 0 =  \\frac{c_{t}^{1 - \\gamma}}{c_{t}} $$\n",
      "$$ du/dl \\text{  }\n",
      " 0 =  0 $$\n",
      "$$ E1 \\text{  }\n",
      " 0 =  T_{t} - c_{t} + k_{t} - k_{t+1} + \\left(1 - \\tau\\right) \\left(k_{t} \\left(- \\delta + r_{t}\\right) + l_{t} w_{t}\\right) $$\n",
      "$$ E2 \\text{  }\n",
      " 0 =  \\frac{\\beta c_{t+1}^{1 - \\gamma} \\left(\\left(1 - \\tau\\right) \\left(- \\delta + r_{t+1}\\right) + 1\\right)}{c_{t+1}} - \\frac{c_{t}^{1 - \\gamma}}{c_{t}} $$\n",
      "$$ E3 \\text{  }\n",
      " 0 =  \\frac{c_{t}^{1 - \\gamma} w_{t} \\left(1 - \\tau\\right)}{c_{t}} $$\n",
      "$$ E4 \\text{  }\n",
      " 0 =  - \\frac{\\alpha k_{t}^{\\alpha} \\left(l_{t} e^{z}\\right)^{1 - \\alpha}}{k_{t}} + r_{t} $$\n",
      "$$ E5 \\text{  }\n",
      " 0 =  - \\frac{k_{t}^{\\alpha} \\left(l_{t} e^{z}\\right)^{1 - \\alpha} \\left(1 - \\alpha\\right)}{l_{t}} + w_{t} $$\n",
      "$$ E6 \\text{  }\n",
      " 0 =  T_{t} - \\tau \\left(k_{t} \\left(- \\delta + r_{t}\\right) + l_{t} w_{t}\\right) $$\n"
     ]
    }
   ],
   "source": [
    "## Problem 5\n",
    "\n",
    "ξ, γ, β, α, δ, τ, η = var('\\\\xi \\\\gamma \\\\beta \\\\alpha \\\\delta \\\\tau \\\\eta')\n",
    "\n",
    "k,k_1, w, r,r_1, T = var('k_t k_{t+1} w_t r_t r_{t+1} T_t')\n",
    "\n",
    "c, c_1, l, l_1, a, z = var(' c_t c_{t+1} l_t l_{t+1} a z')\n",
    "\n",
    "\n",
    "u0 = (c**(1-γ) -1)/(1-γ)\n",
    "u1 = (c_1**(1-γ) -1)/(1-γ)\n",
    "F = (k**α)*(l*exp(z))**(1-α)\n",
    "\n",
    "print_latex(get_equilibrium(u0, u1, F))"
   ]
  },
  {
   "cell_type": "code",
   "execution_count": 12,
   "metadata": {},
   "outputs": [
    {
     "name": "stdout",
     "output_type": "stream",
     "text": [
      "$$ u \\text{  }\n",
      " 0 =  \\frac{c^{1 - \\gamma} - 1}{1 - \\gamma} $$\n",
      "$$ F \\text{  }\n",
      " 0 =  K^{\\alpha} \\left(L e^{z}\\right)^{1 - \\alpha} $$\n",
      "$$ du/dc \\text{  }\n",
      " 0 =  \\frac{c^{1 - \\gamma}}{c} $$\n",
      "$$ du/dl \\text{  }\n",
      " 0 =  0 $$\n",
      "$$ E1 \\text{  }\n",
      " 0 =  T - c + \\left(1 - \\tau\\right) \\left(k \\left(- \\delta + r\\right) + l w\\right) $$\n",
      "$$ E2 \\text{  }\n",
      " 0 =  \\frac{c^{1 - \\gamma} \\left(- \\beta \\left(\\left(1 - \\tau\\right) \\left(- \\delta + r\\right) + 1\\right) + 1\\right)}{c} $$\n",
      "$$ E3 \\text{  }\n",
      " 0 =  \\frac{c^{1 - \\gamma} w \\left(1 - \\tau\\right)}{c} $$\n",
      "$$ E4 \\text{  }\n",
      " 0 =  r - \\frac{K^{\\alpha} \\alpha \\left(L e^{z}\\right)^{1 - \\alpha}}{K} $$\n",
      "$$ E5 \\text{  }\n",
      " 0 =  - \\frac{K^{\\alpha} \\left(L e^{z}\\right)^{1 - \\alpha} \\left(1 - \\alpha\\right)}{L} + w $$\n",
      "$$ E6 \\text{  }\n",
      " 0 =  T - \\tau \\left(k \\left(- \\delta + r\\right) + l w\\right) $$\n"
     ]
    }
   ],
   "source": [
    "## Problem 5\n",
    "\n",
    "ξ, γ, β, α, δ, τ = var('\\\\xi \\\\gamma \\\\beta \\\\alpha \\\\delta \\\\tau')\n",
    "\n",
    "k, w, r, T = var('k w r T')\n",
    "\n",
    "K, L, z = var('K L z')\n",
    "\n",
    "c, l = var(' c l')\n",
    "\n",
    "u = (c**(1-γ) -1)/(1-γ)\n",
    "F = (K**α)*(L*exp(z))**(1-α)\n",
    "        \n",
    "print_latex(get_steady_state(u, F))"
   ]
  },
  {
   "cell_type": "code",
   "execution_count": 13,
   "metadata": {},
   "outputs": [
    {
     "name": "stdout",
     "output_type": "stream",
     "text": [
      "$$ u \\text{  }\n",
      " 0 =  \\frac{a \\left(\\left(1 - l\\right)^{1 - \\xi} - 1\\right)}{1 - \\xi} + \\frac{c^{1 - \\gamma} - 1}{1 - \\gamma} $$\n",
      "$$ F \\text{  }\n",
      " 0 =  K^{\\alpha} \\left(L e^{z}\\right)^{1 - \\alpha} $$\n",
      "$$ du/dc \\text{  }\n",
      " 0 =  \\frac{c^{1 - \\gamma}}{c} $$\n",
      "$$ du/dl \\text{  }\n",
      " 0 =  \\frac{a \\left(1 - l\\right)^{1 - \\xi} \\left(\\xi - 1\\right)}{\\left(1 - \\xi\\right) \\left(1 - l\\right)} $$\n",
      "$$ E1 \\text{  }\n",
      " 0 =  T - c + \\left(1 - \\tau\\right) \\left(k \\left(- \\delta + r\\right) + l w\\right) $$\n",
      "$$ E2 \\text{  }\n",
      " 0 =  \\frac{c^{1 - \\gamma} \\left(- \\beta \\left(\\left(1 - \\tau\\right) \\left(- \\delta + r\\right) + 1\\right) + 1\\right)}{c} $$\n",
      "$$ E3 \\text{  }\n",
      " 0 =  \\frac{a \\left(1 - l\\right)^{1 - \\xi} \\left(\\xi - 1\\right)}{\\left(1 - \\xi\\right) \\left(1 - l\\right)} + \\frac{c^{1 - \\gamma} w \\left(1 - \\tau\\right)}{c} $$\n",
      "$$ E4 \\text{  }\n",
      " 0 =  r - \\frac{K^{\\alpha} \\alpha \\left(L e^{z}\\right)^{1 - \\alpha}}{K} $$\n",
      "$$ E5 \\text{  }\n",
      " 0 =  - \\frac{K^{\\alpha} \\left(L e^{z}\\right)^{1 - \\alpha} \\left(1 - \\alpha\\right)}{L} + w $$\n",
      "$$ E6 \\text{  }\n",
      " 0 =  T - \\tau \\left(k \\left(- \\delta + r\\right) + l w\\right) $$\n"
     ]
    }
   ],
   "source": [
    "## Problem 6\n",
    "\n",
    "ξ, γ, β, α, δ, τ = var('\\\\xi \\\\gamma \\\\beta \\\\alpha \\\\delta \\\\tau')\n",
    "\n",
    "k, w, r, T = var('k w r T')\n",
    "\n",
    "K, L, z = var('K L z')\n",
    "\n",
    "c, l, a = var(' c l a')\n",
    "\n",
    "\n",
    "u = (c**(1-γ) -1)/(1-γ) + a*((1-l)**(1-ξ) -1)/(1-ξ)\n",
    "F = (K**α)*(L*exp(z))**(1-α)\n",
    "\n",
    "print_latex(get_steady_state(u, F))"
   ]
  },
  {
   "cell_type": "code",
   "execution_count": null,
   "metadata": {},
   "outputs": [],
   "source": []
  }
 ],
 "metadata": {
  "kernelspec": {
   "display_name": "Python 3",
   "language": "python",
   "name": "python3"
  },
  "language_info": {
   "codemirror_mode": {
    "name": "ipython",
    "version": 3
   },
   "file_extension": ".py",
   "mimetype": "text/x-python",
   "name": "python",
   "nbconvert_exporter": "python",
   "pygments_lexer": "ipython3",
   "version": "3.6.3"
  }
 },
 "nbformat": 4,
 "nbformat_minor": 2
}
