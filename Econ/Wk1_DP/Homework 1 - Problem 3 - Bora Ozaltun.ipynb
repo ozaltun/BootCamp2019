{
 "cells": [
  {
   "cell_type": "markdown",
   "metadata": {},
   "source": [
    "# Introduction to dynamic programming with discrete states and discrete actions\n",
    "\n",
    "This notebook solves problem 3 in homework 1, it is based off of Marlon's notebook."
   ]
  },
  {
   "cell_type": "code",
   "execution_count": 1,
   "metadata": {},
   "outputs": [],
   "source": [
    "import numpy as np\n",
    "\n",
    "# If you change any of these values, comment out the assertions\n",
    "\n",
    "N = 500 # number of grid-points for the capital grid\n",
    "k_low = 0.1 # lower bound for the capital grid\n",
    "k_high = 10 # upper bound for capital grid\n",
    "k_grid = np.linspace(k_low, k_high, N).reshape(1, N) #grid for capital\n",
    "\n",
    "# Now we initialize the value function, I like to initialize it to zero.\n",
    "V_init = np.zeros((2, N))"
   ]
  },
  {
   "cell_type": "code",
   "execution_count": 2,
   "metadata": {},
   "outputs": [],
   "source": [
    "# I start out with some functions, which may be helpful\n",
    "# If you change the parameters, the assertions don't make sense anymore\n",
    "gamma = 2.\n",
    "beta = 0.9\n",
    "\n",
    "def u(c, gamma=gamma):\n",
    "    \"\"\"\n",
    "    input: \n",
    "    c: consumption\n",
    "    \n",
    "    output:\n",
    "    utility received from consumption\n",
    "    \"\"\"\n",
    "    return np.log(c)\n",
    "\n",
    "# hint: try to understand what this function does first, it is useful for vf_update!\n",
    "def actionvalue_allchoices(k_index, V_old):\n",
    "    \"\"\"\n",
    "    input:\n",
    "    k_index: index so that k_grid[index] corresponds to value of capital this period (state)\n",
    "    V_old: approximation to the value function. V_old[i] approximates V(k_grid[i]).\n",
    "    \n",
    "    output:\n",
    "    action_value: value of all possible state-action pairs.\n",
    "    \"\"\"\n",
    "    k = k_grid[0,k_index]\n",
    "    action_value = np.zeros_like(V_old)\n",
    "    \n",
    "    c = np.zeros_like(V_old)\n",
    "    c[0,:] = 0.9*k**0.3 + 0.3 * k - k_grid\n",
    "    c[1,:] = 1.1*k**0.3 + 0.9* k -k_grid\n",
    "    \n",
    "    action_value[c<=0] = -999999\n",
    "    action_value[c>0] = u(c[c>0])\n",
    "    \n",
    "    E_V_old = V_old.mean(axis=0).reshape(1,N)\n",
    "\n",
    "    action_value += beta*E_V_old\n",
    "    \n",
    "    return action_value\n",
    "\n",
    "def vf_update(i, V_old):\n",
    "    \"\"\"\n",
    "    input:\n",
    "    i: index corresponding to the entry of the value-function vector which is updated\n",
    "    V_old: value function vector from the previous iteration\n",
    "    \n",
    "    output:\n",
    "    Vi_new: updated value for the value function vector at entry i.\n",
    "    \"\"\"\n",
    "    \n",
    "    Vi_new = actionvalue_allchoices(i, V_old).max(axis=1)\n",
    "    \n",
    "    return Vi_new"
   ]
  },
  {
   "cell_type": "code",
   "execution_count": 3,
   "metadata": {},
   "outputs": [],
   "source": [
    "def vf_update_iteration(V_old):\n",
    "    \"\"\"\n",
    "    input: \n",
    "    V_old: array with current approximation of the value function\n",
    "    \n",
    "    output:\n",
    "    V_new: updated approximation of the value function\n",
    "    \"\"\"\n",
    "    V_new = np.zeros_like(V_old)\n",
    "    \n",
    "    for i in range(V_new.shape[1]):\n",
    "        V_new[:,i] = vf_update(i, V_old)\n",
    "     \n",
    "    return V_new"
   ]
  },
  {
   "cell_type": "code",
   "execution_count": 5,
   "metadata": {},
   "outputs": [
    {
     "name": "stdout",
     "output_type": "stream",
     "text": [
      "Converged after iteration 215\n"
     ]
    },
    {
     "data": {
      "image/png": "[encoded data removed]",
      "text/plain": [
       "<matplotlib.figure.Figure at 0x118fce4e0>"
      ]
     },
     "metadata": {},
     "output_type": "display_data"
    }
   ],
   "source": [
    "from matplotlib import pyplot as plt\n",
    "\n",
    "difference_list = []\n",
    "threshold = 1e-10\n",
    "max_iterations = 10000\n",
    "plot_interval = 50\n",
    "\n",
    "V = V_init.copy()\n",
    "\n",
    "for iteration in range(max_iterations):\n",
    "    V_new = vf_update_iteration(V)\n",
    "    difference = np.max(np.abs(V_new-V))\n",
    "    difference_list.append(difference) # Nothing todo here\n",
    "    V = V_new.copy()\n",
    "    \n",
    "    \n",
    "    if difference < threshold:\n",
    "        print('Converged after iteration {}'.format(iteration + 1))\n",
    "        \n",
    "        plt.figure()\n",
    "        plt.plot(k_grid[0,:], V[0,:], label='state = 1')\n",
    "        plt.plot(k_grid[0,:], V[1,:], label = 'state = 2')\n",
    "        plt.legend()\n",
    "        plt.xlabel('k')\n",
    "        plt.ylabel('V(k)')\n",
    "        plt.title('Value function after convergence')\n",
    "        plt.show();\n",
    "        break\n",
    "        \n",
    "    if iteration%plot_interval == 50:\n",
    "        \n",
    "        plt.figure()\n",
    "        plt.plot(np.arange(1, iteration+2), np.log10(np.array(difference_list)))\n",
    "        plt.xlabel('Iteration')\n",
    "        plt.ylabel('Maximum update [log10]')\n",
    "        plt.show();"
   ]
  },
  {
   "cell_type": "code",
   "execution_count": 6,
   "metadata": {},
   "outputs": [],
   "source": [
    "def extract_policy(V):\n",
    "    \"\"\"\n",
    "    input:\n",
    "    V: value function array\n",
    "    \n",
    "    output:\n",
    "    p: polcy function array\n",
    "    \"\"\"\n",
    "    p = np.zeros_like(V)\n",
    "    print(p.shape)\n",
    "    for i in range(p.shape[1]):\n",
    "        action_value = actionvalue_allchoices(i, V)\n",
    "        p[:,i] = k_grid[0,action_value.argmax(axis=1)]\n",
    "    \n",
    "    return p"
   ]
  },
  {
   "cell_type": "code",
   "execution_count": 7,
   "metadata": {},
   "outputs": [
    {
     "name": "stdout",
     "output_type": "stream",
     "text": [
      "(2, 500)\n"
     ]
    },
    {
     "data": {
      "image/png": "[encoded data removed]",
      "text/plain": [
       "<matplotlib.figure.Figure at 0x10d419630>"
      ]
     },
     "metadata": {},
     "output_type": "display_data"
    }
   ],
   "source": [
    "plt.figure()\n",
    "policy = extract_policy(V)\n",
    "plt.plot(k_grid[0,:], policy[0,:], label='state 1')\n",
    "plt.plot(k_grid[0,:], policy[1,:], label='state 2')\n",
    "plt.xlabel('k')\n",
    "plt.ylabel(\"k'\")\n",
    "plt.title('Policy function')\n",
    "plt.legend()\n",
    "plt.show();"
   ]
  }
 ],
 "metadata": {
  "kernelspec": {
   "display_name": "Python 3",
   "language": "python",
   "name": "python3"
  },
  "language_info": {
   "codemirror_mode": {
    "name": "ipython",
    "version": 3
   },
   "file_extension": ".py",
   "mimetype": "text/x-python",
   "name": "python",
   "nbconvert_exporter": "python",
   "pygments_lexer": "ipython3",
   "version": "3.6.3"
  }
 },
 "nbformat": 4,
 "nbformat_minor": 2
}
