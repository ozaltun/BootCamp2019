{
 "cells": [
  {
   "cell_type": "code",
   "execution_count": 1,
   "metadata": {},
   "outputs": [],
   "source": [
    "def arithmagic():\n",
    "    step_1 = input(\"Enter a 3-digit number where the first and last \"\n",
    "                                           \"digits differ by 2 or more: \")\n",
    "    step_2 = input(\"Enter the reverse of the first number, obtained \"\n",
    "                                              \"by reading it backwards: \")\n",
    "    step_3 = input(\"Enter the positive difference of these numbers: \")\n",
    "    step_4 = input(\"Enter the reverse of the previous result: \")\n",
    "    print(str(step_3), \"+\", str(step_4), \"= 1089 (ta-da!)\")\n",
    "\n",
    "\n",
    "## The reason the number will always be the same is because\n",
    "## we are not actually calculating anything.\n",
    "\n",
    "## Independent of the user's input, the final printed statement\n",
    "## is hard coded to print 1089!\n",
    " "
   ]
  },
  {
   "cell_type": "code",
   "execution_count": 7,
   "metadata": {},
   "outputs": [],
   "source": [
    "def arthmagic():\n",
    "    try:\n",
    "        step_1 = input(\"Enter a 3-digit number where the first and last \"\n",
    "                                           \"digits differ by 2 or more: \")\n",
    "        if len(step_1) != 3:\n",
    "            raise ValueError\n",
    "        \n",
    "        if (int(step_1[0])- int(step_1[2]))*(int(step_1[0])- int(step_1[2])) <4:\n",
    "            raise ValueError\n",
    "        \n",
    "        step_2 = input(\"Enter the reverse of the first number, obtained \"\n",
    "                                              \"by reading it backwards: \")\n",
    "        if step_1 != step_2[2]+step_2[1] + step_2[0]:\n",
    "            raise ValueError\n",
    "\n",
    "        step_3 = input(\"Enter the positive difference of these numbers: \")\n",
    "        \n",
    "        if int(step_3) != abs(int(step_2)-int(step_1)):\n",
    "            raise ValueError\n",
    "                                            \n",
    "        step_4 = input(\"Enter the reverse of the previous result: \")\n",
    "        \n",
    "        if step_4 != step_3[2]+step_3[1] + step_3[0]:\n",
    "            raise ValueError\n",
    "                                            \n",
    "        print(str(step_3), \"+\", str(step_4), \"= 1089 (ta-da!)\")\n",
    "\n",
    "    except ValueError as e:\n",
    "        print('The value you provided is incorrect!')"
   ]
  },
  {
   "cell_type": "code",
   "execution_count": 10,
   "metadata": {},
   "outputs": [
    {
     "name": "stdout",
     "output_type": "stream",
     "text": [
      "Enter a 3-digit number where the first and last digits differ by 2 or more: 123\n",
      "Enter the reverse of the first number, obtained by reading it backwards: 321\n",
      "Enter the positive difference of these numbers: 198\n",
      "Enter the reverse of the previous result: 891\n",
      "198 + 891 = 1089 (ta-da!)\n"
     ]
    }
   ],
   "source": [
    "arthmagic()"
   ]
  },
  {
   "cell_type": "markdown",
   "metadata": {},
   "source": [
    "## Problem 2"
   ]
  },
  {
   "cell_type": "code",
   "execution_count": 27,
   "metadata": {},
   "outputs": [],
   "source": [
    "from random import choice\n",
    "\n",
    "def random_walk(max_iters=1e12):\n",
    "    try:\n",
    "        walk = 0\n",
    "        directions = [1, -1]\n",
    "        for i in range(int(max_iters)):\n",
    "                walk += choice(directions)\n",
    "        print('Process completed')\n",
    "        return walk\n",
    "    except KeyboardInterrupt:\n",
    "        print('Process interrupted at iteration {}'.format(i))"
   ]
  },
  {
   "cell_type": "markdown",
   "metadata": {},
   "source": [
    "## Problem 3"
   ]
  },
  {
   "cell_type": "code",
   "execution_count": 147,
   "metadata": {},
   "outputs": [],
   "source": [
    "class ContentFilter:\n",
    "    def __init__(self, file_name):\n",
    "        self.contents = None\n",
    "        while self.contents == None:\n",
    "            try:\n",
    "                with open(file_name, 'r') as myfile:\n",
    "                    self.name = file_name\n",
    "                    self.contents = myfile.readlines()\n",
    "            except (FileNotFoundError,TypeError,OSError):\n",
    "                file_name = input('File name is incorrect. Please put in another file name:')\n"
   ]
  },
  {
   "cell_type": "code",
   "execution_count": 148,
   "metadata": {},
   "outputs": [
    {
     "name": "stdout",
     "output_type": "stream",
     "text": [
      "File name is incorrect. Please put in another file name:example.txt\n"
     ]
    }
   ],
   "source": [
    "A = ContentFilter('jokes.csv')"
   ]
  },
  {
   "cell_type": "code",
   "execution_count": 35,
   "metadata": {},
   "outputs": [
    {
     "name": "stdout",
     "output_type": "stream",
     "text": [
      "README\n"
     ]
    }
   ],
   "source": [
    "print(A.name)"
   ]
  },
  {
   "cell_type": "code",
   "execution_count": 39,
   "metadata": {},
   "outputs": [
    {
     "data": {
      "text/plain": [
       "['THE STEPS OF BUILD GIT WITH VS2008\\n',\n",
       " '\\n',\n",
       " '1. YOU NEED THE BUILD ENVIRONMENT, WHICH CONTAINS THE GIT DEPENDENCIES\\n',\n",
       " '   TO BE ABLE TO COMPILE, LINK AND RUN GIT WITH MSVC.\\n',\n",
       " '\\n',\n",
       " '   YOU CAN EITHER USE THE BINARY REPOSITORY:\\n',\n",
       " '\\n',\n",
       " '       WWW: HTTP://REPO.OR.CZ/W/MSVCGIT.GIT\\n',\n",
       " '       GIT: GIT CLONE GIT://REPO.OR.CZ/MSVCGIT.GIT\\n',\n",
       " '       ZIP: HTTP://REPO.OR.CZ/W/MSVCGIT.GIT?A=SNAPSHOT;H=MASTER;SF=ZIP\\n',\n",
       " '\\n',\n",
       " '   AND CALL THE SETUP_32BIT_ENV.CMD BATCH SCRIPT BEFORE COMPILING GIT,\\n',\n",
       " '   (SEE REPO/PACKAGE README FOR DETAILS), OR THE SOURCE REPOSITORY:\\n',\n",
       " '\\n',\n",
       " '       WWW: HTTP://REPO.OR.CZ/W/GITBUILD.GIT\\n',\n",
       " '       GIT: GIT CLONE GIT://REPO.OR.CZ/GITBUILD.GIT\\n',\n",
       " \"       ZIP: (NONE, AS IT'S A PROJECT WITH SUBMODULES)\\n\",\n",
       " '\\n',\n",
       " '   AND BUILD THE SUPPORT LIBS AS INSTRUCTED IN THAT REPO/PACKAGE.\\n',\n",
       " '\\n',\n",
       " '2. ENSURE YOU HAVE THE MSYSGIT ENVIRONMENT IN YOUR PATH, SO YOU HAVE\\n',\n",
       " '   GNU MAKE, BASH AND PERL AVAILABLE.\\n',\n",
       " '\\n',\n",
       " '       WWW: HTTP://REPO.OR.CZ/W/MSYSGIT.GIT\\n',\n",
       " '       GIT: GIT CLONE GIT://REPO.OR.CZ/MSYSGIT.GIT\\n',\n",
       " '       ZIP: HTTP://REPO.OR.CZ/W/MSYSGIT.GIT?A=SNAPSHOT;H=MASTER;SF=ZIP\\n',\n",
       " '\\n',\n",
       " '   THIS ENVIRONMENT IS ALSO NEEDED WHEN YOU USE THE RESULTING\\n',\n",
       " '   EXECUTABLES, SINCE GIT MIGHT NEED TO RUN SCRIPTS WHICH ARE PART OF\\n',\n",
       " '   THE GIT OPERATIONS.\\n',\n",
       " '\\n',\n",
       " \"3. INSIDE GIT'S DIRECTORY RUN THE COMMAND:\\n\",\n",
       " '       MAKE COMMON-CMDS.H\\n',\n",
       " '   TO GENERATE THE COMMON-CMDS.H FILE NEEDED TO COMPILE GIT.\\n',\n",
       " '\\n',\n",
       " '4. THEN EITHER BUILD GIT WITH THE GNU MAKE MAKEFILE IN THE GIT PROJECTS\\n',\n",
       " '   ROOT\\n',\n",
       " '       MAKE MSVC=1\\n',\n",
       " '   OR GENERATE VISUAL STUDIO SOLUTION/PROJECTS (.SLN/.VCPROJ) WITH THE\\n',\n",
       " '   COMMAND\\n',\n",
       " '       PERL CONTRIB/BUILDSYSTEMS/GENERATE -G VCPROJ\\n',\n",
       " '   AND OPEN AND BUILD THE SOLUTION WITH THE IDE\\n',\n",
       " '       DEVENV GIT.SLN /USEENV\\n',\n",
       " '   OR BUILD WITH THE IDE BUILD ENGINE DIRECTLY FROM THE COMMAND LINE\\n',\n",
       " '       DEVENV GIT.SLN /USEENV /BUILD \"RELEASE|WIN32\"\\n',\n",
       " '   THE /USEENV OPTION IS REQUIRED, SO VISUAL STUDIO PICKS UP THE\\n',\n",
       " '   ENVIRONMENT VARIABLES FOR THE SUPPORT LIBRARIES REQUIRED TO BUILD\\n',\n",
       " '   GIT, WHICH YOU SET UP IN STEP 1.\\n',\n",
       " '\\n',\n",
       " 'DONE!\\n']"
      ]
     },
     "execution_count": 39,
     "metadata": {},
     "output_type": "execute_result"
    }
   ],
   "source": [
    "[a.upper() for a in A.contents]"
   ]
  },
  {
   "cell_type": "markdown",
   "metadata": {},
   "source": [
    "## Problem 4"
   ]
  },
  {
   "cell_type": "code",
   "execution_count": 153,
   "metadata": {},
   "outputs": [],
   "source": [
    "class ContentFilter:\n",
    "    def __init__(self, file_name):\n",
    "        self.contents = None\n",
    "        while self.contents == None:\n",
    "            try:\n",
    "                with open(file_name, 'r') as myfile:\n",
    "                    self.name = file_name\n",
    "                    self.contents = myfile.readlines()\n",
    "\n",
    "            except (FileNotFoundError,TypeError,OSError):\n",
    "                file_name = input('File name is incorrect. Please put in another file name:')\n",
    "                        \n",
    "        self.lines = len(self.contents)\n",
    "        self.totalchar = 0\n",
    "        self.totalalph = 0\n",
    "        self.totalnum = 0\n",
    "        self.whitespace = 0\n",
    "        for i in self.contents:\n",
    "            self.totalalph += sum([s.isspace() for s in i])\n",
    "            self.totalnum += sum([s.isnumeric() for s in i])\n",
    "            self.whitespace += sum([s.isspace() for s in i])\n",
    "        self.totalchar = self.totalalph +self.totalnum\n",
    "\n",
    "    def __str__(self):\n",
    "        string = 'Source file: \\t \\t {} \\n'.format(self.name)\n",
    "        string+= 'Total characters: \\t \\t {} \\n'.format(self.totalchar)\n",
    "        string+= 'Alphabetic characters: \\t \\t {} \\n'.format(self.totalalph)\n",
    "        string+= 'Numerical characters: \\t \\t {} \\n'.format(self.totalnum)\n",
    "        string+= 'Whitespace characters: \\t \\t {} \\n'.format(self.whitespace)\n",
    "        string+= 'Number of lines: \\t \\t {} \\n'.format(self.lines)\n",
    "        \n",
    "        return string\n",
    "    def uniform(self, write_file_name, case='upper'):\n",
    "        if case == 'upper':\n",
    "            contents = [a.upper() for a in A.contents]\n",
    "            with open(write_file_name, 'w') as outfile:\n",
    "                for i in contents:\n",
    "                    outfile.write(i+'\\n')\n",
    "        elif case == 'lower':\n",
    "            contents = [a.lower() for a in A.contents]\n",
    "            with open(write_file_name, 'w') as outfile:\n",
    "                for i in contents:\n",
    "                    outfile.write(i+'\\n')\n",
    "        else:\n",
    "            raise ValueError('Case is not known')\n",
    "            \n",
    "    def reverse(self, write_file_name, unit='word'):\n",
    "        if unit == 'word':\n",
    "            contents = [a[:-1] for a in A.contents]\n",
    "            contents = [a.split(' ') for a in contents]\n",
    "            with open(write_file_name, 'w') as outfile:\n",
    "                for i in contents:\n",
    "                    for j in range(1, len(i)+1):\n",
    "                        outfile.write(i[-j]+' ')\n",
    "                    outfile.write('\\n')\n",
    "        elif unit == 'line':\n",
    "            with open(write_file_name, 'w') as outfile:\n",
    "                for i in range(1, len(A.contents)+1):\n",
    "                    outfile.write(A.contents[-i]+'\\n')\n",
    "        \n",
    "        else:\n",
    "            raise ValueError('Unit not known')\n",
    "    \n",
    "    def transpose(self, write_file_name):\n",
    "        \n",
    "        contents = [a[:-1] for a in A.contents]\n",
    "        contents = [a.split(' ') for a in contents]\n",
    "        with open(write_file_name, 'w') as outfile:\n",
    "            for i in range(len(contents[0])):\n",
    "                for j in range(len(contents)):\n",
    "                    outfile.write(contents[j][i]+' ')\n",
    "                outfile.write('\\n')"
   ]
  },
  {
   "cell_type": "code",
   "execution_count": 154,
   "metadata": {},
   "outputs": [],
   "source": [
    "A = ContentFilter('example.txt')"
   ]
  },
  {
   "cell_type": "code",
   "execution_count": 155,
   "metadata": {},
   "outputs": [
    {
     "name": "stdout",
     "output_type": "stream",
     "text": [
      "Source file: \t \t example.txt \n",
      "Total characters: \t \t 6 \n",
      "Alphabetic characters: \t \t 6 \n",
      "Numerical characters: \t \t 0 \n",
      "Whitespace characters: \t \t 6 \n",
      "Number of lines: \t \t 2 \n",
      "\n"
     ]
    }
   ],
   "source": [
    "print(str(A))"
   ]
  },
  {
   "cell_type": "code",
   "execution_count": 156,
   "metadata": {},
   "outputs": [],
   "source": [
    "A.uniform('upper.txt')"
   ]
  },
  {
   "cell_type": "code",
   "execution_count": 157,
   "metadata": {},
   "outputs": [],
   "source": [
    "A.uniform('lower.txt', case='lower')"
   ]
  },
  {
   "cell_type": "code",
   "execution_count": 158,
   "metadata": {},
   "outputs": [],
   "source": [
    "A.reverse('word_reverse.txt')"
   ]
  },
  {
   "cell_type": "code",
   "execution_count": 159,
   "metadata": {},
   "outputs": [],
   "source": [
    "A.reverse('line_reverse.txt', unit='line')"
   ]
  },
  {
   "cell_type": "code",
   "execution_count": 160,
   "metadata": {},
   "outputs": [],
   "source": [
    "A.transpose('transpose.txt')"
   ]
  },
  {
   "cell_type": "code",
   "execution_count": null,
   "metadata": {},
   "outputs": [],
   "source": []
  }
 ],
 "metadata": {
  "kernelspec": {
   "display_name": "Python 3",
   "language": "python",
   "name": "python3"
  },
  "language_info": {
   "codemirror_mode": {
    "name": "ipython",
    "version": 3
   },
   "file_extension": ".py",
   "mimetype": "text/x-python",
   "name": "python",
   "nbconvert_exporter": "python",
   "pygments_lexer": "ipython3",
   "version": "3.6.3"
  }
 },
 "nbformat": 4,
 "nbformat_minor": 2
}
