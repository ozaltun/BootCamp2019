{
 "cells": [
  {
   "cell_type": "code",
   "execution_count": 10,
   "metadata": {},
   "outputs": [],
   "source": [
    "import numpy as np\n",
    "import matplotlib.pyplot as plt\n",
    "from scipy.optimize import fsolve\n",
    "import time"
   ]
  },
  {
   "cell_type": "code",
   "execution_count": 11,
   "metadata": {},
   "outputs": [],
   "source": [
    "def get_L(n_array):\n",
    "    L = n_array.sum()\n",
    "    return L\n",
    "\n",
    "def get_K(b_array):\n",
    "    K = b_array[1:].sum()\n",
    "    return K\n",
    "\n",
    "def get_u(c, p):\n",
    "    sigma = p['sigma']\n",
    "    u = (c**(1-sigma) -1)/(1-sigma)\n",
    "    return u\n",
    "\n",
    "def u_prime(c, p):\n",
    "    sigma = p['sigma']\n",
    "    u_prime = c**(-sigma)\n",
    "    return u_prime\n",
    "    \n",
    "    return u_prime\n",
    "def get_w(K, L, p):\n",
    "    A = p['A']\n",
    "    alpha = p['alpha']\n",
    "    w = (1-alpha)*A*(K/L)**alpha\n",
    "    return w\n",
    "\n",
    "def get_r(K, L, p):\n",
    "    alpha = p['alpha']\n",
    "    A = p ['A']\n",
    "    delta = p['delta']\n",
    "    r = alpha*A*(L/K)**(1-alpha) - delta\n",
    "    \n",
    "    return r\n",
    "\n",
    "def get_Y(K, L, p):\n",
    "    alpha = p['alpha']\n",
    "    A = p['A']\n",
    "    Y = A*K**alpha*L**(1-alpha)\n",
    "    return Y\n",
    "\n",
    "def get_c(b, p, f):\n",
    "    n = p['n']\n",
    "    w = f['w'](f['K'](b), f['L'](n), p)\n",
    "    r = f['r'](f['K'](b), f['L'](n), p)\n",
    "    \n",
    "    c = np.zeros(S)\n",
    "    for i in range(b.shape[0]-1):\n",
    "        c[i] = (1+r)*b[i]+w*n[i]-b[i+1]\n",
    "        \n",
    "        \n",
    "    return c\n",
    "\n"
   ]
  },
  {
   "cell_type": "code",
   "execution_count": 15,
   "metadata": {},
   "outputs": [],
   "source": [
    "\n",
    "def equations_ss_b(b, p, f):\n",
    "    \"\"\" Takes in a guess for b and a dictionary of functions \n",
    "    f and a dictionary of elemtns p.\"\"\"\n",
    "    b = np.insert(b, 0, 0)\n",
    "    n = p['n']\n",
    "    w = f['w'](f['K'](b), f['L'](n), p)\n",
    "    r = f['r'](f['K'](b), f['L'](n), p)\n",
    "    euler_list = []\n",
    "    \n",
    "    # Adding the first case where 1 = 0\n",
    "    e_l = f['u_p'](w*n[0]+(1+r)*0-b[1], p)\n",
    "    e_r = p['beta']*(1+r)*f['u_p'](w*n[1] + (1+r)*b[1]-b[2], p)\n",
    "    \n",
    "    e = e_l - e_r\n",
    "    \n",
    "    euler_list.append(e)\n",
    "\n",
    "    # Adding all other cases\n",
    "    for i in range(1, S-2):\n",
    "\n",
    "        e_l = f['u_p'](w*n[i]+(1+r)*b[i]-b[i+1], p)\n",
    "        e_r = p['beta']*(1+r)*f['u_p'](w*n[i+1] + (1+r)*b[i+1]-b[i+2], p)\n",
    "\n",
    "        e = e_l - e_r\n",
    "        \n",
    "        euler_list.append(e)\n",
    "    \n",
    "    # Adding the case where S+1 =0\n",
    "    e_l = f['u_p'](w*n[S-2]+(1+r)*b[S-2]-b[S-1], p)\n",
    "    e_r = p['beta']*(1+r)*f['u_p'](w*n[S-1] + (1+r)*b[S-1], p)\n",
    "\n",
    "    e = e_l - e_r\n",
    "\n",
    "    euler_list.append(e)\n",
    "\n",
    "    return euler_list\n",
    "    \n",
    "def get_ss_b(bvec_guess, p, f):\n",
    "    start_time = time.clock()\n",
    "    n = p['n']\n",
    "    b_ss = np.zeros_like(bvec_guess)\n",
    "    F = lambda b: equations_ss_b(b, p, f)\n",
    "    \n",
    "    b_ss[1:] = fsolve(F, bvec_guess[1:])\n",
    "    \n",
    "    b_ss[0] = 0\n",
    "    b_ss = np.insert(b_ss, -1, 0)\n",
    "    c_ss = f['c'](b_ss, p, f)\n",
    "    w_ss = f['w'](f['K'](b_ss), f['L'](n), p)\n",
    "    r_ss = f['r'](f['K'](b_ss), f['L'](n), p)\n",
    "    \n",
    "        \n",
    "    K_ss = f['K'](b_ss)\n",
    "    L_ss = f['L'](n)\n",
    "    Y_ss = f['Y'](K_ss, L_ss, p)\n",
    "    C_ss = c_ss.sum()\n",
    "    \n",
    "    EulErr_ss = equations_ss_b(b_ss, p, f)\n",
    "    RCer_ss = Y_ss - C_ss - K_ss*(p['delta'])\n",
    "    \n",
    "    ss_time = time.clock() - start_time\n",
    "    \n",
    "    ss_output = {'b_ss':b_ss, 'c_ss':c_ss, 'w_ss':w_ss \\\n",
    "                , 'r_ss':r_ss, 'K_ss':K_ss, 'Y_ss':Y_ss \\\n",
    "                , 'C_ss':C_ss, 'EulErr_ss':EulErr_ss, 'RCerr_ss': \\\n",
    "                RCer_ss, 'ss_time':ss_time}\n",
    "    return ss_output"
   ]
  },
  {
   "cell_type": "code",
   "execution_count": 16,
   "metadata": {},
   "outputs": [],
   "source": [
    "S = 80\n",
    "functions = {'L':get_L, 'K':get_K, 'r':get_r, 'u':get_u, 'u_p':u_prime, \n",
    "             'w':get_w,'c':get_c, 'Y':get_Y}\n",
    "\n",
    "params = {'beta':0.96**(80/S), 'delta': 1- (1-0.05)**(80/S), 'sigma':3 , \\\n",
    "          'A':1, 'alpha':0.35, 'n':np.array([1]*(int(2*S/3)+1) +[.2]*(int(S-2*S/3)))}"
   ]
  },
  {
   "cell_type": "code",
   "execution_count": 24,
   "metadata": {},
   "outputs": [
    {
     "data": {
      "text/plain": [
       "{'C_ss': 98.78136215038788,\n",
       " 'EulErr_ss': [-0.058242404732064934,\n",
       "  -6.607256963775399e-10,\n",
       "  -4.229783190368153e-12,\n",
       "  2.2124146958901747e-10,\n",
       "  -7.737821494657737e-11,\n",
       "  -1.4371631662513096e-10,\n",
       "  -5.799805080641818e-13,\n",
       "  -2.832734047331087e-13,\n",
       "  -1.6003864899971632e-13,\n",
       "  -1.2906342661267445e-13,\n",
       "  -9.18709552877317e-14,\n",
       "  -8.465450562766819e-14,\n",
       "  -1.0258460747536446e-13,\n",
       "  -7.72715225139109e-14,\n",
       "  -8.920642002863133e-14,\n",
       "  -7.005507285384738e-14,\n",
       "  -7.394085344003543e-14,\n",
       "  -6.777911565336581e-14,\n",
       "  -7.432943149865423e-14,\n",
       "  -7.627232179174825e-14,\n",
       "  -8.310019339319297e-14,\n",
       "  -5.695444116327053e-14,\n",
       "  -7.771561172376096e-14,\n",
       "  -8.859579736508749e-14,\n",
       "  -6.106226635438361e-14,\n",
       "  -8.343326030058051e-14,\n",
       "  -8.08242361927114e-14,\n",
       "  -7.849276784099857e-14,\n",
       "  -3.8691272408186705e-14,\n",
       "  -1.1718404024918527e-13,\n",
       "  -4.39648317751562e-14,\n",
       "  -7.638334409421077e-14,\n",
       "  -1.0536016503692736e-13,\n",
       "  -1.199040866595169e-13,\n",
       "  -1.290079154614432e-13,\n",
       "  -6.783462680459706e-14,\n",
       "  -1.361133428190442e-13,\n",
       "  -5.417888360170764e-14,\n",
       "  -1.8329782136561334e-13,\n",
       "  -9.781064846947629e-14,\n",
       "  -1.965094753586527e-14,\n",
       "  -3.353983757392598e-13,\n",
       "  -6.361577931102147e-14,\n",
       "  -1.8740564655672642e-13,\n",
       "  -1.000310945187266e-13,\n",
       "  -9.958700530887654e-14,\n",
       "  -3.304023721284466e-13,\n",
       "  -1.0857981180834031e-13,\n",
       "  -4.0456527017340704e-13,\n",
       "  -3.099742684753437e-13,\n",
       "  -2.0039525594484076e-13,\n",
       "  -8.348877145181177e-14,\n",
       "  -5.571099137569036e-13,\n",
       "  -411.89158028369843,\n",
       "  413.29403833724996,\n",
       "  -9.986279581042368e-10,\n",
       "  1.0817331475010405e-09,\n",
       "  -3.914946145044951e-11,\n",
       "  1.882161093647028e-12,\n",
       "  -1.3664624987086427e-12,\n",
       "  4.9877990626612245e-11,\n",
       "  6.462796964257222e-11,\n",
       "  1.8155033032485335e-11,\n",
       "  -2.793365538877879e-11,\n",
       "  -4.958289334666688e-11,\n",
       "  -4.130196185059276e-11,\n",
       "  -1.61375357521365e-11,\n",
       "  2.3615553956801705e-12,\n",
       "  -1.2541856442283006e-11,\n",
       "  -4.41600089828853e-11,\n",
       "  6.451772449622695e-11,\n",
       "  4.617058957379072e-10,\n",
       "  8.978573440288073e-11,\n",
       "  -6.257596663061804e-10,\n",
       "  2.8086200032362285e-10,\n",
       "  2.2369472940653168e-10,\n",
       "  -4.701874445345311e-10,\n",
       "  2.8968383247729435e-11,\n",
       "  0.47625999548771447],\n",
       " 'K_ss': 494.0375452143354,\n",
       " 'RCerr_ss': 0.9181106831373214,\n",
       " 'Y_ss': 124.40135009424199,\n",
       " 'b_ss': array([ 0.        ,  0.06305282,  0.12998531,  0.20094373,  0.27607994,\n",
       "         0.35555157,  0.43952227,  0.52816194,  0.62164696,  0.72016043,\n",
       "         0.82389243,  0.93304031,  1.04780892,  1.16841095,  1.29506718,\n",
       "         1.42800683,  1.56746784,  1.71369724,  1.86695149,  2.02749681,\n",
       "         2.19560959,  2.37157675,  2.55569615,  2.74827704,  2.94964042,\n",
       "         3.16011956,  3.38006044,  3.60982222,  3.84977777,  4.10031417,\n",
       "         4.36183327,  4.63475225,  4.91950419,  5.21653869,  5.52632248,\n",
       "         5.84934012,  6.18609462,  6.5371082 ,  6.90292297,  7.28410172,\n",
       "         7.68122872,  8.09491049,  8.52577671,  8.97448106,  9.44170213,\n",
       "         9.92814442, 10.43453928, 10.96164595, 11.51025261, 12.08117753,\n",
       "        12.67527015, 13.29341232, 13.93651952, 14.60554212, 15.30146677,\n",
       "        14.93260314, 14.55106182, 14.1563578 , 13.74798761, 13.32542855,\n",
       "        12.88813801, 12.43555269, 11.9670878 , 11.48213627, 10.98006786,\n",
       "        10.46022833,  9.92193847,  9.36449317,  8.78716047,  8.18918045,\n",
       "         7.56976425,  6.92809292,  6.26331628,  5.57455175,  4.86088307,\n",
       "         4.12135906,  3.35499228,  2.56075762,  1.73759088,  0.        ,\n",
       "         0.88438731]),\n",
       " 'c_ss': array([ 1.30284038,  1.30136504,  1.29989137,  1.29841937,  1.29694903,\n",
       "         1.29548036,  1.29401335,  1.29254801,  1.29108432,  1.28962229,\n",
       "         1.28816192,  1.2867032 ,  1.28524613,  1.28379071,  1.28233694,\n",
       "         1.28088482,  1.27943434,  1.2779855 ,  1.27653831,  1.27509275,\n",
       "         1.27364883,  1.27220655,  1.27076589,  1.26932687,  1.26788948,\n",
       "         1.26645372,  1.26501958,  1.26358707,  1.26215618,  1.26072691,\n",
       "         1.25929926,  1.25787322,  1.2564488 ,  1.25502599,  1.2536048 ,\n",
       "         1.25218521,  1.25076723,  1.24935086,  1.24793609,  1.24652292,\n",
       "         1.24511135,  1.24370138,  1.24229301,  1.24088623,  1.23948105,\n",
       "         1.23807745,  1.23667545,  1.23527503,  1.2338762 ,  1.23247896,\n",
       "         1.23108329,  1.22968921,  1.22829671,  1.22690578,  1.22551642,\n",
       "         1.22412864,  1.22274244,  1.2213578 ,  1.21997473,  1.21859322,\n",
       "         1.21721328,  1.21583491,  1.21445809,  1.21308283,  1.21170913,\n",
       "         1.21033699,  1.2089664 ,  1.20759736,  1.20622987,  1.20486393,\n",
       "         1.20349954,  1.20213669,  1.20077539,  1.19941563,  1.1980574 ,\n",
       "         1.19670072,  1.19534557,  1.19399195,  2.07702718, -0.61120867]),\n",
       " 'r_ss': 0.038131910124553164,\n",
       " 'ss_time': 0.09253499999999981,\n",
       " 'w_ss': 1.3658932020482653}"
      ]
     },
     "execution_count": 24,
     "metadata": {},
     "output_type": "execute_result"
    }
   ],
   "source": [
    "ss_variables = get_ss_b(np.ones(80)*0.1, params, functions)\n",
    "ss_variables"
   ]
  },
  {
   "cell_type": "code",
   "execution_count": 26,
   "metadata": {},
   "outputs": [
    {
     "name": "stdout",
     "output_type": "stream",
     "text": [
      "Time it took is 0.09253499999999981 seconds\n"
     ]
    }
   ],
   "source": [
    "print(\"Time it took is\",ss_variables['ss_time'], 'seconds')"
   ]
  },
  {
   "cell_type": "code",
   "execution_count": 27,
   "metadata": {},
   "outputs": [
    {
     "data": {
      "image/png": "[encoded data removed]",
      "text/plain": [
       "<matplotlib.figure.Figure at 0x12071c9b0>"
      ]
     },
     "metadata": {},
     "output_type": "display_data"
    }
   ],
   "source": [
    "plt.plot(range(1, 81), ss_variables['b_ss'][:-1], label = 'b_ss')\n",
    "plt.plot(range(1, 81), ss_variables['c_ss'], label = 'c_ss')\n",
    "plt.xlabel('Age')\n",
    "plt.title('Steady state distribution of consumption and savings by age')\n",
    "plt.legend()\n",
    "plt.show()"
   ]
  },
  {
   "cell_type": "code",
   "execution_count": 30,
   "metadata": {},
   "outputs": [],
   "source": [
    "params['n'] = np.array([1]*(int(S/2)) +[.2]*(int(S/2)))\n",
    "ss_variables_new = get_ss_b(np.ones(80)*0.1, params, functions)"
   ]
  },
  {
   "cell_type": "code",
   "execution_count": 33,
   "metadata": {
    "scrolled": true
   },
   "outputs": [
    {
     "data": {
      "image/png": "[encoded data removed]",
      "text/plain": [
       "<matplotlib.figure.Figure at 0x12059b978>"
      ]
     },
     "metadata": {},
     "output_type": "display_data"
    }
   ],
   "source": [
    "plt.plot(range(1, 81), ss_variables_new['b_ss'][:-1], label = 'b_ss')\n",
    "plt.plot(range(1, 81), ss_variables_new['c_ss'], label = 'c_ss')\n",
    "plt.xlabel('Age')\n",
    "plt.title('Steady state distribution of consumption and savings by \\\n",
    "            age given earlier retirement')\n",
    "plt.legend()\n",
    "plt.show()"
   ]
  },
  {
   "cell_type": "code",
   "execution_count": 34,
   "metadata": {},
   "outputs": [
    {
     "data": {
      "text/plain": [
       "'The general intuition can be that for savings, individuals save earlier in \\norder to have more capital once retired. This can be seen by looking at how the \\nblue curve has shifted to the left. It can also be observed that it has a higher\\npeak due to the fact that more savings need to be acculumated since retirement is \\nlater. Consumption on the other hand is fairly steady.'"
      ]
     },
     "execution_count": 34,
     "metadata": {},
     "output_type": "execute_result"
    }
   ],
   "source": [
    "\"\"\"The general intuition can be that for savings, individuals save earlier in \n",
    "order to have more capital once retired. This can be seen by looking at how the \n",
    "blue curve has shifted to the left. It can also be observed that it has a higher\n",
    "peak due to the fact that more savings need to be acculumated since retirement is \n",
    "later. Consumption on the other hand is fairly steady.\"\"\""
   ]
  },
  {
   "cell_type": "code",
   "execution_count": null,
   "metadata": {},
   "outputs": [],
   "source": []
  }
 ],
 "metadata": {
  "kernelspec": {
   "display_name": "Python 3",
   "language": "python",
   "name": "python3"
  },
  "language_info": {
   "codemirror_mode": {
    "name": "ipython",
    "version": 3
   },
   "file_extension": ".py",
   "mimetype": "text/x-python",
   "name": "python",
   "nbconvert_exporter": "python",
   "pygments_lexer": "ipython3",
   "version": "3.6.3"
  }
 },
 "nbformat": 4,
 "nbformat_minor": 2
}
